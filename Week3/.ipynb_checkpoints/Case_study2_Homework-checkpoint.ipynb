{
 "cells": [
  {
   "cell_type": "code",
   "execution_count": 1,
   "metadata": {},
   "outputs": [],
   "source": [
    "import os \n",
    "import pandas as pd \n",
    "import numpy as np \n",
    "from collections import Counter\n"
   ]
  },
  {
   "cell_type": "code",
   "execution_count": 2,
   "metadata": {},
   "outputs": [],
   "source": [
    "def count_words_fast(text): \n",
    "    text = text.lower() \n",
    "    skips = [\".\", \",\", \";\", \":\", \"'\", '\"', \"\\n\", \"!\", \"?\", \"(\", \")\"] \n",
    "    for ch in skips: \n",
    "        text = text.replace(ch, \"\") \n",
    "    word_counts = Counter(text.split(\" \")) \n",
    "    return word_counts"
   ]
  },
  {
   "cell_type": "code",
   "execution_count": 3,
   "metadata": {},
   "outputs": [],
   "source": [
    "def word_stats(word_counts): \n",
    "    num_unique = len(word_counts) \n",
    "    counts = word_counts.values() \n",
    "    return (num_unique, counts)"
   ]
  },
  {
   "cell_type": "code",
   "execution_count": 8,
   "metadata": {},
   "outputs": [],
   "source": [
    "hamlets = pd.read_csv('hamlets.csv')"
   ]
  },
  {
   "cell_type": "code",
   "execution_count": 9,
   "metadata": {},
   "outputs": [
    {
     "data": {
      "text/html": [
       "<div>\n",
       "<style scoped>\n",
       "    .dataframe tbody tr th:only-of-type {\n",
       "        vertical-align: middle;\n",
       "    }\n",
       "\n",
       "    .dataframe tbody tr th {\n",
       "        vertical-align: top;\n",
       "    }\n",
       "\n",
       "    .dataframe thead th {\n",
       "        text-align: right;\n",
       "    }\n",
       "</style>\n",
       "<table border=\"1\" class=\"dataframe\">\n",
       "  <thead>\n",
       "    <tr style=\"text-align: right;\">\n",
       "      <th></th>\n",
       "      <th>Unnamed: 0</th>\n",
       "      <th>language</th>\n",
       "      <th>text</th>\n",
       "    </tr>\n",
       "  </thead>\n",
       "  <tbody>\n",
       "    <tr>\n",
       "      <th>0</th>\n",
       "      <td>1</td>\n",
       "      <td>English</td>\n",
       "      <td>The Tragedie of Hamlet\\n                      ...</td>\n",
       "    </tr>\n",
       "    <tr>\n",
       "      <th>1</th>\n",
       "      <td>2</td>\n",
       "      <td>German</td>\n",
       "      <td>Hamlet, Prinz von Dännemark.\\n                ...</td>\n",
       "    </tr>\n",
       "    <tr>\n",
       "      <th>2</th>\n",
       "      <td>3</td>\n",
       "      <td>Portuguese</td>\n",
       "      <td>HAMLET\\n                             DRAMA EM ...</td>\n",
       "    </tr>\n",
       "  </tbody>\n",
       "</table>\n",
       "</div>"
      ],
      "text/plain": [
       "   Unnamed: 0    language                                               text\n",
       "0           1     English  The Tragedie of Hamlet\\n                      ...\n",
       "1           2      German  Hamlet, Prinz von Dännemark.\\n                ...\n",
       "2           3  Portuguese  HAMLET\\n                             DRAMA EM ..."
      ]
     },
     "execution_count": 9,
     "metadata": {},
     "output_type": "execute_result"
    }
   ],
   "source": [
    "hamlets"
   ]
  },
  {
   "cell_type": "code",
   "execution_count": 11,
   "metadata": {},
   "outputs": [],
   "source": [
    "a = hamlets.iloc[0]"
   ]
  },
  {
   "cell_type": "code",
   "execution_count": 40,
   "metadata": {},
   "outputs": [],
   "source": [
    "a = hamlets.iloc[0][2]"
   ]
  },
  {
   "cell_type": "code",
   "execution_count": 41,
   "metadata": {},
   "outputs": [],
   "source": [
    "a = a.replace(\"\\n\", \"\")"
   ]
  },
  {
   "cell_type": "code",
   "execution_count": 42,
   "metadata": {},
   "outputs": [],
   "source": [
    "b = count_words_fast(a)"
   ]
  },
  {
   "cell_type": "code",
   "execution_count": 44,
   "metadata": {},
   "outputs": [
    {
     "data": {
      "text/plain": [
       "collections.Counter"
      ]
     },
     "execution_count": 44,
     "metadata": {},
     "output_type": "execute_result"
    }
   ],
   "source": [
    "type(b)"
   ]
  },
  {
   "cell_type": "code",
   "execution_count": 49,
   "metadata": {},
   "outputs": [
    {
     "data": {
      "text/html": [
       "<div>\n",
       "<style scoped>\n",
       "    .dataframe tbody tr th:only-of-type {\n",
       "        vertical-align: middle;\n",
       "    }\n",
       "\n",
       "    .dataframe tbody tr th {\n",
       "        vertical-align: top;\n",
       "    }\n",
       "\n",
       "    .dataframe thead th {\n",
       "        text-align: right;\n",
       "    }\n",
       "</style>\n",
       "<table border=\"1\" class=\"dataframe\">\n",
       "  <thead>\n",
       "    <tr style=\"text-align: right;\">\n",
       "      <th></th>\n",
       "      <th>index</th>\n",
       "      <th>0</th>\n",
       "    </tr>\n",
       "  </thead>\n",
       "  <tbody>\n",
       "    <tr>\n",
       "      <th>0</th>\n",
       "      <td>the</td>\n",
       "      <td>935</td>\n",
       "    </tr>\n",
       "    <tr>\n",
       "      <th>1</th>\n",
       "      <td>tragedie</td>\n",
       "      <td>3</td>\n",
       "    </tr>\n",
       "    <tr>\n",
       "      <th>2</th>\n",
       "      <td>of</td>\n",
       "      <td>576</td>\n",
       "    </tr>\n",
       "    <tr>\n",
       "      <th>3</th>\n",
       "      <td>hamlet</td>\n",
       "      <td>97</td>\n",
       "    </tr>\n",
       "    <tr>\n",
       "      <th>4</th>\n",
       "      <td></td>\n",
       "      <td>45513</td>\n",
       "    </tr>\n",
       "    <tr>\n",
       "      <th>...</th>\n",
       "      <td>...</td>\n",
       "      <td>...</td>\n",
       "    </tr>\n",
       "    <tr>\n",
       "      <th>5108</th>\n",
       "      <td>shooteexeunt</td>\n",
       "      <td>1</td>\n",
       "    </tr>\n",
       "    <tr>\n",
       "      <th>5109</th>\n",
       "      <td>marching</td>\n",
       "      <td>1</td>\n",
       "    </tr>\n",
       "    <tr>\n",
       "      <th>5110</th>\n",
       "      <td>peale</td>\n",
       "      <td>1</td>\n",
       "    </tr>\n",
       "    <tr>\n",
       "      <th>5111</th>\n",
       "      <td>ord</td>\n",
       "      <td>1</td>\n",
       "    </tr>\n",
       "    <tr>\n",
       "      <th>5112</th>\n",
       "      <td>finis</td>\n",
       "      <td>1</td>\n",
       "    </tr>\n",
       "  </tbody>\n",
       "</table>\n",
       "<p>5113 rows × 2 columns</p>\n",
       "</div>"
      ],
      "text/plain": [
       "             index      0\n",
       "0              the    935\n",
       "1         tragedie      3\n",
       "2               of    576\n",
       "3           hamlet     97\n",
       "4                   45513\n",
       "...            ...    ...\n",
       "5108  shooteexeunt      1\n",
       "5109      marching      1\n",
       "5110         peale      1\n",
       "5111           ord      1\n",
       "5112         finis      1\n",
       "\n",
       "[5113 rows x 2 columns]"
      ]
     },
     "execution_count": 49,
     "metadata": {},
     "output_type": "execute_result"
    }
   ],
   "source": [
    "df = pd.DataFrame.from_dict(b, orient='index').reset_index()\n",
    "df"
   ]
  },
  {
   "cell_type": "code",
   "execution_count": 50,
   "metadata": {},
   "outputs": [],
   "source": [
    "df = df.rename(columns={'index':'word', 0:'count'})"
   ]
  },
  {
   "cell_type": "code",
   "execution_count": 72,
   "metadata": {},
   "outputs": [],
   "source": [
    "list = df['word'][0:5113]"
   ]
  },
  {
   "cell_type": "code",
   "execution_count": 73,
   "metadata": {},
   "outputs": [],
   "source": [
    "x = list[1]"
   ]
  },
  {
   "cell_type": "code",
   "execution_count": 74,
   "metadata": {},
   "outputs": [
    {
     "data": {
      "text/plain": [
       "8"
      ]
     },
     "execution_count": 74,
     "metadata": {},
     "output_type": "execute_result"
    }
   ],
   "source": [
    "y = len(x)\n",
    "y"
   ]
  },
  {
   "cell_type": "code",
   "execution_count": 75,
   "metadata": {},
   "outputs": [],
   "source": [
    "result = []\n",
    "for i in range(0,len(list)):\n",
    "    word = list[i]\n",
    "    word = len(word)\n",
    "    result.append(word)"
   ]
  },
  {
   "cell_type": "code",
   "execution_count": 76,
   "metadata": {},
   "outputs": [
    {
     "data": {
      "text/plain": [
       "5113"
      ]
     },
     "execution_count": 76,
     "metadata": {},
     "output_type": "execute_result"
    }
   ],
   "source": [
    "len(result)"
   ]
  },
  {
   "cell_type": "code",
   "execution_count": 77,
   "metadata": {},
   "outputs": [],
   "source": [
    "df['length']=result"
   ]
  },
  {
   "cell_type": "code",
   "execution_count": 78,
   "metadata": {},
   "outputs": [
    {
     "data": {
      "text/html": [
       "<div>\n",
       "<style scoped>\n",
       "    .dataframe tbody tr th:only-of-type {\n",
       "        vertical-align: middle;\n",
       "    }\n",
       "\n",
       "    .dataframe tbody tr th {\n",
       "        vertical-align: top;\n",
       "    }\n",
       "\n",
       "    .dataframe thead th {\n",
       "        text-align: right;\n",
       "    }\n",
       "</style>\n",
       "<table border=\"1\" class=\"dataframe\">\n",
       "  <thead>\n",
       "    <tr style=\"text-align: right;\">\n",
       "      <th></th>\n",
       "      <th>word</th>\n",
       "      <th>count</th>\n",
       "      <th>length</th>\n",
       "    </tr>\n",
       "  </thead>\n",
       "  <tbody>\n",
       "    <tr>\n",
       "      <th>0</th>\n",
       "      <td>the</td>\n",
       "      <td>935</td>\n",
       "      <td>3</td>\n",
       "    </tr>\n",
       "    <tr>\n",
       "      <th>1</th>\n",
       "      <td>tragedie</td>\n",
       "      <td>3</td>\n",
       "      <td>8</td>\n",
       "    </tr>\n",
       "    <tr>\n",
       "      <th>2</th>\n",
       "      <td>of</td>\n",
       "      <td>576</td>\n",
       "      <td>2</td>\n",
       "    </tr>\n",
       "    <tr>\n",
       "      <th>3</th>\n",
       "      <td>hamlet</td>\n",
       "      <td>97</td>\n",
       "      <td>6</td>\n",
       "    </tr>\n",
       "    <tr>\n",
       "      <th>4</th>\n",
       "      <td></td>\n",
       "      <td>45513</td>\n",
       "      <td>0</td>\n",
       "    </tr>\n",
       "    <tr>\n",
       "      <th>...</th>\n",
       "      <td>...</td>\n",
       "      <td>...</td>\n",
       "      <td>...</td>\n",
       "    </tr>\n",
       "    <tr>\n",
       "      <th>5108</th>\n",
       "      <td>shooteexeunt</td>\n",
       "      <td>1</td>\n",
       "      <td>12</td>\n",
       "    </tr>\n",
       "    <tr>\n",
       "      <th>5109</th>\n",
       "      <td>marching</td>\n",
       "      <td>1</td>\n",
       "      <td>8</td>\n",
       "    </tr>\n",
       "    <tr>\n",
       "      <th>5110</th>\n",
       "      <td>peale</td>\n",
       "      <td>1</td>\n",
       "      <td>5</td>\n",
       "    </tr>\n",
       "    <tr>\n",
       "      <th>5111</th>\n",
       "      <td>ord</td>\n",
       "      <td>1</td>\n",
       "      <td>3</td>\n",
       "    </tr>\n",
       "    <tr>\n",
       "      <th>5112</th>\n",
       "      <td>finis</td>\n",
       "      <td>1</td>\n",
       "      <td>5</td>\n",
       "    </tr>\n",
       "  </tbody>\n",
       "</table>\n",
       "<p>5113 rows × 3 columns</p>\n",
       "</div>"
      ],
      "text/plain": [
       "              word  count  length\n",
       "0              the    935       3\n",
       "1         tragedie      3       8\n",
       "2               of    576       2\n",
       "3           hamlet     97       6\n",
       "4                   45513       0\n",
       "...            ...    ...     ...\n",
       "5108  shooteexeunt      1      12\n",
       "5109      marching      1       8\n",
       "5110         peale      1       5\n",
       "5111           ord      1       3\n",
       "5112         finis      1       5\n",
       "\n",
       "[5113 rows x 3 columns]"
      ]
     },
     "execution_count": 78,
     "metadata": {},
     "output_type": "execute_result"
    }
   ],
   "source": [
    "df"
   ]
  },
  {
   "cell_type": "code",
   "execution_count": null,
   "metadata": {},
   "outputs": [],
   "source": [
    "del result"
   ]
  },
  {
   "cell_type": "code",
   "execution_count": 81,
   "metadata": {},
   "outputs": [],
   "source": [
    "c = df['count'][0:5113]"
   ]
  },
  {
   "cell_type": "code",
   "execution_count": 88,
   "metadata": {},
   "outputs": [],
   "source": [
    "result = []\n",
    "for i in range(0,len(c)):\n",
    "    var = c[i]\n",
    "    if var > 10:\n",
    "        freq = 'frequent'\n",
    "        result.append(freq)\n",
    "    elif var > 1 & var <= 10:\n",
    "        freq = 'infrequent'\n",
    "        result.append(freq)\n",
    "    elif var == 1:\n",
    "        freq = 'unique'\n",
    "        result.append(freq)"
   ]
  },
  {
   "cell_type": "code",
   "execution_count": 91,
   "metadata": {},
   "outputs": [
    {
     "data": {
      "text/plain": [
       "5113"
      ]
     },
     "execution_count": 91,
     "metadata": {},
     "output_type": "execute_result"
    }
   ],
   "source": [
    "len(result)"
   ]
  },
  {
   "cell_type": "code",
   "execution_count": 93,
   "metadata": {},
   "outputs": [],
   "source": [
    "df['frequency']=result"
   ]
  },
  {
   "cell_type": "code",
   "execution_count": 94,
   "metadata": {},
   "outputs": [
    {
     "data": {
      "text/html": [
       "<div>\n",
       "<style scoped>\n",
       "    .dataframe tbody tr th:only-of-type {\n",
       "        vertical-align: middle;\n",
       "    }\n",
       "\n",
       "    .dataframe tbody tr th {\n",
       "        vertical-align: top;\n",
       "    }\n",
       "\n",
       "    .dataframe thead th {\n",
       "        text-align: right;\n",
       "    }\n",
       "</style>\n",
       "<table border=\"1\" class=\"dataframe\">\n",
       "  <thead>\n",
       "    <tr style=\"text-align: right;\">\n",
       "      <th></th>\n",
       "      <th>word</th>\n",
       "      <th>count</th>\n",
       "      <th>length</th>\n",
       "      <th>frequency</th>\n",
       "    </tr>\n",
       "  </thead>\n",
       "  <tbody>\n",
       "    <tr>\n",
       "      <th>0</th>\n",
       "      <td>the</td>\n",
       "      <td>935</td>\n",
       "      <td>3</td>\n",
       "      <td>frequent</td>\n",
       "    </tr>\n",
       "    <tr>\n",
       "      <th>1</th>\n",
       "      <td>tragedie</td>\n",
       "      <td>3</td>\n",
       "      <td>8</td>\n",
       "      <td>infrequent</td>\n",
       "    </tr>\n",
       "    <tr>\n",
       "      <th>2</th>\n",
       "      <td>of</td>\n",
       "      <td>576</td>\n",
       "      <td>2</td>\n",
       "      <td>frequent</td>\n",
       "    </tr>\n",
       "    <tr>\n",
       "      <th>3</th>\n",
       "      <td>hamlet</td>\n",
       "      <td>97</td>\n",
       "      <td>6</td>\n",
       "      <td>frequent</td>\n",
       "    </tr>\n",
       "    <tr>\n",
       "      <th>4</th>\n",
       "      <td></td>\n",
       "      <td>45513</td>\n",
       "      <td>0</td>\n",
       "      <td>frequent</td>\n",
       "    </tr>\n",
       "    <tr>\n",
       "      <th>...</th>\n",
       "      <td>...</td>\n",
       "      <td>...</td>\n",
       "      <td>...</td>\n",
       "      <td>...</td>\n",
       "    </tr>\n",
       "    <tr>\n",
       "      <th>5108</th>\n",
       "      <td>shooteexeunt</td>\n",
       "      <td>1</td>\n",
       "      <td>12</td>\n",
       "      <td>unique</td>\n",
       "    </tr>\n",
       "    <tr>\n",
       "      <th>5109</th>\n",
       "      <td>marching</td>\n",
       "      <td>1</td>\n",
       "      <td>8</td>\n",
       "      <td>unique</td>\n",
       "    </tr>\n",
       "    <tr>\n",
       "      <th>5110</th>\n",
       "      <td>peale</td>\n",
       "      <td>1</td>\n",
       "      <td>5</td>\n",
       "      <td>unique</td>\n",
       "    </tr>\n",
       "    <tr>\n",
       "      <th>5111</th>\n",
       "      <td>ord</td>\n",
       "      <td>1</td>\n",
       "      <td>3</td>\n",
       "      <td>unique</td>\n",
       "    </tr>\n",
       "    <tr>\n",
       "      <th>5112</th>\n",
       "      <td>finis</td>\n",
       "      <td>1</td>\n",
       "      <td>5</td>\n",
       "      <td>unique</td>\n",
       "    </tr>\n",
       "  </tbody>\n",
       "</table>\n",
       "<p>5113 rows × 4 columns</p>\n",
       "</div>"
      ],
      "text/plain": [
       "              word  count  length   frequency\n",
       "0              the    935       3    frequent\n",
       "1         tragedie      3       8  infrequent\n",
       "2               of    576       2    frequent\n",
       "3           hamlet     97       6    frequent\n",
       "4                   45513       0    frequent\n",
       "...            ...    ...     ...         ...\n",
       "5108  shooteexeunt      1      12      unique\n",
       "5109      marching      1       8      unique\n",
       "5110         peale      1       5      unique\n",
       "5111           ord      1       3      unique\n",
       "5112         finis      1       5      unique\n",
       "\n",
       "[5113 rows x 4 columns]"
      ]
     },
     "execution_count": 94,
     "metadata": {},
     "output_type": "execute_result"
    }
   ],
   "source": [
    "df"
   ]
  },
  {
   "cell_type": "code",
   "execution_count": 111,
   "metadata": {},
   "outputs": [
    {
     "data": {
      "text/plain": [
       "3348"
      ]
     },
     "execution_count": 111,
     "metadata": {},
     "output_type": "execute_result"
    }
   ],
   "source": [
    "a = df[df['frequency'] == 'unique']\n",
    "len(a)"
   ]
  },
  {
   "cell_type": "code",
   "execution_count": 112,
   "metadata": {},
   "outputs": [
    {
     "data": {
      "text/html": [
       "<div>\n",
       "<style scoped>\n",
       "    .dataframe tbody tr th:only-of-type {\n",
       "        vertical-align: middle;\n",
       "    }\n",
       "\n",
       "    .dataframe tbody tr th {\n",
       "        vertical-align: top;\n",
       "    }\n",
       "\n",
       "    .dataframe thead th {\n",
       "        text-align: right;\n",
       "    }\n",
       "</style>\n",
       "<table border=\"1\" class=\"dataframe\">\n",
       "  <thead>\n",
       "    <tr style=\"text-align: right;\">\n",
       "      <th></th>\n",
       "      <th>word</th>\n",
       "      <th>count</th>\n",
       "      <th>length</th>\n",
       "      <th>frequency</th>\n",
       "    </tr>\n",
       "  </thead>\n",
       "  <tbody>\n",
       "    <tr>\n",
       "      <th>6</th>\n",
       "      <td>primus</td>\n",
       "      <td>1</td>\n",
       "      <td>6</td>\n",
       "      <td>unique</td>\n",
       "    </tr>\n",
       "    <tr>\n",
       "      <th>7</th>\n",
       "      <td>scoena</td>\n",
       "      <td>1</td>\n",
       "      <td>6</td>\n",
       "      <td>unique</td>\n",
       "    </tr>\n",
       "    <tr>\n",
       "      <th>8</th>\n",
       "      <td>prima</td>\n",
       "      <td>1</td>\n",
       "      <td>5</td>\n",
       "      <td>unique</td>\n",
       "    </tr>\n",
       "    <tr>\n",
       "      <th>12</th>\n",
       "      <td>francisco</td>\n",
       "      <td>1</td>\n",
       "      <td>9</td>\n",
       "      <td>unique</td>\n",
       "    </tr>\n",
       "    <tr>\n",
       "      <th>14</th>\n",
       "      <td>centinels</td>\n",
       "      <td>1</td>\n",
       "      <td>9</td>\n",
       "      <td>unique</td>\n",
       "    </tr>\n",
       "    <tr>\n",
       "      <th>...</th>\n",
       "      <td>...</td>\n",
       "      <td>...</td>\n",
       "      <td>...</td>\n",
       "      <td>...</td>\n",
       "    </tr>\n",
       "    <tr>\n",
       "      <th>5108</th>\n",
       "      <td>shooteexeunt</td>\n",
       "      <td>1</td>\n",
       "      <td>12</td>\n",
       "      <td>unique</td>\n",
       "    </tr>\n",
       "    <tr>\n",
       "      <th>5109</th>\n",
       "      <td>marching</td>\n",
       "      <td>1</td>\n",
       "      <td>8</td>\n",
       "      <td>unique</td>\n",
       "    </tr>\n",
       "    <tr>\n",
       "      <th>5110</th>\n",
       "      <td>peale</td>\n",
       "      <td>1</td>\n",
       "      <td>5</td>\n",
       "      <td>unique</td>\n",
       "    </tr>\n",
       "    <tr>\n",
       "      <th>5111</th>\n",
       "      <td>ord</td>\n",
       "      <td>1</td>\n",
       "      <td>3</td>\n",
       "      <td>unique</td>\n",
       "    </tr>\n",
       "    <tr>\n",
       "      <th>5112</th>\n",
       "      <td>finis</td>\n",
       "      <td>1</td>\n",
       "      <td>5</td>\n",
       "      <td>unique</td>\n",
       "    </tr>\n",
       "  </tbody>\n",
       "</table>\n",
       "<p>3348 rows × 4 columns</p>\n",
       "</div>"
      ],
      "text/plain": [
       "              word  count  length frequency\n",
       "6           primus      1       6    unique\n",
       "7           scoena      1       6    unique\n",
       "8            prima      1       5    unique\n",
       "12       francisco      1       9    unique\n",
       "14       centinels      1       9    unique\n",
       "...            ...    ...     ...       ...\n",
       "5108  shooteexeunt      1      12    unique\n",
       "5109      marching      1       8    unique\n",
       "5110         peale      1       5    unique\n",
       "5111           ord      1       3    unique\n",
       "5112         finis      1       5    unique\n",
       "\n",
       "[3348 rows x 4 columns]"
      ]
     },
     "execution_count": 112,
     "metadata": {},
     "output_type": "execute_result"
    }
   ],
   "source": [
    "a"
   ]
  },
  {
   "cell_type": "code",
   "execution_count": 113,
   "metadata": {},
   "outputs": [],
   "source": [
    "del result"
   ]
  },
  {
   "cell_type": "code",
   "execution_count": 114,
   "metadata": {},
   "outputs": [],
   "source": [
    "result = []\n",
    "for i in range(0,5113):\n",
    "    lan = 'English'\n",
    "    result.append(lan)"
   ]
  },
  {
   "cell_type": "markdown",
   "metadata": {},
   "source": [
    "### Summarize the statistics"
   ]
  },
  {
   "cell_type": "code",
   "execution_count": 118,
   "metadata": {},
   "outputs": [],
   "source": [
    "del data"
   ]
  },
  {
   "cell_type": "code",
   "execution_count": 119,
   "metadata": {},
   "outputs": [],
   "source": [
    "lan = ['English', 'German', 'Portuguese']"
   ]
  },
  {
   "cell_type": "code",
   "execution_count": 120,
   "metadata": {},
   "outputs": [],
   "source": [
    "fre = ['frequent', 'infrequent', 'unique']"
   ]
  },
  {
   "cell_type": "code",
   "execution_count": 122,
   "metadata": {},
   "outputs": [],
   "source": [
    "d = {'language': lan,\n",
    "    'frequency': fre}"
   ]
  },
  {
   "cell_type": "code",
   "execution_count": 124,
   "metadata": {},
   "outputs": [
    {
     "data": {
      "text/html": [
       "<div>\n",
       "<style scoped>\n",
       "    .dataframe tbody tr th:only-of-type {\n",
       "        vertical-align: middle;\n",
       "    }\n",
       "\n",
       "    .dataframe tbody tr th {\n",
       "        vertical-align: top;\n",
       "    }\n",
       "\n",
       "    .dataframe thead th {\n",
       "        text-align: right;\n",
       "    }\n",
       "</style>\n",
       "<table border=\"1\" class=\"dataframe\">\n",
       "  <thead>\n",
       "    <tr style=\"text-align: right;\">\n",
       "      <th></th>\n",
       "      <th>language</th>\n",
       "      <th>frequency</th>\n",
       "    </tr>\n",
       "  </thead>\n",
       "  <tbody>\n",
       "    <tr>\n",
       "      <th>0</th>\n",
       "      <td>English</td>\n",
       "      <td>frequent</td>\n",
       "    </tr>\n",
       "    <tr>\n",
       "      <th>1</th>\n",
       "      <td>German</td>\n",
       "      <td>infrequent</td>\n",
       "    </tr>\n",
       "    <tr>\n",
       "      <th>2</th>\n",
       "      <td>Portuguese</td>\n",
       "      <td>unique</td>\n",
       "    </tr>\n",
       "  </tbody>\n",
       "</table>\n",
       "</div>"
      ],
      "text/plain": [
       "     language   frequency\n",
       "0     English    frequent\n",
       "1      German  infrequent\n",
       "2  Portuguese      unique"
      ]
     },
     "execution_count": 124,
     "metadata": {},
     "output_type": "execute_result"
    }
   ],
   "source": [
    "sub_data = pd.DataFrame(data=d)\n",
    "sub_data"
   ]
  },
  {
   "cell_type": "code",
   "execution_count": 135,
   "metadata": {},
   "outputs": [
    {
     "data": {
      "text/plain": [
       "7.005675029868578"
      ]
     },
     "execution_count": 135,
     "metadata": {},
     "output_type": "execute_result"
    }
   ],
   "source": [
    "a = df[df['frequency'] == 'unique']\n",
    "a.loc[:,\"length\"].mean()"
   ]
  },
  {
   "cell_type": "code",
   "execution_count": 136,
   "metadata": {},
   "outputs": [
    {
     "data": {
      "text/plain": [
       "3348"
      ]
     },
     "execution_count": 136,
     "metadata": {},
     "output_type": "execute_result"
    }
   ],
   "source": [
    "len(a)"
   ]
  },
  {
   "cell_type": "code",
   "execution_count": 138,
   "metadata": {},
   "outputs": [
    {
     "data": {
      "text/plain": [
       "5.825242718446602"
      ]
     },
     "execution_count": 138,
     "metadata": {},
     "output_type": "execute_result"
    }
   ],
   "source": [
    "b = df[df['frequency'] == 'infrequent']\n",
    "b.loc[:,\"length\"].mean()"
   ]
  },
  {
   "cell_type": "code",
   "execution_count": 139,
   "metadata": {},
   "outputs": [
    {
     "data": {
      "text/plain": [
       "1442"
      ]
     },
     "execution_count": 139,
     "metadata": {},
     "output_type": "execute_result"
    }
   ],
   "source": [
    "len(b)"
   ]
  },
  {
   "cell_type": "code",
   "execution_count": 140,
   "metadata": {},
   "outputs": [
    {
     "data": {
      "text/plain": [
       "4.371517027863777"
      ]
     },
     "execution_count": 140,
     "metadata": {},
     "output_type": "execute_result"
    }
   ],
   "source": [
    "c = df[df['frequency'] == 'frequent']\n",
    "c.loc[:,\"length\"].mean()"
   ]
  },
  {
   "cell_type": "code",
   "execution_count": 141,
   "metadata": {},
   "outputs": [
    {
     "data": {
      "text/plain": [
       "323"
      ]
     },
     "execution_count": 141,
     "metadata": {},
     "output_type": "execute_result"
    }
   ],
   "source": [
    "len(c)"
   ]
  },
  {
   "cell_type": "code",
   "execution_count": 142,
   "metadata": {},
   "outputs": [],
   "source": [
    "meanword = [a.loc[:,\"length\"].mean(), b.loc[:,\"length\"].mean(), c.loc[:,\"length\"].mean()]"
   ]
  },
  {
   "cell_type": "code",
   "execution_count": 143,
   "metadata": {},
   "outputs": [],
   "source": [
    "num = [len(a), len(b), len(c)]"
   ]
  },
  {
   "cell_type": "code",
   "execution_count": 144,
   "metadata": {},
   "outputs": [],
   "source": [
    "sub_data['mean_word_length']=meanword"
   ]
  },
  {
   "cell_type": "code",
   "execution_count": 145,
   "metadata": {},
   "outputs": [],
   "source": [
    "sub_data['num_words']=num"
   ]
  },
  {
   "cell_type": "code",
   "execution_count": 146,
   "metadata": {},
   "outputs": [
    {
     "data": {
      "text/html": [
       "<div>\n",
       "<style scoped>\n",
       "    .dataframe tbody tr th:only-of-type {\n",
       "        vertical-align: middle;\n",
       "    }\n",
       "\n",
       "    .dataframe tbody tr th {\n",
       "        vertical-align: top;\n",
       "    }\n",
       "\n",
       "    .dataframe thead th {\n",
       "        text-align: right;\n",
       "    }\n",
       "</style>\n",
       "<table border=\"1\" class=\"dataframe\">\n",
       "  <thead>\n",
       "    <tr style=\"text-align: right;\">\n",
       "      <th></th>\n",
       "      <th>language</th>\n",
       "      <th>frequency</th>\n",
       "      <th>mean_word_length</th>\n",
       "      <th>num_words</th>\n",
       "    </tr>\n",
       "  </thead>\n",
       "  <tbody>\n",
       "    <tr>\n",
       "      <th>0</th>\n",
       "      <td>English</td>\n",
       "      <td>frequent</td>\n",
       "      <td>7.005675</td>\n",
       "      <td>3348</td>\n",
       "    </tr>\n",
       "    <tr>\n",
       "      <th>1</th>\n",
       "      <td>German</td>\n",
       "      <td>infrequent</td>\n",
       "      <td>5.825243</td>\n",
       "      <td>1442</td>\n",
       "    </tr>\n",
       "    <tr>\n",
       "      <th>2</th>\n",
       "      <td>Portuguese</td>\n",
       "      <td>unique</td>\n",
       "      <td>4.371517</td>\n",
       "      <td>323</td>\n",
       "    </tr>\n",
       "  </tbody>\n",
       "</table>\n",
       "</div>"
      ],
      "text/plain": [
       "     language   frequency  mean_word_length  num_words\n",
       "0     English    frequent          7.005675       3348\n",
       "1      German  infrequent          5.825243       1442\n",
       "2  Portuguese      unique          4.371517        323"
      ]
     },
     "execution_count": 146,
     "metadata": {},
     "output_type": "execute_result"
    }
   ],
   "source": [
    "sub_data"
   ]
  },
  {
   "cell_type": "markdown",
   "metadata": {},
   "source": [
    "### Summarize all book"
   ]
  },
  {
   "cell_type": "code",
   "execution_count": 153,
   "metadata": {},
   "outputs": [
    {
     "data": {
      "text/html": [
       "<div>\n",
       "<style scoped>\n",
       "    .dataframe tbody tr th:only-of-type {\n",
       "        vertical-align: middle;\n",
       "    }\n",
       "\n",
       "    .dataframe tbody tr th {\n",
       "        vertical-align: top;\n",
       "    }\n",
       "\n",
       "    .dataframe thead th {\n",
       "        text-align: right;\n",
       "    }\n",
       "</style>\n",
       "<table border=\"1\" class=\"dataframe\">\n",
       "  <thead>\n",
       "    <tr style=\"text-align: right;\">\n",
       "      <th></th>\n",
       "      <th>Unnamed: 0</th>\n",
       "      <th>language</th>\n",
       "      <th>text</th>\n",
       "    </tr>\n",
       "  </thead>\n",
       "  <tbody>\n",
       "    <tr>\n",
       "      <th>0</th>\n",
       "      <td>1</td>\n",
       "      <td>English</td>\n",
       "      <td>The Tragedie of Hamlet\\n                      ...</td>\n",
       "    </tr>\n",
       "    <tr>\n",
       "      <th>1</th>\n",
       "      <td>2</td>\n",
       "      <td>German</td>\n",
       "      <td>Hamlet, Prinz von Dännemark.\\n                ...</td>\n",
       "    </tr>\n",
       "    <tr>\n",
       "      <th>2</th>\n",
       "      <td>3</td>\n",
       "      <td>Portuguese</td>\n",
       "      <td>HAMLET\\n                             DRAMA EM ...</td>\n",
       "    </tr>\n",
       "  </tbody>\n",
       "</table>\n",
       "</div>"
      ],
      "text/plain": [
       "   Unnamed: 0    language                                               text\n",
       "0           1     English  The Tragedie of Hamlet\\n                      ...\n",
       "1           2      German  Hamlet, Prinz von Dännemark.\\n                ...\n",
       "2           3  Portuguese  HAMLET\\n                             DRAMA EM ..."
      ]
     },
     "execution_count": 153,
     "metadata": {},
     "output_type": "execute_result"
    }
   ],
   "source": [
    "hamlets = pd.read_csv('hamlets.csv')\n",
    "hamlets"
   ]
  },
  {
   "cell_type": "code",
   "execution_count": 165,
   "metadata": {},
   "outputs": [
    {
     "data": {
      "text/plain": [
       "'English'"
      ]
     },
     "execution_count": 165,
     "metadata": {},
     "output_type": "execute_result"
    }
   ],
   "source": [
    "a = hamlets.iloc[0][1]\n",
    "a"
   ]
  },
  {
   "cell_type": "code",
   "execution_count": 169,
   "metadata": {},
   "outputs": [],
   "source": [
    "b = hamlets.iloc[0][2]"
   ]
  },
  {
   "cell_type": "code",
   "execution_count": 171,
   "metadata": {},
   "outputs": [],
   "source": [
    "def count_words_fast(text):\n",
    "    \"\"\"\n",
    "    Count the number of times each word occurs in text (str). Return dictionary\n",
    "    where keys are unique words and values are word counts. Skip punctuation \n",
    "    \"\"\"    \n",
    "    text = text.lower()\n",
    "    skips = [\".\", \",\", \";\", \":\", \" ' \",  ' \"  ']\n",
    "    for ch in skips:\n",
    "        text = text.replace(ch, \"\")\n",
    "        \n",
    "    word_counts = Counter(text.split(\" \"))\n",
    "    return word_counts"
   ]
  },
  {
   "cell_type": "code",
   "execution_count": 172,
   "metadata": {},
   "outputs": [],
   "source": [
    "def summarize_text(language, text):\n",
    "    counted_text = count_words_fast(text)\n",
    "\n",
    "    data = pd.DataFrame({\n",
    "        \"word\": list(counted_text.keys()),\n",
    "        \"count\": list(counted_text.values())\n",
    "    })\n",
    "    \n",
    "    data.loc[data[\"count\"] > 10,  \"frequency\"] = \"frequent\"\n",
    "    data.loc[data[\"count\"] <= 10, \"frequency\"] = \"infrequent\"\n",
    "    data.loc[data[\"count\"] == 1,  \"frequency\"] = \"unique\"\n",
    "    \n",
    "    data[\"length\"] = data[\"word\"].apply(len)\n",
    "    \n",
    "    sub_data = pd.DataFrame({\n",
    "        \"language\": language,\n",
    "        \"frequency\": [\"frequent\",\"infrequent\",\"unique\"],\n",
    "        \"mean_word_length\": data.groupby(by = \"frequency\")[\"length\"].mean(),\n",
    "        \"num_words\": data.groupby(by = \"frequency\").size()\n",
    "    })\n",
    "    \n",
    "    return(sub_data)"
   ]
  },
  {
   "cell_type": "code",
   "execution_count": 170,
   "metadata": {},
   "outputs": [
    {
     "ename": "TypeError",
     "evalue": "'Series' object is not callable",
     "output_type": "error",
     "traceback": [
      "\u001b[1;31m---------------------------------------------------------------------------\u001b[0m",
      "\u001b[1;31mTypeError\u001b[0m                                 Traceback (most recent call last)",
      "\u001b[1;32m<ipython-input-170-7d719142ae4c>\u001b[0m in \u001b[0;36m<module>\u001b[1;34m\u001b[0m\n\u001b[1;32m----> 1\u001b[1;33m \u001b[0msummarize_text\u001b[0m\u001b[1;33m(\u001b[0m\u001b[0ma\u001b[0m\u001b[1;33m,\u001b[0m\u001b[0mb\u001b[0m\u001b[1;33m)\u001b[0m\u001b[1;33m\u001b[0m\u001b[1;33m\u001b[0m\u001b[0m\n\u001b[0m",
      "\u001b[1;32m<ipython-input-147-1facbbc1b710>\u001b[0m in \u001b[0;36msummarize_text\u001b[1;34m(language, text)\u001b[0m\n\u001b[0;32m      3\u001b[0m \u001b[1;33m\u001b[0m\u001b[0m\n\u001b[0;32m      4\u001b[0m     data = pd.DataFrame({\n\u001b[1;32m----> 5\u001b[1;33m         \u001b[1;34m\"word\"\u001b[0m\u001b[1;33m:\u001b[0m \u001b[0mlist\u001b[0m\u001b[1;33m(\u001b[0m\u001b[0mcounted_text\u001b[0m\u001b[1;33m.\u001b[0m\u001b[0mkeys\u001b[0m\u001b[1;33m(\u001b[0m\u001b[1;33m)\u001b[0m\u001b[1;33m)\u001b[0m\u001b[1;33m,\u001b[0m\u001b[1;33m\u001b[0m\u001b[1;33m\u001b[0m\u001b[0m\n\u001b[0m\u001b[0;32m      6\u001b[0m         \u001b[1;34m\"count\"\u001b[0m\u001b[1;33m:\u001b[0m \u001b[0mlist\u001b[0m\u001b[1;33m(\u001b[0m\u001b[0mcounted_text\u001b[0m\u001b[1;33m.\u001b[0m\u001b[0mvalues\u001b[0m\u001b[1;33m(\u001b[0m\u001b[1;33m)\u001b[0m\u001b[1;33m)\u001b[0m\u001b[1;33m\u001b[0m\u001b[1;33m\u001b[0m\u001b[0m\n\u001b[0;32m      7\u001b[0m     })\n",
      "\u001b[1;31mTypeError\u001b[0m: 'Series' object is not callable"
     ]
    }
   ],
   "source": [
    "summarize_text(a,b)"
   ]
  },
  {
   "cell_type": "code",
   "execution_count": 175,
   "metadata": {},
   "outputs": [],
   "source": [
    "counted_text = count_words_fast(b)"
   ]
  },
  {
   "cell_type": "code",
   "execution_count": 180,
   "metadata": {},
   "outputs": [],
   "source": [
    "def getList(dict): \n",
    "    return dict.keys() "
   ]
  },
  {
   "cell_type": "code",
   "execution_count": 183,
   "metadata": {},
   "outputs": [
    {
     "data": {
      "text/plain": [
       "dict_keys(['the', 'tragedie', 'of', 'hamlet\\n', '', 'actus', 'primus', 'scoena', 'prima\\n', 'enter', 'barnardo', 'and', 'francisco', 'two', 'centinels\\n', 'whos', 'there\\n', 'fran', 'nay', 'answer', 'me', 'stand', 'vnfold\\n', 'your', 'selfe\\n', 'bar', 'long', 'liue', 'king\\n', 'barnardo\\n', 'he\\n', 'you', 'come', 'most', 'carefully', 'vpon', 'houre\\n', 'tis', 'now', 'strook', 'twelue', 'get', 'thee', 'to', 'bed', 'f\\n', 'for', 'this', 'releefe', 'much', 'thankes', 'bitt\\n', 'i', 'am', 'sicke', 'at', 'heart\\n', 'barn', 'haue', 'had', 'quiet', 'guard\\n', 'not', 'a', 'mouse', 'stirring\\n', 'well', 'goodnight', 'if', 'do', 'meet', 'horatio', 'and\\nmarcellus', 'riuals', 'my', 'watch', 'bid', 'them', 'make\\n', 'marcellus\\n', 'thinke', 'heare', 'hor', 'friends', 'ground\\n', 'mar', 'leigemen', 'dane\\n', 'giue', 'good', 'night\\n', 'o', 'farwel', 'honest', 'soldier', 'who', 'hath', 'relieu\\n', 'fra', 'has', 'place', 'goodnight\\n', 'exit', 'fran\\n', 'holla', 'say', 'what', 'is', 'peece', 'him\\n', 'welcome', 'thing', 'appeard', 'againe', 'n\\n', 'seene', 'nothing\\n', 'saies', 'but', 'our', 'fantasie\\n', 'will', 'let', 'beleefe', 'take', 'hold', 'touching', 'dreaded', 'sight', 'twice', 'vs\\n', 'therefore', 'intreated', 'him', 'along\\n', 'with', 'vs', 'minutes', 'that', 'apparition', 'come\\n', 'he', 'may', 'approue', 'eyes', 'speake', 'it\\n', 'tush', 'twill', 'appeare\\n', 'sit', 'downe', 'awhile\\n', 'once', 'assaile', 'eares\\n', 'are', 'so', 'fortified', 'against', 'story\\n', 'we', 'nights', 'seene\\n', 'downe\\n', 'this\\n', 'last', 'night', 'all\\nwhen', 'yond', 'same', 'starre', 'thats', 'westward', 'from', '\\n', 'made', 'his', 'course', 't', 'illume', 'part', 'heauen\\n', 'where', 'it', 'burnes', 'marcellus', 'bell', 'then', 'beating', 'one\\n', 'peace', 'breake', 'of\\n', 'ghost\\n', 'looke', 'comes', 'againe\\n', 'in', 'figure', 'like', 'king', 'thats\\n', 'thou', 'art', 'scholler', 'horatio\\n', 'lookes', 'marke', 'h\\n', 'hora', 'harrowes', 'fear', 'wo\\n', 'would', 'be', 'spoke', 'too\\n', 'question', 'vsurpst', 'time', 'together', 'faire', 'warlike', 'forme\\n', 'which', 'maiesty', 'buried', 'denmarke\\ndid', 'sometimes', 'march', 'by', 'heauen', 'charge', 'sp\\n', 'offended\\n', 'see', 'stalkes', 'away\\n', 'stay', 'speake\\n', 'gone', 'answer\\n', 'how', 'tremble', 'look', 'pale\\n', 'something', 'more', 'ont\\n', 'before', 'god', 'might', 'beleeue\\n', 'without', 'sensible', 'true', 'auouch\\n', 'mine', 'owne', 'eyes\\n', 'as', 'thy', 'such', 'was', 'very', 'armour', 'on\\n', 'when', 'th', 'ambitious', 'norwey', 'combatted\\n', 'frownd', 'an', 'angry', 'parle\\n', 'smot', 'sledded', 'pollax', 'on', 'ice\\n', 'strange\\n', 'thus', 'iust', 'dead\\n', 'martiall', 'stalke', 'watch\\n', 'particular', 'thought', 'work', 'kn\\n', 'grosse', 'scope', 'opinion\\n', 'boades', 'some', 'strange', 'erruption', 'state\\n', 'tell', 'knowes\\n', 'why', 'strict', 'obseruant', 'nightly', 'toyles', 'subiect', 'land\\n', 'dayly', 'cast', 'brazon', 'cannon\\n', 'forraigne', 'mart', 'implements', 'warre\\nwhy', 'impresse', 'shipwrights', 'whose', 'sore', 'taske\\n', 'dos', 'diuide', 'sunday', 'weeke\\n', 'toward', 'sweaty', 'hast\\n', 'doth', 'make', 'ioyntlabourer', 'day\\n', 'ist', 'can', 'informe', 'me\\n', 'i\\n', 'least', 'whisper', 'goes', 'image', 'euen', 'know', 'fortinbras', 'norway\\n', 'thereto', 'prickd', 'emulate', 'pride\\n', 'dard', 'combate', 'valiant', 'side', 'knowne', 'world', 'esteemd', 'did', 'slay', 'seald', 'compact\\n', 'ratified', 'law', 'heraldrie\\n', 'forfeite', 'life', 'all', 'those', 'lands\\n', 'stood', 'seizd', 'conqueror\\n', 'moity', 'competent\\n', 'gaged', 'returnd\\n', 'inheritance', 'fortinbras\\n', 'bin', 'vanquisher', 'counant\\n', 'carriage', 'article', 'designe\\n', 'fell', 'hamlet', 'sir', 'young', 'vnimproued', 'mettle', 'hot', 'full\\n', 'skirts', 'norway', 'heere', 'sharkd', 'vp', 'list', 'landlesse', 'resolutes\\n', 'foode', 'diet', 'enterprize\\n', 'stomacke', 'int', 'no', 'other\\n', 'appeare', 'vnto', 'recouer', 'strong', 'hand\\n', 'termes', 'compulsatiue', 'foresaid', 'father', 'lost', 'maine', 'motiue', 'preparations\\n', 'sourse', 'cheefe', 'head\\n', 'posthast', 'romage', 'ghost', 'soft', 'behold', 'loe', 'ile', 'crosse', 'though', 'blast', 'illusion\\n', 'hast', 'any', 'sound', 'or', 'vse', 'voyce\\nspeake', 'there', '\\nthat', 'ease', 'grace', 'speak\\n', 'priuy', 'countries', 'fate\\n', 'happily', 'foreknowing', 'auoyd', 'oh', 'vphoorded', 'life\\n', 'extorted', 'treasure', 'wombe', 'earth\\nfor', 'they', 'spirits', 'oft', 'walke', 'death\\n', 'stop', 'shall', 'strike', 'partizan\\n', 'stand\\n', 'heere\\n', 'gone\\n', 'wrong', 'being', 'maiesticall\\n', 'offer', 'shew', 'violence\\n', 'ayre', 'invulnerable\\n', 'vaine', 'blowes', 'malicious', 'mockery\\n', 'about', 'cocke', 'started', 'guilty', 'thing\\n', 'fearfull', 'summons', 'heard\\n', 'trumpet', 'lofty', 'shrillsounding', 'throate\\n', 'awake', 'day', 'warning\\n', 'whether', 'sea', 'fire', 'earth', 'ayre\\n', 'extrauagant', 'erring', 'spirit', 'hyes\\n', 'confine', 'truth', 'heerein\\n', 'present', 'obiect', 'probation\\n', 'faded', 'crowing', 'cocke\\n', 'sayes', 'euer', 'gainst', 'season', 'comes\\n', 'wherein', 'sauiours', 'birch', 'celebrated\\n', 'bird', 'dawning', 'singeth', 'long\\n', 'abroad\\n', 'wholsome', 'planets', 'strike\\n', 'faiery', 'talkes', 'nor', 'witch', 'power', 'charme\\n', 'hallowd', 'gracious', 'time\\n', 'heard', 'beleeue', 'morne', 'russet', 'mantle', 'clad\\n', 'walkes', 'ore', 'dew', 'yon', 'high', 'easterne', 'hill\\n', 'aduice\\n', 'impart', 'yong', 'dumbe', 'consent', 'acquaint', 'needfull', 'loues', 'fitting', 'duty\\n', 'dot', 'pray', 'morning', 'know\\n', 'finde', 'conueniently\\n', 'exeunt\\n', 'scena', 'secunda\\nenter', 'claudius', 'denmarke', 'gertrude', 'q\\n', 'polonius\\n', 'laertes', 'sister', 'ophelia', 'lords', 'attendant\\n', 'yet', 'deere', 'brothers\\n', 'memory', 'greene', 'befitted\\nto', 'beare', 'hearts', 'greefe', 'whole', 'ki\\n', 'contracted', 'one', 'brow', 'woe\\n', 'farre', 'discretion', 'fought', 'nature\\n', 'wisest', 'sorrow', 'remembrance', 'selues\\n', 'queene\\n', 'imperiall', 'ioyntresse', 'twere', 'defeated', 'ioy\\n', 'auspicious', 'dropping', 'eye\\nwith', 'mirth', 'funerall', 'dirge', 'marriage\\n', 'equall', 'scale', 'weighing', 'delight', 'dole\\n', 'taken', 'wife', 'heerein', 'barrd\\n', 'better', 'wisedomes', 'freely', 'affaire', 'along', 'thankes\\n', 'followes', 'holding', 'weake', 'supposall', 'worth\\n', 'thinking', 'late', 'brothers', 'state', 'disioynt', 'out', 'frame\\n', 'colleagued', 'dreame', 'aduantage\\n', 'fayld', 'pester', 'message\\n', 'importing', 'surrender', 'bonds', 'law\\n', 'brother', 'voltemand', 'cornelius\\n', 'selfe', 'meeting\\n', 'businesse', 'writ\\n', 'vncle', 'impotent', 'bedrid', 'scarsely', 'heares\\n', 'nephewes', 'purpose', 'suppresse\\n', 'further', 'gate', 'leuies\\n', 'lists', 'full', 'proportions', 'made\\n', 'dispatch\\n', 'cornelius', 'voltemand\\n', 'bearing', 'greeting', 'old', 'giuing', 'personall', 'power\\n', 'scope\\n', 'these', 'dilated', 'articles', 'allow\\n', 'farewell', 'commend', 'volt', 'things', 'ou\\n', 'doubt', 'nothing', 'heartily', 'farewell\\n', 'whats', 'newes', 'you\\n', 'told', 'suite', 'laertes\\n', 'cannot', 'reason', 'dane\\nand', 'loose', 'voyce', 'wouldst', 'beg', 'lae\\n', 'asking\\n', 'head', 'natiue', 'hand', 'instrumentall', 'mouth\\n', 'throne', 'father\\n', 'laer', 'dread', 'lord\\n', 'leaue', 'fauour', 'returne', 'france\\n', 'whence', 'willingly', 'came', 'denmarke\\n', 'duty', 'coronation\\n', 'must', 'confesse', 'done\\nmy', 'thoughts', 'wishes', 'bend', 'towards', 'bow', 'pardon\\n', 'fathers', 'leaue\\n', 'pollonius\\n', 'pol', 'beseech', 'go\\n', 'houre', 't\\n', 'best', 'graces', 'spend', 'will\\n', 'cosin', 'sonne\\n', 'ham', 'little', 'kin', 'lesse', 'kinde\\n', 'clouds', 'still', 'hang', 'o\\n', 'lord', 'too', 'ith', 'sun\\n', 'queen', 'colour', 'off\\nand', 'thine', 'eye', 'friend', 'veyled', 'lids\\n', 'seeke', 'noble', 'dust\\n', 'knowst', 'common', 'liues', 'dye\\n', 'passing', 'through', 'nature', 'eternity\\n', 'madam', 'common\\n', 'be\\n', 'seemes', 'thee\\n', 'seemes\\n', 'alone', 'inky', 'cloake', 'mother\\n', 'customary', 'suites', 'solemne', 'blacke\\n', 'windy', 'suspiration', 'forcd', 'breath\\n', 'fruitfull', 'riuer', 'eye\\n', 'deiected', 'hauiour', 'visage\\n', 'formes', 'moods', 'shewes', 'griefe\\n', 'denote', 'truly', 'indeed', 'seeme\\n', 'actions', 'man', 'play\\n', 'within', 'passeth', 'show\\n', 'trappings', 'sweet', 'commendable\\n', 'mourning', 'duties', 'suruiuer', 'bound\\n', 'filiall', 'obligation', 'terme\\n', 'obsequious', 'perseuer\\n', 'obstinate', 'condolement', 'course\\n', 'impious', 'stubbornnesse', 'vnmanly', 'greefe\\n', 'incorrect', 'heart', 'vnfortified', 'minde', 'impatient\\n', 'vnderstanding', 'simple', 'vnschoold\\n', 'vulgar', 'sence\\n', 'should', 'peeuish', 'opposition\\n', 'fye', 'fault', 'dead', 'absurd', 'theame\\n', 'death', 'cried\\n', 'first', 'coarse', 'till', 'dyed', 'throw', 'earth\\n', 'vnpreuayling', 'woe', 'note\\n', 'immediate', 'throne\\n', 'nobility', 'loue\\n', 'deerest', 'beares', 'intent\\n', 'going', 'backe', 'schoole', 'wittenberg\\n', 'retrograde', 'desire\\n', 'remaine\\n', 'cheere', 'comfort', 'cheefest', 'courtier', 'qu', 'mother', 'lose', 'her', 'prayers', 'prythee', 'go', 'best\\n', 'obey', 'madam\\n', 'louing', 'reply\\n', 'gentle', 'vnforcd', 'accord', 'sits', 'smiling', 'whereof\\n', 'iocond', 'health', 'drinkes', 'great', 'cannon', 'clowds', 'tell\\nand', 'kings', 'rouce', 'heauens', 'bruite', 'a\\n', 'respeaking', 'earthly', 'thunder', 'manet', 'solid', 'flesh', 'melt\\n', 'thaw', 'resolue', 'into', 'dew\\n', 'euerlasting', 'fixt\\n', 'selfeslaughter', 'god\\n', 'weary', 'stale', 'flat', 'vnprofitable\\n', 'vses', 'world\\n', 'fie', 'ont', 'vnweeded', 'garden\\nthat', 'growes', 'seed', 'rank', 'possesse', 'meerely', 'months', 'two\\n', 'excellent', 'hiperion', 'satyre', 'beteene', 'windes', 'visit', 'face', 'roughly', 'remember', 'she', 'encrease', 'appetite', 'growne\\n', 'fed', 'month\\n', 'frailty', 'name', 'woman\\n', 'month', 'ere', 'shooes', 'were', 'old\\n', 'followed', 'poore', 'body\\n', 'niobe', 'teares', 'she\\n', 'beast', 'wants', 'discourse', 'reason\\n', 'mournd', 'longer', 'married', 'vnkle\\n', 'hercules', 'moneth\\n', 'salt', 'vnrighteous', 'teares\\n', 'left', 'flushing', 'gauled', 'wicked', 'speed', 'post\\n', 'dexterity', 'incestuous', 'sheets\\n', 'good\\n', 'tongue\\n', 'haile', 'lordship\\n', 'glad', 'well\\n', 'forget', 'seruant', 'euer\\n', 'friend\\n', 'change', 'wittenberg', 'sir\\n', 'faith', 'wittemberge\\n', 'truant', 'disposition', 'enemy', 'so\\n', 'doe', 'eare', 'truster', 'report\\n', 'truant\\n', 'elsenour\\n', 'weel', 'teach', 'drinke', 'deepe', 'depart\\n', 'fune\\n', 'mock', 'fellow', 'student\\n', 'mothers', 'wedding\\n', 'hard', 'vpon\\n', 'thrift', 'bakt\\n', 'coldly', 'furnish', 'forth', 'marriage', 'tables\\n', 'met', 'dearest', 'foe', 'thinkes', 'minds', 'saw', 'goodly', 'all\\n', 'yesternight\\n', 'who\\n', 'admiration', 'while\\n', 'attent', 'deliuer\\n', 'witnesse', 'gentlemen\\n', 'maruell', 'loue', 'heare\\n', 'their', 'wast', 'middle', 'beene', 'encountred', 'armd', 'points', 'exactly', 'cap', 'pe\\n', 'appeares', 'sollemne', 'march\\n', 'slow', 'stately', 'thrice', 'walkt\\n', 'opprest', 'fearesurprized', 'truncheons', 'length', 'whilst', 'bestild\\n', 'almost', 'ielly', 'act', 'feare\\n', 'dreadfull', 'secrecie', 'did\\n', 'third', 'kept', 'whereas', 'deliuerd', 'both', 'forme', 'each', 'word', 'knew', 'hands', 'like\\n', 'platforme', 'watcht\\n', 'answere', 'none', 'thought\\n', 'lifted', 'addresse\\n', 'motion', 'crew', 'lowd\\n', 'shrunke', 'vanisht', 'sight\\n', 'honourd', 'true\\n', 'writ', 'sirs', 'troubles', 'top', 'toe\\n', 'foote\\n', 'face\\n', 'yes', 'wore', 'beauer', 'vp\\n', 'lookt', 'frowningly\\n', 'countenance', 'anger\\n', 'pale', 'red\\n', 'fixt', 'constantly\\n', 'amazd', 'staid', 'while', 'moderate', 'longer\\n', 'sawt\\n', 'beard', 'grisly', 'no\\n', 'sable', 'siluerd\\n', 'perchance', 'wake\\n', 'warrant', 'assume', 'person\\nile', 'hell', 'gape\\n', 'hitherto', 'conceald', 'bee', 'treble', 'silence', 'still\\n', 'whatsoeuer', 'els', 'hap', 'requite', 'fare', 'ye', 'twixt', 'eleuen', 'twelue\\n', 'honour\\n', 'armes', 'well\\ni', 'foule', 'play', 'come\\ntill', 'soule', 'deeds', 'orewhelm', 'mens', 'eies\\n', 'enter\\n', 'tertia\\n', 'ophelia\\n', 'necessaries', 'imbarkt', 'winds', 'benefit\\n', 'conuoy', 'assistant', 'sleepe\\n', 'ophel', 'that\\n', 'trifling', 'fauours\\n', 'fashion', 'toy', 'bloude\\n', 'violet', 'youth', 'primy', 'froward', 'permanent', 'lasting\\n', 'suppliance', 'minute', 'more\\n', 'cressant', 'does', 'grow', 'alone\\n', 'thewes', 'bulke', 'temple', 'waxes\\n', 'inward', 'seruice', 'soule\\n', 'wide', 'withall', 'perhaps', 'now\\n', 'soyle', 'cautell', 'besmerch\\n', 'vertue', 'feare', 'greatnesse', 'weighd', 'owne\\n', 'hee', 'himselfe', 'birth\\n', 'vnuallued', 'persons', 'doe\\n', 'carue', 'choyce', 'depends\\n', 'sanctity', 'circumscribd\\n', 'yeelding', 'body\\nwhereof', 'lou\\n', 'fits', 'wisedome', 'peculiar', 'sect', 'force\\n', 'saying', 'deed', 'further\\n', 'withall\\n', 'weight', 'losse', 'honour', 'sustaine\\n', 'credent', 'songs\\n', 'chast', 'open\\n', 'vnmastred', 'importunity\\n', 'deare', 'sister\\n', 'keepe', 'reare', 'affection\\n', 'shot', 'danger', 'chariest', 'maid', 'prodigall', 'enough\\n', 'vnmaske', 'beauty', 'moone\\n', 'scapes', 'calumnious', 'stroakes\\n', 'canker', 'galls', 'infants', 'spring\\n', 'buttons', 'disclosd\\n', 'liquid', 'youth\\n', 'contagious', 'blastments', 'imminent\\n', 'wary', 'safety', 'lies', 'rebels', 'else', 'neere\\n', 'ophe', 'effect', 'lesson', 'watchmen', 'brother\\n', 'vngracious', 'pastors', 'steepe', 'thorny', 'way', 'puft', 'recklesse', 'libertine\\n', 'primrose', 'path', 'dalliance', 'treads\\n', 'reaks', 'reade\\n', 'not\\n', 'here', 'double', 'blessing', 'grace\\n', 'occasion', 'smiles', 'second', 'polon', 'aboord', 's\\n', 'winde', 'shoulder', 'saile\\n', 'few', 'precepts', 'memory\\n', 'character', 'vnproportiond', 'act\\n', 'familiar', 'meanes', 'vulgar\\n', 'adoption', 'tride\\n', 'grapple', 'hoopes', 'steele\\n', 'dull', 'palme', 'entertainment\\n', 'vnhatcht', 'vnfledgd', 'comrade', 'beware\\n', 'entrance', 'quarrell', 'in\\n', 'beart', 'opposed', 'beware', 'euery', 'voyce\\n', 'mans', 'censure', 'reserue', 'iudgement\\n', 'costly', 'habit', 'purse', 'buy\\n', 'exprest', 'fancie', 'rich', 'gawdie\\n', 'apparell', 'proclaimes', 'man\\n', 'france', 'ranck', 'station\\n', 'select', 'generous', 'cheff', 'neither', 'borrower', 'lender', 'lone', 'loses', 'borrowing', 'duls', 'edge', 'husbandry\\n', 'aboue', 'follow', 'canst', 'false', 'humbly', 'inuites', 'goe', 'seruant\\n', 'said', 'lockt\\n', 'key', 'laer\\n', 'please', 'somthing', 'lor\\n', 'marry', 'bethought\\n', 'late\\n', 'giuen', 'priuate', 'selfe\\nhaue', 'audience', 'free', 'boun\\n', 'put', 'caution', 'vnderstand', 'cleerely\\n', 'behoues', 'daughter', 'betweene', 'truth\\n', 'many', 'tenders\\n', 'affection', 'puh', 'green\\n', 'vnsifted', 'perillous', 'circumstance\\n', 'tenders', 'call', 'them\\n', 'thinke\\n', 'tane', 'pay\\nwhich', 'starling', 'tender', 'crack', 'phrase\\n', 'roaming', 'youl', 'foole\\n', 'importund', 'honourable', 'fashion\\n', 'speech\\n', 'vowes', 'springes', 'catch', 'woodcocks', 'bloud', 'giues', 'tongue', 'blazes', 'daughter\\n', 'light', 'heate', 'extinct', 'both\\n', 'promise', 'making\\nyou', 'somewhat', 'scanter', 'maiden', 'presence\\n', 'set', 'entreatments', 'higher', 'rate\\n', 'command', 'parley', 'young\\n', 'larger', 'tether', 'walke\\n', 'broakers\\n', 'inuestments', 'meere', 'implorators', 'vnholy', 'sutes\\n', 'breathing', 'sanctified', 'pious', 'bonds\\n', 'beguile', 'all\\ni', 'plaine', 'tearmes', 'slander', 'moment', 'leisure\\n', 'words', 'talke', 'toot', 'wayes\\n', 'bites', 'shrewdly', 'cold\\n', 'nipping', 'eager', 'hower', 'lacks', 'strooke\\n', 'drawes', 'ne\\n', 'held', 'wont', 'meane', 'wake', 'takes', 'hi\\nkeepes', 'wassels', 'swaggering', 'vpspring', 'reeles\\n', 'dreines', 'draughts', 'renish', 'kettle', 'drum', 'bray', 'out\\n', 'triumph', 'pledge\\n', 'horat', 'custome\\n', 'ist\\n', 'mind', 'manner', 'borne', 'breach', 'obseruance\\n', 'angels', 'ministers', 'defend', 'goblin', 'damnd\\nbring', 'ayres', 'blasts', 'fr\\n', 'euents', 'charitable\\n', 'comst', 'questionable', 'shape\\n', 'royall', 'dane', 'burst', 'ignorance', 'tell\\n', 'canonizd', 'bones', 'hearsed', 'cerments', 'sepulcher\\n', 'quietly', 'enurnd\\n', 'opd', 'ponderous', 'marble', 'iawes\\n', 'meane\\n', 'compleat', 'reuisits', 'glimpses', 'making', 'hidious', 'fooles', 'horridly', 'shake', 'disposition\\n', 'beyond', 'reaches', 'soules\\n', 'wherefore', 'beckens', 'beckons', 'away', 'impartment', 'courteous', 'action\\n', 'wafts', 'remoued', 'meanes\\n', 'pins', 'fee\\n', 'immortall', 'waues', 'tempt', 'floud', 'm\\n', 'sonnet', 'cliffe\\n', 'beetles', 'base', 'sea\\n', 'assumes', 'other', 'horrible', 'depriue', 'soueraignty', 'draw', 'madnesse', 'off', 'ruld', 'goe\\n', 'fate', 'cries', 'makes', 'petty', 'artire', 'hardy', 'nemian', 'lions', 'nerue\\n', 'cald', 'vnhand', 'heaun', 'lets', 'exeunt', 'waxes', 'desperate', 'imagination\\n', 'fit', 'after', 'issue', 'rotten', 'denm\\n', 'direct', 'wilt', 'lead', 'speak', 'gho', 'sulphurous', 'tormenting', 'flames\\n', 'render', 'alas', 'pitty', 'lend', 'serious', 'hearing\\n', 'bound', 'reuenge', 'shalt', 'what\\n', 'spirit\\n', 'doomd', 'certaine', 'terme', 'confind', 'fast', 'fiers\\n', 'crimes', 'done', 'dayes', 'burnt', 'purgd', 'forbid\\n', 'secrets', 'prisonhouse\\n', 'could', 'tale', 'vnfold', 'lightest', 'word\\n', 'harrow', 'freeze', 'blood\\nmake', 'starres', 'start', 'thei\\n', 'knotty', 'combined', 'lockes', 'part\\n', 'haire', 'end\\n', 'quilles', 'fretfull', 'porpentine\\n', 'eternall', 'blason', 'eares', 'list\\n', 'didst', 'vnnaturall', 'mu\\n', 'murther\\n', 'murther', 'is\\n', 'vnnaturall\\n', 'wings', 'swift\\n', 'meditation', 'sweepe', 'reuenge\\n', 'apt\\n', 'duller', 'shouldst', 'fat', 'weede\\n', 'rots', 'lethe', 'wharfe\\n', 'stirre', 'its', 'sleeping', 'orchard\\n', 'serpent', 'stung', 'forged', 'processe', 'rankly', 'abusd', 'sting', 'weares', 'crowne\\n', 'propheticke', 'vncle\\n', 'adulterate', 'beast\\nwith', 'witchcraft', 'wits', 'traitorous', 'gu\\n', 'wit', 'gifts', 'seduce', 'won', 'shamefull', 'lust\\n', 'seeming', 'vertuous', 'falling', 'dignity\\n', 'went', 'vow\\n', 'decline\\n', 'wretch', 'naturall', 'poore\\nto', 'neuer', 'wil', 'lewdnesse', 'court', 'shape', 'lust', 'radiant', 'angell', 'linkd\\nwill', 'sate', 'celestiall', 'prey', 'sent', 'mornings', 'briefe', 'custome', 'alwayes', 'afternoone\\n', 'secure', 'stole\\n', 'iuyce', 'cursed', 'hebenon', 'violl\\n', 'porches', 'poure\\n', 'leaperous', 'distilment', 'effect\\n', 'holds', 'enmity', 'swift', 'quicksiluer', 'courses', 'through\\n', 'gates', 'allies', 'sodaine', 'vigour', 'posset\\n', 'curd', 'aygre', 'droppings', 'milke\\n', 'thin', 'blood', 'mine\\n', 'instant', 'tetter', 'bakd', 'about\\n', 'lazarlike', 'vile', 'loathsome', 'crust\\n', 'smooth', 'crowne', 'queene', 'dispatcht\\n', 'cut', 'blossomes', 'sinne\\n', 'vnhouzzled', 'disappointed', 'vnnaneld\\n', 'reckoning', 'account\\n', 'imperfections', 'horrible\\n', 'couch', 'luxury', 'damned', 'incest\\n', 'howsoeuer', 'pursuest', 'taint', 'contriue\\n', 'ought', 'thornes', 'bosome', 'lodge\\n', 'pricke', 'once\\n', 'glowworme', 'showes', 'matine', 'gins', 'vneffectuall', 'fire\\n', 'adue', 'host', 'els\\n', 'couple', 'sinnewes', 'stiffely', 'seate\\n', 'distracted', 'globe', 'yea', 'table', 'wipe', 'triuiall', 'fond', 'records\\n', 'sawes', 'bookes', 'presures', 'past\\n', 'obseruation', 'coppied', 'commandment', 'liue\\n', 'booke', 'volume', 'braine\\n', 'vnmixt', 'baser', 'matter', 'pernicious', 'villaine', 'villaine\\n', 'tables', 'smile', 'im', 'sure', 'vnckle', 'swornt\\n', 'illo', 'ho', 'hillo', 'boy', 'wonderfull\\n', 'reueale', 'onc\\n', 'secret\\n', 'theres', 'nere', 'dwelling', 'hees', 'arrant', 'knaue\\n', 'needs', 'the\\n', 'graue', 'right', 'right\\n', 'circumstance', 'busines', 'desires', 'point', 'pray\\n', 'wild', 'hurling', 'my\\n', 'sorry', 'offend', 'heartily\\n', 'offence', 'saint', 'patricke', 'vision', 'desire', 'oremastert', 'friends\\n', 'schollers', 'soldiers\\n', 'request\\n', 'known', 'seen', 'sweart\\n', 'infaith', 'faith\\n', 'sword\\n', 'marcell', 'sworne', 'already\\n', 'sword', 'indeed\\n', 'sweare\\n', 'vnder', 'stage\\n', 'ah', 'ha', 'sayest', 'selleredge\\n', 'propose', 'oath', 'sweare', 'hic', 'vbique', 'shift', 'grownd\\n', 'hither', 'lay', 'mole', 'worke', 'grou\\n', 'worthy', 'pioner', 'remoue', 'wondrous', 'stranger', 'wel\\nthere', 'dreamt', 'philosophy', 'helpe', 'mercy\\n', 'odde', 'heereafter', 'meet\\n', 'anticke', 'seeing', 'shall\\n', 'encombred', 'shake\\n', 'pronouncing', 'doubtfull', 'would\\nor', 'ambiguous', 'mercy', 'neede', 'rest', 'perturbed', 'expresse', 'friending', 'you\\ngod', 'willing', 'lacke', 'toge\\n', 'fingers', 'lippes', 'ioynt', 'spight\\n', 'together\\n', 'secundus\\n', 'polonius', 'reynoldo\\n', 'money', 'notes', 'rey\\n', 'reynol', 'maruels', 'wisely', 'visite', 'inquiry\\n', 'behauiour\\n', 'intend', 'said\\n', 'enquire', 'danskers', 'paris\\n', 'keepe\\n', 'company', 'expence', 'finding\\n', 'encompassement', 'drift', 'question\\n', 'sonne', 'neerer\\n', 'demands', 'touch', 'distant', 'knowledge', 'ift', 'wilde\\n', 'addicted', 'forgeries', 'ranke\\n', 'dishonour', 'heed', 'wanton', 'vsuall', 'slips\\n', 'companions', 'noted', 'knowne\\n', 'liberty\\n', 'gaming', 'drinking', 'fencing', 'swearing\\n', 'quarelling', 'drabbing', 'farre\\n', 'another', 'scandall', 'open', 'incontinencie\\nthats', 'meaning', 'breath', 'faults', 'seeme', 'taints', 'flash', 'outbreake', 'fiery', 'minde\\na', 'sauagenes', 'vnreclaimd', 'generall', 'as\\n', 'heeres', 'drift\\n', 'belieue', 'fetch', 'warrant\\n', 'laying', 'slight', 'sulleyes', 'soild', 'working\\nmarke', 'party', 'conuerse', 'would\\n', 'hauing', 'prenominate', 'crimes\\n', 'assurd\\n', 'closes', 'consequence\\n', 'gentleman\\n', 'according', 'phrase', 'addition\\n', 'country\\n', 'say\\n', 'consequence', 'marry\\n', 'yesterday', 'tother', 'day\\nor', 'oretooke', 'ins', 'rouse\\n', 'tennis', 'perchance\\n', 'house', 'videlicet', 'brothell', 'bait', 'falshood', 'cape', 'reach\\n', 'windlesses', 'assaies', 'bias\\n', 'indirections', 'directions', 'former', 'lecture', 'haue\\n', 'buy', 'obserue', 'inclination', 'plye', 'musicke\\n', 'matter\\n', 'affrighted\\n', 'sowing', 'chamber\\n', 'doublet', 'vnbracd\\n', 'hat', 'stockings', 'fould\\n', 'vngartred', 'giued', 'anckle\\n', 'shirt', 'knees', 'knocking', 'pitious', 'purport\\n', 'been', 'loosed', 'hell\\n', 'horrors', 'mad', 'tooke', 'wrist', 'hard\\n', 'arme\\n', 'brow\\n', 'fals', 'perusall', 'shaking', 'wauing', 'raisd', 'sigh', 'pittious', 'profound\\n', 'shatter', 'bulke\\n', 'end', 'ouer', 'shoulders', 'turnd\\n', 'seemd', 'adores', 'helpe\\n', 'bended', 'extasie', 'violent', 'property', 'foredoes', 'leads', 'vndertakings\\n', 'passion', 'afflict', 'natures', 'sorrie\\n', 'command\\n', 'repell', 'letters', 'denyde\\n', 'accesse', 'mad\\n', 'sorrie', 'quoted', 'trifle\\nand', 'meant', 'wracke', 'beshrew', 'iealousie\\n', 'proper', 'age\\n', 'selues', 'opinions\\n', 'yonger', 'sort\\n', 'close', 'moue\\n', 'hide', 'hate', 'vtter', 'rosincrane', 'guildensterne\\n', 'rosincrance', 'guildenst\\n', 'moreouer', 'prouoke\\n', 'hastie', 'sending', 'hamlets', 'transformation', 'since', 'exterior', 'resembles', 'bee\\nmore', 'put\\n', 'himselfe\\n', 'deeme', 'intreat', 'brought', 'neighbourd', 'humour\\n', 'vouchsafe', 'court\\n', 'companies\\n', 'pleasures', 'gather\\n', 'occasions', 'gleane\\n', 'opend', 'remedie\\n', 'gentlemen', 'talkd', 'men', 'liuing\\n', 'whom', 'adheres', 'gentrie', 'expend', 'supply', 'profit', 'hope\\n', 'visitation', 'receiue', 'remembrance\\n', 'rosin', 'maiesties\\n', 'soueraigne', 'entreatie\\n', 'guil', 'obey\\n', 'bent\\n', 'seruices', 'feete\\n', 'commanded\\n', 'guilden\\n', 'guildensterne', 'rosincr\\n', 'instantly', 'visit\\n', 'changed', 'ye\\n', 'bring', 'presence', 'prac\\n', 'pleasant', 'helpfull', 'amen\\n', 'ambassadors', 'ioyfully', 'assure', 'liege\\n', 'dutie', 'braine', 'hunts', 'traile', 'policie', 'sure\\n', 'vsd', 'found\\n', 'cause', 'lunacie\\n', 'admittance', 'ambassadors\\n', 'feast\\n', 'tels', 'sonnes', 'distemper\\n', 'maine\\n', 'orehasty', 'voltumand', 'sift', 'frends\\n', 'norwey\\n', 'greetings', 'des\\n', 'leuies', 'appeard\\n', 'preparation', 'poleak\\n', 'lookd', 'highnesse', 'whereat', 'greeued\\n', 'sicknesse', 'age', 'impotence\\n', 'falsely', 'sends', 'arrests\\n', 'breefe', 'obeyes\\n', 'receiues', 'rebuke', 'fine\\n', 'vow', 'vnkle', 'assay', 'maiestie\\n', 'whereon', 'ouercome', 'three', 'thousand', 'crownes', 'annuall', 'commission', 'imploy', 'leuied', 'intreaty', 'shewne\\n', 'passe\\n', 'dominions', 'regards', 'allowance\\n', 'therein', 'likes', 'considerd', 'read\\n', 'businesse\\nmeane', 'thanke', 'welltooke', 'la\\n', 'feast', 'home\\n', 'ambass\\n', 'ended\\n', 'liege', 'expostulate\\n', 'maiestie', 'waste', 'breuitie', 'wit\\nand', 'tediousnesse', 'limbes', 'outward', 'flouri\\n', 'define', 'madnesse\\n', 'art\\n', 'pittie\\n', 'pittie', 'foolish', 'figure\\n', 'grant', 'remaines\\n', 'rather', 'defect\\n', 'defectiue', 'cause\\n', 'remaines', 'remainder', 'perpend\\n', 'obedience', 'marke\\n', 'gather', 'surmise\\n', 'letter\\nto', 'soules', 'idoll', 'most\\nthats', 'ill', 'vilde', 'beautified', '\\nphrase', 'excell\\n', 'these\\n', 'her\\n', 'awhile', 'faithfull\\n', 'sunne', 'lier\\n', 'loue\\no', 'numbers', 'ha\\nreckon', 'grones', 'adieu\\n', 'euermore', 'lady', 'machine', 'shewd', 'soliciting\\n', 'place\\n', 'eare\\n', 'receiud', 'faithfull', 'honourable\\n', 'wold', 'faine', 'proue', 'yo\\n', 'wing\\n', 'perceiued', 'think\\n', 'playd', 'deske', 'tablebooke\\n', 'winking', 'mute', 'dumbe\\n', 'idle', 'round', 'worke\\n', 'mistris', 'bespeake\\n', 'prince', 'starre\\n', 'gaue', 'locke', 'resort\\n', 'admit', 'messengers', 'tokens\\n', 'fruites', 'repulsed', 'short', 'sadnesse', 'fast\\n', 'thence', 'weaknesse\\n', 'lightnesse', 'declension\\n', 'raues\\n', 'waile', 'for\\n', 'likely\\n', 'bene', 'ide', 'fain', 'possitiuely', 'proud', 'otherwise\\n', 'circumstances', 'leade', 'finde\\n', 'hid', 'indeede\\n', 'center\\n', 'try', 'sometimes\\n', 'foure', 'houres', 'lobby\\n', 'to\\n', 'behinde', 'arras', 'then\\n', 'encounter', 'falne', 'thereon\\n', 'farme', 'carters\\n', 'reading', 'booke\\n', 'sadly', 'wretch\\n', 'reading\\n', 'boord', 'presently\\n', 'queen\\n', 'godamercy\\n', 'yare', 'fishmonger\\n', 'pickd', 'thousand\\n', 'sun', 'breed', 'magots', 'd\\n', 'kissing', 'carrion\\n', 'ithsunne', 'conception', 'a\\nblessing', 'conceiue\\n', 'toot\\n', 'harping', 'my\\nyet', 'fi\\nhe', 'youth\\ni', 'suffred', 'extreamity', 'neere', 'read', 'words\\n', 'slanders', 'satyricall', 'slaue', 's\\nthat', 'gray', 'beards', 'faces\\n', 'purging', 'thicke', 'amber', 'plumtree\\ngumme', 'plentifull', 'of\\ntogether', 'hammes', 'i\\nmost', 'powerfully', 'potently', 'hol\\nnot', 'honestie', 'you\\nselfe', 'crab\\n', 'backward\\n', 'method', 'graue\\n', 'oth', 'pregnant', 'replies', 'are\\n', 'happinesse\\n', 'often', 'hits', 'sanitie', 'prosperously', 'sodainely', 'contriue', 'humbly\\n', 't\\nwill', 'except', 'lif\\n', 'tedious', 'fooles\\n', 'rosincran', 'saue', 'guild', 'dost', 'thou\\n', 'lads', 'indifferent', 'children', 'happy', 'ouerhappy', 'button\\n', 'soales', 'shoo\\n', 'fauour\\n', 'priuates', 'we\\n', 'secret', 'parts', 'fortune', 'strumpet', 'newes\\n', 'worlds', 'honest\\n', 'doomesday', 'is\\nnot', 'wh\\nyou', 'deserued', 'prison', 'hither\\n', 'denmarks', 'prison\\n', 'co\\n', 'wards', 'dungeons', 'oth\\n', 'worst\\n', 'n\\neither', 'bad', 'ambition', 'tis\\n', 'narrow', 'minde\\n', 'bounded', 'nutshell', 'and\\ncount', 'infinite', 'space', 'dreames\\n', 'dreames', 'the\\nvery', 'substance', 'dreame\\n', 'shadow\\n', 'truely', 'ayry\\n', 'quality', 'shadowes', 'beggers', 'bodies', 'mon\\n', 'outstretcht', 'heroes', 'shadowes\\nshall', 'wee', 'fey', 'r\\n', 'wait', 'sort', 'with\\nrest', 'seruants', '\\nman', 'dreadfully', 'attended', 'b\\n', 'friendship', 'elsonower\\n', 'occasion\\n', 'begger', 'tha\\nbut', 'thanks\\nare', 'halfepeny', 'fo\\n', 'inclining', 'deale', 'iustly', 'were\\nsent', 'kinde', 'confession', 'yo\\nwhich', 'modesties', 'craft', 'enough', 'mee', 'coniure\\nyou', 'rights', 'fellowship', 'con\\nour', 'euerpreseru\\nand', 'proposer', 'could\\nyou', 'whether\\n', 'off\\n', 'anticip\\npreuent', 'discouery', 'secricie', 'the\\nqueene', 'moult', 'feather', 'whe\\ni', 'forgone', 'custo\\nand', 'heauenly', 'disposi\\nthat', 'frame', 'promontory', 'canopy', 'ayre\\nlook', 'braue', 'orehanging', 'maiestical\\nfretted', 'golden', 'ot\\nto', 'pestilent', 'congregation\\n', 'piece', 'in\\nreason', 'faculty', 'mo\\nhow', 'admirable', 'action', 'apprehension', 'the\\nworld', 'parragon', 'animals', 'wh\\n', 'quintessence', 'dust', 'delights', 'no\\nnor', 'woman', 'stuffe', 'thoughts\\n', 'laugh', 'delights\\n', 'i\\nwhat', 'lenton', 'entertainment', 'players', 're\\nfrom', 'coated', 'comming', 'seruice\\n', 'playes', 'welcom\\nmaiesty', 'tribute', 'aduenturous\\nknight', 'shal', 'foyle', 'target', 'louer\\nnot', 'gratis', 'humorous', 'his\\npeace', 'clowne', '\\nare', 'tickled', 'ath', 'sere', 'he\\nfreely', 'blanke', 'verse', 'halt', 'fort', 'wha\\n', 'they\\n', 'delig\\n', 'tragedians', 'city\\n', 'chances', 'trauaile', 'resi\\n', 'reputation', 'inhibition', 'th\\n', 'innouation\\n', 'estimation', 'city', 'followd\\n', 'rusty\\n', 'indeauour', 'keepes', 'wonted\\npace', 'ayrie', 'little\\n', 'yases', 'crye', 'and\\nare', 'tyrannically', 'clapt', 'now\\nfashion', 'beratled', 'stages', 'they\\ncall', 'wearing', 'rapiers', 'affrai\\n', 'goosequils', 'dare', 'scarse', 'thither\\n', 'maintains', 'em\\nhow', 'escorted', 'pursue', 'qua\\nlonger', 'sing', 'af\\nif', 'themselues', 'playe\\nit', 'better\\n', 'exclaim', 'their\\n', 'succession\\n', 'bo\\nand', 'nation', 'sinne', 'tarre', 'mony', 'argument\\nvnlesse', 'poet', 'player', 'cuffes', 'possible\\n', 'throwing', 'braines\\n', 'boyes', 'carry', 'l\\n', 'mowes', 'him\\nwhile', 'liued', 'twenty', 'forty', 'hun\\nducates', 'picture', 'ther\\n', 'philosophie', 'could\\n', 'flourish', 'players\\n', 'welcom', 'elsonower', 'your\\nhands', 'appurtenance', 'ceremony', 'comply', 'garbe\\nlest', 'extent', 'you\\nfairely', 'yours', 'aunt', 'deceiud\\n', 'north', 'northwest', 'southerly', 'hawke', 'handsaw\\n', 'hearke', 'at\\neare', 'hearer', 'baby', 'swathing', 'clouts\\n', 'hes', 'childe\\n', 'prophesie', 'o\\nplayers', 'mark', 'monday\\n', 'twas', 'rossius', 'actor', 'rome\\n', 'actors', 'buzze', 'buzze\\n', 'honor\\n', 'asse\\n', 'either', 'comedie', 'historie', 'pastorall\\n', 'pastoricallcomicallhistoricallpastorall\\ntragicallhistoricall', 'tragicallcomicallhistoric\\n', 'scene', 'indiuidible', 'poem\\n', 'vnlimited', 'seneca', 'heauy', 'plautus\\ntoo', 'liberty', 'onely', 'men\\n', 'iephta', 'iudge', 'israel', 'treasur\\n', 'loued', 'iephta\\n', 'lot', 'wot', 'it\\ncame', 'passe', 'ro\\npons', 'chanson', 'wher\\n', 'abridgements', 'fiue', 'players\\nyare', 'masters', 'see\\n', 'olde', 'friend\\nthy', 'coms\\nbeard', 'mis\\n', 'byrlady', 'ladiship', 'neerer', 'when\\ni', 'altitude', 'choppine', 'p\\nyour', 'voice', 'vncurrant', 'gold', 'n\\nwithin', 'ring', 'we\\ntot', 'french', 'faulconers', 'flie', 'w\\nhaue', 'speech', 'straight', 'tast', 'passionate', '1play', '\\nneuer', 'acted', 'th\\nremember', 'pleasd', 'million', 'cauiarie', '\\ngenerall', 'others\\niudgement', 'matters', 'cried', '\\nexcellent', 'digested', 'scoenes', 'se\\nwith', 'modestie', 'cunning', 'on\\nthere', 'sallets', 'lines', '\\nnor', 'indite', 'the\\nauthor', 'affectation', 'me\\ncheefe', 'cheefely', 'loud', 'aenea\\nto', 'dido', 'thereabout', 'especially', '\\nof', 'priams', 'slaughter', '\\nthis', 'line', 'rugged', 'pyr\\nthhyrcanian', 'begins', 'pyrrhus', 'armes\\n', 'blacke', 'resemble\\n', 'couched', 'ominous', 'horse\\n', 'complexion', 'smeard\\n', 'heraldry', 'dismall', 'geulles', 'trickd\\n', 'daughters', 'sonnes\\n', 'impasted', 'parching', 'streets\\n', 'tyrannous', 'light\\nto', 'murthers', 'roasted', 'wrath', 'oresized', 'coagulate', 'gore\\n', 'carbuncles', 'hellish', 'pyrrhus\\n', 'grandsire', 'priam', 'seekes\\n', 'fore', 'spoken', 'discretion\\n', '1player', 'anon', 'findes', 'striking', 'greekes', 'rebellious', 'arme', 'lyes', 'falles\\n', 'repugnant', 'vnequall', 'match\\n', 'driues', 'rage', 'strikes', 'wide\\n', 'whiffe', 'vnnerued', 'senselesse', 'illium\\n', 'feele', 'blow', 'flaming', 'top\\n', 'stoopes', 'bace', 'hideous', 'crash\\n', 'prisoner', 'declining', 'milkie', 'reuerend', 'sticke\\n', 'painted', 'tyrant', 'stood\\nand', 'newtrall', 'storme\\n', 'racke', 'bold', 'speechlesse', 'orbe', 'below\\n', 'hush', 'thunder\\n', 'rend', 'region', 'pause\\n', 'rowsed', 'vengeance', 'sets', 'new', 'aworke\\n', 'cyclops', 'hammers', 'fall\\n', 'mars', 'armours', 'forgd', 'proofe', 'eterne\\n', 'remorse', 'bleeding', 'falles', 'priam\\n', 'strumpetfortune', 'gods\\n', 'synod', 'power\\nbreake', 'spokes', 'fallies', 'wheele\\nand', 'boule', 'naue', 'hill', 'low', 'fiends\\n', 'toth', 'barbars', 'p\\nsay', 'iigge', 'baudry', 'hee\\n', 'sleepes', 'hecuba\\n', 'inobled', 'run', 'barefoot', 'threatning', 'flame\\n', 'bisson', 'rheume', 'clout', 'diadem', 'robe\\n', 'lanke', 'oreteamed', 'loines\\n', 'blanket', 'alarum', 'caught', 'venome', 'steepd\\ngainst', 'fortunes', 'treason', 'prono\\n', 'gods', 'sport\\n', 'mincing', 'husbands', 'limbes\\n', 'clamour', 'vnlesse', 'mortall', 'moue', 'all\\nwould', 'milche', 'burning', 'turnd', 'colour\\n', 'rest\\nsoone', 'are\\nthe', 'abstracts', 'chronicles', 'tim\\nyour', 'epitaph', 'report', 'liued\\n', 'bodykins', 'euerie', 'man\\nafter', 'desart', 'scape', 'whipping\\nthem', 'own', 'honor', 'dignity', 'less\\ndeserue', 'merit', 'bountie', 'take\\n', 'sirs\\n', 'polon\\n', 'gonzago\\n', 'morrow', 'a\\nneed', 'study', 'dosen', 'sixteene', 'insert', 'you\\nmock', 'til\\n', 'buyye', 'rogue', 'pesant', 'monstrous', 'fixion', 'passion\\n', 'force', 'conceit\\n', 'working', 'visage', 'warmd\\n', 'distraction', 'aspect\\n', 'broken', 'function', 'suiting\\n', 'conceit', 'hecuba', 'weepe', 'cue', 'passion\\nthat', 'drowne', 'stage', 'cleaue', 'horrid', 'apale', 'free\\n', 'confound', 'ignorant', 'amaze', 'muddymetled', 'rascall', 'peake\\n', 'iohn', 'adreames', 'vnpregnant', 'damnd', 'defeate', 'coward\\n', 'calles', 'breakes', 'pate', 'acrosse\\n', 'pluckes', 'face\\ntweakes', 'byth', 'nose', 'lye', 'lungs', 'pigeonliuerd', 'gall\\n', 'oppression', 'bitter', 'fatted', 'kites\\n', 'slaues', 'offall', 'bloudy', 'bawdy', 'villaine\\nremorselesse', 'treacherous', 'letcherous', 'kindles', 'vi\\n', 'vengeance\\n', 'asse', 'braue\\n', 'murthered\\n', 'prompted', 'whore', 'vnpacke', 'fall', 'cursing', 'drab\\n', 'scullion', 'vpont', 'foh', 'braine\\ni', 'creatures', 'sitting', 'scoene\\n', 'strooke', 'proclaimd', 'malefactions\\n', 'speake\\nwith', 'myraculous', 'organ', 'murder', 'lookes\\n', 'rent', 'quicke', 'blench\\n', 'diuell', 'diuel', 'pleasing', 'perhaps\\n', 'weaknesse', 'melancholly\\n', 'potent', 'spirits\\n', 'abuses', 'damne', 'grounds\\n', 'relatiue', 'plays', 'conscience', 'exit\\n', 'rosincrance\\n', 'guildenstern', 'and\\n', 'lords\\n', 'puts', 'confusion\\n', 'grating', 'harshly', 'quiet\\n', 'turbulent', 'dangerous', 'lunacy\\n', 'feeles', 'forward', 'sounded\\n', 'crafty', 'aloofe\\n', 'confession\\n', 'forcing', 'niggard', 'demands\\n', 'pastime\\n', 'pla\\n', 'orewrought', 'already', 'order\\n', 'beseechd', 'intreate', 'con\\n', 'inclind', 'driue', 'closely', 'accident', 'there\\naffront', 'lawful\\n', 'bestow', 'vnseene\\n', 'frankely', 'iudge\\n', 'behaued\\n', 'affliction', 'suffers', 'wish\\n', 'beauties', 'cause\\nof', 'wildenesse', 'hope', 'ver\\n', 'wonted', 'honors\\n', 'wish', 'may\\n', 'ple\\n', 'reade', 'exercise', 'lonelinesse', 'blame', 'deuotions', 'surge', 'ore\\n', 'true\\nhow', 'smart', 'lash', 'cons\\n', 'harlots', 'cheeke', 'beautied', 'plaistring', 'vgly', 'helpes', 'deede', 'heauie', 'burthen\\n', 'withdraw', 'nobler', 'suffer\\n', 'slings', 'arrowes', 'outragious', 'fortune\\n', 'troubles\\n', 'opposing', 'dye', 'sleepe', 'heartake', 'shockes\\n', 'heyre', 'consummation\\n', 'deuoutly', 'wishd', 'rub\\nfor', 'shuffeld', 'coile\\n', 'pawse', 'respect\\n', 'calamity', 'life\\nfor', 'whips', 'scornes', 'oppressors', 'contumely\\n', 'pangs', 'disprizd', 'lawes', 'delay\\n', 'insolence', 'office', 'spurnes\\n', 'patient', 'vnworthy', 'takes\\n', 'quietus', 'bare', 'bodkin', 'fardles', 'beare\\n', 'grunt', 'sweat', 'vndiscouered', 'countrey', 'borne\\n', 'traueller', 'returnes', 'puzels', 'illes', 'flye', 'others', 'cowards', 'hew', 'resolution\\n', 'sicklied', 'enterprizes', 'pith', 'moment\\n', 'regard', 'currants', 'turne', 'nimph', 'orizons\\n', 'sinnes', 'remembred\\n', 'remembrances', 'yours\\n', 'longed', 'redeliuer\\n', 'ought\\n', 'honord', 'composd\\n', 'perfume', 'left\\n', 'wax', 'giuers', 'vnkinde\\n', 'faire\\n', 'hon\\n', 'beautie\\n', 'beautie', 'comerce\\n', 'honestie\\n', 'trulie', 's\\ntransforme', 'bawd', 'the\\nforce', 'translate', 'h\\nthis', 'sometime', 'paradox', 'g\\n', 'beleeued', 'vertue\\ncannot', 'innocculate', 'stocke', 'sh\\n', 'deceiued\\n', 'nunnerie', 'thou\\nbe', 'breeder', 'sinners', 'indiffer\\nbut', 'accuse', '\\nmy', 'prowd', 'reu\\n', 'offences', 'becke\\nthen', 'imaginatio\\nthem', 'acte', 'should\\nfellowes', 'crawling', '\\nwe', 'knaues', 'wayes', 'nunnery', 'wheres', 'home', 'doores', 'shut', 'he\\nplay', 'foole', 'heauens\\n', 'doest', '\\nfor', 'dowrie', 'ice', 'pure\\nthou', 'escape', 'calumny', 'nu\\ngo', 'wise', 'monsters', 'you\\nmake', 'quickly', 'powers', 'restore', 'pratlings', 'wel', '\\ngod', 'pace', 'gidge', 'amble', 'lispe', 'nickname\\ngods', 'wantonnesse', 'mad\\ni', 'marriages', 'tha\\nmarried', 'res\\n', 'orethrowne\\nthe', 'courtiers', 'soldiers', 'expectansie', 'rose', 'glasse', 'mould', 'obserud', 'obseruers', 'quite', 'ladies', 'deiect', 'wretched\\n', 'suckd', 'honie', 'musicke', 'vowes\\n', 'bels', 'iangled', 'tune', 'harsh\\n', 'vnmatchd', 'feature', 'blowne', 'blasted', 'thaue', 'affections', 'tend\\n', 'spake', 'lackd', 'little\\nwas', 'melancholly', 'brood\\n', 'hatch', 'disclose\\n', 'preuent\\n', 'determination\\n', 'england\\n', 'demand', 'neglected', 'tribute\\n', 'haply', 'seas', 'different\\n', 'variable', 'obiects', 'expell\\n', 'setled', 'braines', 'thus\\n', 'origin', 'commencement', 'sprung', 'saide\\n', 'please\\n', 'greefes', 'placd', 'conference', 'england', 'send', 'where\\n', 'ones', 'vnwatchd', 'pronouncd\\nit', 'trippingly', '\\nas', 't\\nhad', 'too\\nyour', 'gently', 'v\\n', 'tempest', 'whirlewinde', 'of\\npassion', 'acquire', 'beget', 'temperanc\\nmay', 'smoothnesse', 'offends', 'th\\nto', 'robustious', 'perywigpated', 'teare', '\\nto', 'tatters', 'verie', 'ragges', 'split', '\\ngroundlings', 'capeable', 'of\\nnothing', 'inexplicable', 'noise', 'i\\nhaue', 'whipt', 'oredoing', 'termagan\\n', 'outherods', 'herod', 'auoid', 'tame', 'neyther', 'owne\\ndiscretion', 'tutor', 'sute', 'th\\nthe', 'speciall', 'obse\\nthat', 'orestop', 'fo\\nthing', 'ouerdone', 'playi\\nend', 'ho\\n', 'mirrour', 'owne\\nfeature', 'scorne', 'ag\\nbodie', 'pressure', 'this\\nouerdone', 'tardie', 'iudicious', 'greeue', 'the\\ncensure', 'allowanc\\n', 'theater', 'players\\nthat', 'praise\\nhighly', 'prophanely', 'neythe\\nthe', 'accent', 'christians', 'chris\\nor', 'norman', 'strutted', 'bellowed', 'iouerneymen', 'men\\nand', 'imitated', 'humanity', 'reformd', 'indifferen\\n', 'reforme', 'altogether', 'that\\nplay', 'clownes', 'd\\nthem', 'themselues\\nto', 'quantitie', 'barren', 'spectators', '\\ntoo', 'necessary', 'qu\\nof', 'considered', 'vil\\nshewes', 'pittifull', 'readie\\n', 'hasten', 'hoa', 'eene', 'conuersation', 'coapd', 'flatter\\n', 'aduancement', 'reuennew', 'spirits\\nto', 'feed', 'cloath', 'shold', 'poor', 'fla\\n', 'candied', 'pompe\\n', 'crooke', 'hindges', 'knee\\n', 'faining', 'choyse\\n', 'distinguish', 'election\\n', 'bene\\n', 'suffering', 'buffets', 'rewards\\nhath', 'blest', 'those\\n', 'iudgement', 'comingled\\n', 'pipe', 'finger\\n', 'passions', 'weare', 'core', 'scoene', 'seest', 'afoot\\n', 'comment', 'occulted', 'guilt\\n', 'vnkennell', 'imaginations', 'foule\\n', 'vulcans', 'stythe', 'riuet', 'iudgements', 'ioyne\\n', 'seeming\\n', 'lord\\nif', 'steale', 'detecting', 'pay', 'theft\\n', 'and\\nother', 'attendant', 'guard', 'carrying', 'sound\\n', 'flourish\\n', 'idle\\n', 'fares', 'ifaith', 'camelions', 'dish', 'promisecrammd', 'capons', 'plaid', 'vniuersity', 'accounted', 'actor\\n', 'enact\\n', 'enact', 'iulius', 'caesar', 'killd', 'brutus', 'kill', 'calfe', 'ready\\n', 'patience\\n', 'heres', 'attractiue\\n', 'ladie', 'lap\\n', 'country', 'matters\\n', 'ly', 'ma\\n', 'merrie', 'iiggemaker', 'should\\na', 'cheer\\n', 'withins', 'houres\\n', 'moneths', 'bl\\nfor', 'sables', 'ago', 'forgotten', 'a\\ngreat', 'memorie', 'outliue', 'halfe', '\\nbut', 'builde', 'churches', 'el\\nhe', 'suffer', 'hobyhorsse', 'hobyhorse', 'forgot\\n', 'hoboyes', 'enters\\nenter', 'louingly', 'quee\\n', 'she\\nkneeles', 'protestation', 'hi\\n', 'and\\ndeclines', 'neck', 'layes', 'down\\n', 'flowers\\nshe', 'asleepe', 'leaues', 'his\\ncrowne', 'kisses', 'powres', 'poyson', 'exits', 'makes\\n', 'the\\npoysoner', 'mutes', 'lament\\nwith', 'body', 'carried', 'poy\\n', 'with\\ngifts', 'loath', 'vnwilling', 'bu\\n', 'accepts', 'his\\n', 'miching', 'malicho', 'mischeefe\\n', 'belike', 'imports', 'argument', 'fellowes', 'counsell', 'theyl', 'meant\\n', 'not\\nyou', 'ashamd', 'heel', 'shame', 'naught', 'mark\\n', 'prologue\\n', 'tragedie\\n', 'stooping', 'clemencie\\n', 'begge', 'hearing', 'patientlie\\n', 'prologue', 'poesie', 'ring\\n', 'womans', 'thirtie', 'times', 'phoebus', 'cart', 'neptunes', 'wash', 'tellus', 'orbed', 'dozen', 'moones', 'borrowed', 'sheene\\n', 'thirties', 'beene\\n', 'hymen', 'hands\\n', 'vnite', 'comutuall', 'sacred', 'bands\\n', 'bap', 'iournies', 'count', 'done\\n', 'distrust', 'distrust\\n', 'discomfort', 'must\\n', 'womens', 'quantitie\\n', 'extremity\\n', 'sizd', 'short\\n', 'operant', 'functions', 'do\\n', 'behinde\\n', 'beloud', 'husband', 'rest\\n', 'brest\\n', 'accurst\\n', 'wed', 'first\\n', 'wormwood', 'wormwood\\n', 'bapt', 'instances', 'respects', 'bed\\n', 'think', 'determine', 'breake\\n', 'memorie\\n', 'birth', 'validitie\\n', 'fruite', 'vnripe', 'stickes', 'tree\\n', 'vnshaken', 'mellow', 'bee\\n', 'forget\\n', 'debt\\n', 'propose\\n', 'ending', 'lose\\n', 'violence', 'ennactors', 'destroy\\n', 'ioy', 'reuels', 'lament\\n', 'ioyes', 'greeues', 'slender', 'accident\\n', 'aye', 'strange\\nthat', 'c\\n', 'proue\\n', 'loue\\nthe', 'fauourites', 'aduancd', 'enemies\\n', 'frend\\n', 'want', 'hollow', 'try\\n', 'directly', 'seasons', 'enemie\\n', 'orderly', 'begun\\n', 'willes', 'fates', 'contrary', 'run\\n', 'deuices', 'ouerthrowne\\nour', 'ours', 'ends', 'wed\\n', 'die', 'food', 'light\\n', 'sport', 'repose', 'opposite', 'blankes', 'hence', 'lasting', 'strife\\n', 'widdow', 'wife\\n', 'deepely', 'sworne\\n', 'beguile\\n', 'rocke', 'sleepes\\n', 'mischance', 'twaine\\n', 'protests', 'thinkes\\n', 'sheel', 'int\\n', 'iest', 'mousetrap', 'tropically\\nthis', 'vie\\nis', 'dukes', 'baptista', 'knauish', 'othat\\nyour', 'it\\nvs', 'galld', 'iade', 'winch', 'withers', 'ar\\n', 'lucianus\\n', 'lucianus', 'nephew', 'chorus', 'interpret', 'your\\n', 'puppets', 'dallying\\n', 'keene', 'keene\\n', 'cost', 'groaning', 'edge\\n', 'worse\\n', 'mistake', 'husbands\\n', 'begin', 'murderer', 'pox', 'damnable', 'faces', 'and\\nbegin', 'croaking', 'rauen', 'bellow', 'lucian', 'drugges', 'agreeing\\n', 'confederate', 'creature', 'seeing\\n', 'mixture', 'ranke', 'midnight', 'weeds', 'collected\\n', 'hecats', 'ban', 'infected\\n', 'magicke', 'dire', 'propertie\\n', 'vsurpe', 'immediately\\n', 'poysons', 'garden', 'fors', 'estate', 'his\\nnames', 'gonzago', 'story', 'extant', '\\nitalian', 'murtherer', 'gonzagos', 'rises\\n', 'frighted', 'lights', 'lights\\n', 'strucken', 'weepe\\n', 'hart', 'vngalled', 'runnes', 'away\\nwould', 'forrest', 'feathers', 'i\\nmy', 'turke', 'proui\\nroses', 'racd', 'share\\n', 'damon', 'deere\\n', 'realme', 'dismantled', 'ioue', 'reignes', 'paiocke\\n', 'rimd\\n', 'ghosts', 'wor\\n', 'pound', 'perceiue\\n', 'poysoning\\n', 'note', 'musick', 'y', 'recorders\\n', 'comedie\\n', 'perdie\\n', 'with\\n', 'history\\n', 'retyrement', 'maruellous', 'distem\\n', 'choller\\n', 'more\\nto', 'signifie', 'doctor', 'p\\nto', 'purgation', 'plundge', 'wildely', 'affayre\\n', 'pronounce\\n', 'welcome\\n', 'courtesie', 'no\\nthe', 'commandment\\nif', 'pardon', 'businesse\\n', 'cannot\\n', 'diseasd\\nbut', 'answers', 'therfore', 'behauior', 'hat\\n', 'amazement', 'admiration\\n', 'wonderfull', 'astonish', 'a\\nmother', 'sequell', 'heeles', 'ten', 'mo\\n', 'trade', 'pickers', 'stea\\n', 'di\\nyou', 'barre', 'doore', 'lib\\n', 'deny', 'aduancement\\n', 'voy\\nthe', 'succession', 'grasse', 'prouer\\n', 'musty\\n', 'recorder\\no', 'recorder', 'you\\ndo', 'toyle\\n', 'vnmannerly\\n', 'pipe\\n', 'easie', 'lying', 'gouerne', 'ven\\nwith', 'finger', 'thumbe', 'wit\\nmouth', 'mus\\n', 'stoppes\\n', 'vtt\\n', 'hermony', 'skill\\n', 'would\\nseeme', 'stops', 'pluck', 'the\\nof', 'mysterie', 'lowest\\nnote', 'compasse', 'organe', 'cannot\\nyou', 'easier\\nplaid', 'instrument', 'y\\nthough', 'fret', 'blesse', 'clowd', 'camell\\n', 'masse', 'camell', 'weazell\\n', 'backd', 'whale\\n', 'by\\n', 'easily', 'witching', 'night\\nwhen', 'churchyards', 'yawne', 'breat\\ncontagion', 'drink', 'quake', 'nero', 'firme', 'bosome\\n', 'cruell', 'daggers', 'none\\n', 'hypocrites\\n', 'someuer', 'shent\\n', 'seales', 'consent\\n', 'stands', 'safe', 'range', 'prepare', 'forthwith', 'endure\\n', 'hazard', 'hourely', 'grow\\n', 'lunacies\\n', 'prouide\\n', 'holie', 'religious', 'safe\\n', 'feede', 'single\\n', 'strength', 'noyance', 'depends', 'rests\\n', 'cease', 'dies', 'gulfe', 'draw\\n', 'massie', 'wheele\\n', 'somnet', 'highest', 'mount\\n', 'huge', 'spoakes', 'lesser', 'things\\n', 'mortizd', 'adioynd', 'small', 'annexment', 'pettie', 'attends', 'boystrous', 'ruine', 'sighe', 'grone\\n', 'speedie', 'vo\\n', 'fetters', 'freefooted\\n', 'haste', 'gent\\n', 'closset\\n', 'conuey', 'selfe\\nto', 'tax', 'meete', 'partiall', 'oreheare\\n', 'vantage', 'smels', 'primall', 'eldest', 'curse', 'vpont\\n', 'sharpe', 'stronger', 'guilt', 'defeats', 'pause', 'begin\\n', 'neglect', 'thicker', 'blood\\n', 'raine', 'white', 'snow', 'whereto', 'serues', 'confront', 'offence\\n', 'prayer', 'twofold', 'forestalled', 'pardond', 'past', 'prayer\\n', 'serue', 'forgiue', 'possest\\n', 'effects', 'retaine', 'corrupted', 'gilded', 'shoue', 'iustice\\n', 'prize', 'buyes', 'aboue\\n', 'shuffling', 'lyes\\n', 'compelld\\n', 'teeth', 'forehead', 'faults\\n', 'euidence', 'repentance', 'repent\\n', 'wretched', 'limed', 'strugling', 'ingagd', 'assay\\nbow', 'stubborne', 'strings', 'sinewes', 'newborne', 'babe\\n', 'pat', 'praying\\n', 'doot', 'reuengd', 'scannd\\n', 'killes', 'send\\nto', 'hyre', 'sallery', 'grossely', 'bread\\n', 'broad', 'fresh', 'audit', 'knowes', 'reuengd\\n', 'seasond', 'passage', 'hent\\n', 'drunke', 'rage\\n', 'pleasure', 'swearing', 'acte\\n', 'rellish', 'saluation', 'int\\nthen', 'trip', 'kicke', 'stayes\\n', 'physicke', 'prolongs', 'sickly', 'dayes\\n', 'remain', 'straight\\n', 'him\\ntell', 'prankes', 'be\\nand', 'screend', 'stoode', 'coming\\n', 'forgot', 'rood', 'boudge\\n', 'glasse\\n', 'inmost', 'hoa\\n', 'rat', 'ducate', 'slaine\\n', 'rash', 'bloody', 'marrie', 'intruding', 'betters', 'findst', 'busie', 'danger\\n', 'wringing', 'wring', 'penetrable', 'stuffe\\n', 'brazd', 'bulwarke', 'sense\\n', 'darst', 'wag', 'thy\\n', 'rude', 'blurres', 'blush', 'modestie\\n', 'cals', 'hypocrite', 'rose\\n', 'innocent', 'blister', 'dicers', 'oathes', 'deed\\n', 'contraction', 'pluckes\\n', 'sweete', 'religion', 'rapsidie', 'glow\\n', 'solidity', 'compound', 'masse\\n', 'tristfull', 'doome\\n', 'thoughtsicke', 'roares', 'lowd', 'thu\\n', 'index\\n', 'counterfet', 'presentment', 'seated', 'hyperions', 'curles', 'front', 'threaten', 'station', 'herald', 'mercurie\\n', 'lighted', 'heauenkissing', 'combination', 'seale\\n', 'assurance', 'man\\nthis', 'followes\\n', 'mildewd', 'blasting', 'wholsom', 'mountaine', 'feed\\n', 'batten', 'moore', 'heyday', 'humble\\n', 'waites', 'step', 'wast\\n', 'cousend', 'hoodmanblinde\\n', 'mutine', 'matrons', 'bones\\n', 'waxe\\n', 'melt', 'proclaime', 'shame\\n', 'compulsiue', 'ardure', 'charge\\n', 'frost', 'actiuely', 'burne\\n', 'panders', 'turnst', 'grained', 'spots\\n', 'tinct\\n', 'enseamed', 'stewd', 'corruption', 'honying', 'nasty', 'stye\\n', 'twentieth', 'tythe\\n', 'precedent', 'vice', 'kings\\n', 'cutpurse', 'empire', 'rule\\n', 'shelfe', 'precious', 'pocket\\n', 'shreds', 'patches\\n', 'houer', 'wings\\nyou', 'guards', 'tardy', 'chide\\n', 'lapst', 'important', 'acting', 'visitation\\n', 'whet', 'blunted', 'purpose\\n', 'sits\\n', 'fighting', 'weakest', 'strongest', 'workes\\n', 'lady\\n', 'vacancie\\n', 'corporall', 'discourse\\n', 'peepe\\n', 'soldiours', 'alarme\\n', 'bedded', 'excrements\\n', 'flame', 'sprinkle', 'coole', 'patience', 'looke\\n', 'glares\\n', 'conioynd', 'preaching', 'stones\\n', 'pitteous', 'conuert\\n', 'sterne', 'steals', 'habite', 'portall\\n', 'coynage', 'braine\\nthis', 'bodilesse', 'creation', 'cunnin\\n', 'extasie\\n', 'pulse', 'temperately', 'time\\nand', 'healthfull', 'madn\\n', 'vttered', 'test\\n', 'reword', 'gamboll', 'flattering', 'vnction', 'trespasse', 'speakes\\n', 'skin', 'filme', 'vlcerous', 'mining', 'within\\n', 'infects', 'vnseene', 'repent', 'spred', 'compost', 'weedes\\n', 'vertue\\n', 'fatnesse', 'pursie', 'times\\n', 'begge\\n', 'courb', 'cleft', 'worser', 'purer', 'halfe\\n', 'vnkles', 'bed\\nassume', 'refraine', 'easinesse\\n', 'next', 'abstinence', 'desirous', 'blest\\n', 'punish', 'scourge', 'minister\\n', 'worse', 'blunt', 'pinch', 'mouse\\n', 'paire', 'reechie', 'kisses\\n', 'padling', 'necke', 'fingers\\n', 'rauell', 'essentially', 'sober', 'wise\\n', 'paddocke', 'bat', 'gibbe\\n', 'concernings', 'despight', 'sense', 'secrecie\\n', 'vnpegge', 'basket', 'houses', 'birds', 'famous', 'ape\\n', 'conclusions', 'creepe\\n', 'assurd', 'saide', 'alacke', 'concluded', 'packing\\n', 'lugge', 'guts', 'neighbor', 'roome\\n', 'indeede', 'counsellor\\n', 'prating', 'tugging', 'sighes\\n', 'profound', 'heaues\\n', 'contend\\n', 'mightier', 'lawlesse', 'fit\\n', 'stirre\\n', 'rapier', 'rat\\n', 'brainish', 'killes\\n', 'threats', 'answered\\n', 'laide', 'prouidence\\nshould', 'restraind', 'haunt\\n', 'owner', 'disease\\n', 'divulging', 'feede\\n', 'apart', 'kild\\n', 'oare\\n', 'among', 'minerall', 'mettels', 'base\\n', 'pure', 'weepes', 'sooner', 'mountaines', 'touch\\n', 'ship', 'excuse\\n', 'ros', 'guild\\n', 'guildenstern\\n', 'ioyne', 'ayde\\n', 'clossets', 'dragd', 'chappell', 'vntimely', 'discord', 'dismay\\n', 'safely', 'stowed\\n', 'ro', 'compounded', 'kinne\\n', 'chappell\\n', 'mine\\nowne', 'besides', 'demanded', 'spundge', 'sokes', 'countenanc\\nrewards', 'authorities', 'officers', 't\\nbest', 'an\\nthe', 'corner', 'iaw', 'mouthd', '\\nwhen', 'needes', 'gleand', 'dry', 'bo\\n', 'fox', 'after\\n', 'find', 'loose\\n', 'multitude\\n', 'offenders', 'weighd\\nbut', 'deliberate', 'diseases', 'appliance', 'releeued\\n', 'rosincrane\\n', 'befalne\\n', 'bestowd', 'guarded', 'pleasure\\n', 'supper\\n', 'supper', 'eats', 'eaten', 'conuocation', 'wormes', 'ene', 'worm\\nis', 'emperor', 'crea\\nto', 'your\\nand', 'leane', 'progresse', 'begger\\n', 'thither', 'm\\nfinde', '\\nselfe', 'mon\\nshall', 'staires', 'k', 'espec\\n', 'deerely', 'greeue\\nfor', 'h\\nwith', 'fierie', 'quicknesse', 'barke', 'readie', 'associates', 'tend', 'knewst', 'purposes\\n', 'cherube', 'sees', 'and\\nwife', 'aboord\\n', 'delay', 'done\\nthat', 'leanes', 'holdst', 'thereof', 'cicatrice', 'raw', 'danish', 'awe\\n', 'payes', 'homage', 'maist', 'set\\n', 'coniuring', 'hecticke', 'rages\\n', 'cure', 'happes', 'armie\\n', 'captaine', 'greet', 'license', 'claimes', 'conueyance', 'promisd', 'kingdome', 'rendeuous\\n', 'importunate', 'distract', 'pittied\\n', 'speakes', 'she\\ntheres', 'trickes', 'hems', 'beats', 'he\\nspurnes', 'enuiously', 'strawes', 'vnshaped', 'hearers', 'collection', 'ayme', 'it\\nand', 'botch', 'thoughts\\nwhich', 'winkes', 'nods', 'gestures', 'yeel\\nindeed', 'vnhappily\\n', 'strew', 'coniectures\\n', 'breeding', 'amisse\\n', 'artlesse', 'iealousie', 'spills', 'fearing', 'spilt\\n', 'distracted\\n', 'beauteous', 'denmark\\n', 'a\\nby', 'cockle', 'staffe', 'sandal', 'song\\n', 'gone\\nat', 'grassegreene', 'turfe', 'heeles\\n', 'shrowd', 'snow\\n', 'larded', 'flowers\\n', 'bewept', 'trueloue', 'showres\\n', 'pretty', 'dild', 'owle', 'was\\n', 'bakers', 'but\\n', 'table\\n', 'aske', 'this\\nto', 'valentines', 'window', 'valentine\\nthen', 'dond', 'clothes', 'dupt', 'ch\\nlet', 'departed\\n', 'la', 'gis', 'charity\\n', 'blame\\n', 'quoth', 'tumbled', 'yonder', 'sunne\\n', 'hadst', 'pat\\nbut', 'choose', 's\\nlay', 'cold', 'ground', 'knowe\\nand', 'com\\n', 'coach', 'ladies\\n', 'close\\n', 'springs\\n', 'gertrude\\n', 'sorrowes', 'single', 'spies\\n', 'battalians', 'author\\n', 'people', 'muddied\\nthicke', 'vnwholsome', 'wh\\nfor', 'hugger', 'mugger', 'interre', 'diuided', 'iudgement\\nwithout', 'pictures', 'beasts\\n', 'containing', 'wonder', 'clouds\\n', 'buzzers', 'infect', 'speeches', 'necessitie', 'beggard\\n', 'sticke', 'arraigne\\n', 'murdering', 'places\\n', 'superfluous', 'messenger\\n', 'noyse', 'switzers\\n', 'mes', 'ocean', 'ouerpeering', 'eates', 'flats', 'impittious', 'haste\\n', 'riotous', 'orebeares', 'rabble', 'antiquity', 'ratifiers', 'props', 'cry', 'caps', 'tongues', 'applaud', 'cheerefully', 'counter', 'dogges\\n', 'broke\\n', 'w\\n', 'al', 'doore\\n', 'calmely', 'drop', 'calmes\\n', 'bastard\\n', 'cuckold', 'brands', 'harlot\\n', 'chaste', 'vnsmirched', 'rebellion', 'gyantlike\\n', 'person\\n', 'diuinity', 'hedge', 'peepe', 'acts', 'incenst', 'fill\\n', 'iuggeld', 'allegeance', 'blackest', 'diuell\\n', 'profoundest', 'pit\\n', 'damnation', 'negligence\\n', 'throughly', 'certaintie\\nof', 're\\n', 'soopstake', 'foe\\n', 'winner', 'looser\\n', 'ope', 'liferendring', 'politician\\n', 'repast', 'childe', 'guiltlesse', 'leuell', 'pierce\\n', 'that\\noh', 'drie', 'seuen', 'burne', 'sence', 'payed', 'waight\\n', 'turnes', 'beame', 'possible', 'maids', 'wits\\n', 'fine', 'instance', 'loues\\n', 'bore', 'facd', 'beer\\n', 'hey', 'non', 'nony', 'nony\\n', 'raines', 'teare\\n', 'doue\\n', 'perswade\\n', 'adowne', 'call\\n', 'adownea', 'wheele', 'becomes', 'is\\nthe', 'steward', 'stole', 'nothings', 'rosemary', 'remembraunce\\npray', 'paconcies', 'document', 'remem\\n', 'fitted\\n', 'fennell', 'columbines', '\\nrew', 'cal\\n', 'herbegrace', 'sundaies', 'rew\\nwith', 'difference', 'daysie', 'giue\\nsome', 'violets', 'witherd', 'fath\\n', 'bonny', 'robin', 'prettinesse\\n', 'deathbed\\n', 'flaxen', 'pole\\n', 'mone\\n', 'gramercy', 'christian', 'apart\\n', 'choice', 'colaterall', 'touchd', 'giue\\n', 'ours\\n', 'satisfaction', 'content', 'ioyntly', 'labour', 'due', 'content\\n', 'obscure', 'buriall\\n', 'trophee', 'hatchment', 'rite', 'formall', 'ostentation\\n', 'axe', 'ser', 'saylors', 'greeted', 'saylor\\n', 'andt', 'ambassadours', 'that\\nbound', 'reads', 'letter\\nhoratio', 'ouerlookd', 'gi\\nfellowes', 'let\\nfor', 'pyr\\nwarlicke', 'appointment', 'chace', 'finding', 'our\\nslow', 'saile', 'compelled', 'valour', '\\nboorded', 'got', 'cleare', 'of\\ni', 'became', 'dealt', '\\ntheeues', 'i\\na', 'le\\nsent', 'repaire', '\\nflye', 'eare\\ndumbe', 'bore\\nthese', 'am\\nand', 'englan\\n', 'knowest', 'thine\\n', 'letters\\n', 'speedier', 'acquittance\\n', 'sith', 'knowing', 'pursued', 'proceeded', 'feates\\n', 'crimefull', 'capitall', 'else\\n', 'mainly', 'stirrd', 'reasons\\n', 'vnsinnowed\\nand', 'plague', 'which\\n', 'shes', 'coniunctiue', 'moues', 'sphere\\n', 'motiue\\n', 'publike', 'gender', 'dipping', 'spring', 'turneth', 'wood', 'stone\\n', 'conuert', 'gyues', 'arrowes\\n', 'slightly', 'timbred', 'winde\\n', 'reuerted', 'lost\\n', 'driuen', 'tearmes\\n', 'praises', 'challenger', 'mount', 'perfections', 'dull\\n', 'shooke', 'danger\\nand', 'pastime', 'shortly', 'imagine\\n', 'claudio', 'messenger\\nhigh', 'mighty', 'naked', '\\nkingdome', '\\neyes', 'asking', 'the\\nth', 'hamlet\\nwhat', 'abuse', 'pos\\n', 'aduise', 'warmes', 'teeth\\n', 'diddest', 'otherwise', 'orerule', 'peace\\n', 'checking', 'voyage', 'vndertake', 'exployt', 'ripe', 'deuice\\n', 'vncharge', 'practice\\n', 'monthes', 'hence\\n', 'gentleman', 'normandy\\n', 'iue', 'serud', 'french\\n', 'ran', 'horsebacke', 'gallant\\n', 'grew', 'seat\\n', 'doing', 'encorpst', 'demynaturd\\n', 'forgery', 'shapes', 'trickes\\n', 'norman\\n', 'lamound\\n', 'same\\n', 'brooch', 'iemme', 'nation\\n', 'masterly', 'defence\\n', 'especiall\\n', 'cryed', 'twould', 'match', 'envenom', 'enuy\\n', 'painting', 'sorrow\\n', 'begun', 'passages', 'proofe\\n', 'qualifies', 'sparke', 'vndertake\\n', 'show', 'throat', 'church\\n', 'sancturize\\n', 'bounds', 'laertes\\nwill', 'returnd', 'praise', 'excellence\\n', 'varnish', 'fame\\nthe', 'frenchman', 'wager', 'heads', 'remisse\\n', 'contriuing\\n', 'peruse', 'foiles', 'ease\\n', 'choose\\n', 'vnbaited', 'requit', 'doot\\n', 'annoint', 'bought', 'mountebanke\\n', 'dipt', 'knife', 'cataplasme', 'rare\\n', 'collected', 'simples', 'moone', 'scratcht', 'point\\n', 'contagion', 'gall', 'slightly\\n', 'weigh', 'conuenience', 'faile\\nand', 'perfo\\n', 'assaid', 'proiect\\n', 'hold\\n', 'commings\\n', 'dry\\n', 'bowts', 'prepard', 'challice', 'nonce', 'sipping\\n', 'chance', 'venomd', 'stuck\\n', 'tread', 'anothers', 'heele\\n', 'sisters', 'drownd', 'willow', 'aslant', 'brooke\\nthat', 'hore', 'glassie', 'str\\n', 'fantasticke', 'garlands', 'crowflowers', 'nettles', 'daysies', 'purples\\n', 'liberall', 'shepheards', 'grosser', 'name\\nbut', 'pendant', 'boughes', 'coronet', 'weeds\\n', 'clambring', 'enuious', 'sliuer', 'weedy', 'trophies', 'selfe\\nfell', 'weeping', 'brooke', 'cloathes', 'mermaidlike', 'chaunted', 'snatches', 'tunes\\n', 'incapable', 'distresse\\n', 'indued\\n', 'element', 'garments', 'drinke\\n', 'puld', 'melodious', 'muddy', 'drownd\\n', 'water', 'forbid', 'yet\\n', 'tricke', 'holds\\n', 'blaze\\n', 'folly', 'doubts', 'calme', 'follow\\n', 'clownes\\n', 'clown', 'buri\\n', 'wilfully', 'seekes', 'saluation\\n', '\\nstraight', 'crowner', 'find\\n', 'clo', 'drowned', 'found', 'se', 'offendendo', '\\nheere', 'witt\\n', 'branches', 'an\\nact', 'performe', 'argall', 'wittingly\\n', 'goodman', 'deluer\\n', 'good\\nheere', 'th\\nand', 'nill', 'goes\\nmarke', 'd\\nhim', 'drownes', 'i\\nguilty', 'shortens', 'crowners', 'quest', 'had\\nbeene', 'gentlewoman', 'shee', 'buried\\n', 'sayst', 'pitty\\ngreat', 'folke', 'wo\\ndrowne', 'euen\\n', 'spade', 'ancient', 'gentlemen\\nbut', 'gardiners', 'ditchers', 'grauemakers', 'adams', 'profession\\n', 'heathen', 'vnders\\n', 'scripture', 'adam', 'digd\\ncould', 'digge', 'answerest', 'purpos\\n', 'builds', 'ei\\n', 'mason', 'shipwright', 'carpenter\\n', 'gallowes', 'maker', 'outl\\n', 'tenants\\n', 'g\\ndoes', 'to\\nthat', 'gall\\nbuilt', 'church', 'vnyoake\\n', 'cudgell', 'for\\ndull', 'mend', '\\nyou', 'askt', 'grauemak\\nhouses', 'lasts', 'yaughan', 'stoupe', 'liquor\\n', 'sings\\n', 'sweete\\n', 'contract', 'behoue\\n', 'meete\\n', 'feeling', 'busin\\n', 'sings', 'grauemaking\\n', 'een', 'imploymen\\n', 'daintier', 'stealing', 'steps\\n', 'clutch\\n', 'shipped', 'intill', 'such\\n', 'scull', 'could\\nonce', 'knaue', 'iowles', 'grownd', 'i\\nwere', 'caines', 'iawbone', 'it\\nmight', 'polititian', 'circumuent', 'this\\nmight', 'praisd', 'lor\\na', 'horse', 'wormes\\nchaplesse', 'knockt', 'mazard', 's\\nspade', 'reuolution', 'tr\\nseet', 'breeding\\n', 'loggets', 'em', 'ake', 'pickhaxe', 'spade\\n', 'shrowdingsheete\\n', 'pit', 'clay', 'guest', 'lawyer', 'quiddits', 'his\\nquillets', 'cases', 'tenures', 'tricks', 'why\\ndoes', 'knocke', 'h\\nthe', 'sconce', 'dirty', 'shouell', 't\\nhis', 'battery', 'hum', 'be\\ntime', 'buyer', 'land', 'statutes', 'fines', 'vouchers', 'recoueries\\nis', 'recouery\\n', 'dirt', 'his\\nvouchers', 'vouch', 'purchases', 'an\\nones', 'breadth', 'pair\\nindentures', 'conueyances', 'lands', 'will\\nhardly', 'boxe', 'inheritor\\n', 'ha\\n', 'iot', 'parchment', 'sheepskinnes\\n', 'calueskinnes', 'sheepe', 'calues', 'seek', 'ou\\nin', 'graues\\n', 'li\\n', 'tis\\ntis', 'lyest\\n', 'neither\\n', 'shees', 'absolute', 'speake\\nby', 'carde', 'equiuocation', 'vndoe', 'the\\nlord', 'yeares', 'n\\nthe', 'growne', 'picked', 'toe', 'th\\ncomes', 'kibe', 'grauemaker\\n', 'yeare', 'orecame', 'since\\n', 'tel\\nit', 'born\\n', 'because', 'recouer\\nwits', 'why\\n', 'strangely', 'strangely\\n', 'loosing', 'sixeteene\\n', 'thirty', 'yeares\\n', 'lie', 'die\\nmany', 'pocky', 'coarses', 'adaies', 'scarce\\nthe', 'eight', 'year\\n', 'tanner', 'nine', 'yeare\\n', 'another\\n', 'tand', 'tra\\nhe', 'your\\nis', 'decayer', 'horson', 'her\\nnow', 'scul', 'laine', 'tw\\n', 'whoreson', 'pestilence', 'p\\nflaggon', 'scull\\nsir', 'yoricks', 'yorick', 'him\\na', 'fa\\nhath', 'an\\nabhorred', 'imagination', 'gorge', 'rises', 'i\\nhung', 'lipps', 'kist', 'iibes', 'gambals', 'your\\nsongs', 'flashes', 'merriment', 'to\\nset', 'rore', 'ieering', 'chopfalne', 'ladies\\nchamber', 'paint', 'inch', 'thi\\nfauour', 'pr\\n', 'alexander', 'othis', 'smelt', 'puh\\n', 'horatio\\nwhy', 'trace', 'stopping', 'bunghole\\n', 'consider', 'curiously', 'consi\\n', 'th\\nwith', 'likeliehood', 'a\\nalexander', 'died', 'make\\nlome', 'lome', 'conue\\n', 'stopp', 'beerebarrell\\n', 'clay\\n', 'hole', 'patch', 'wall', 'expell', 'winters', 'flaw\\n', 'aside', 'king\\nenter', 'coffin', 'lo\\n', 'maimed', 'rites', 'betoken\\n', 'disperate', 'estate\\n', 'cerimony', 'priest', 'obsequies', 'inlargd\\n', 'warrantie', 'doubtfull\\n', 'oreswaies', 'vnsanctified', 'lodgd\\n', 'charitable', 'praier\\nshardes', 'flints', 'peebles', 'throwne', 'allowed', 'virgin', 'rites\\n', 'strewments', 'bringing', 'prophane', 'sage', 'requiem', 'peaceparted', 'vnpolluted', 'flesh\\n', 'churlish', 'priest\\n', 'ministring', 'liest', 'howling\\n', 'sweets', 'hopd', 'bridebed', 'deckt', 'maid\\n', 'strewd', 'terrible', 'woer\\n', 'trebble', 'ingenious', 'depriud', 'leaps', 'pile', 'pelion', 'skyish', 'blew', 'olympus\\n', 'griefes\\n', 'emphasis', 'sorrow\\nconiure', 'wandring', 'wonderwounded', 'deuill', 'praist', 'throat\\n', 'spleenatiue', 'rash\\n', 'dangerous\\n', 'wisenesse', 'asunder\\n', 'gen', 'fight', 'vppon', 'theme\\n', 'vntill', 'eielids', 'wag\\n', 'fortie', 'summe', 'forbeare', 'thoult', 'woot', 'esile', 'eate', 'crocodile\\n', 'whine\\n', 'outface', 'leaping', 'prate', 'throw\\n', 'millions', 'akers', 'sindging', 'zone\\n', 'ossa', 'wart', 'rant', 'female', 'cuplet', 'drooping\\n', 'cat', 'mew', 'dogge', 'him\\nstrengthen', 'push\\n', 'liuing', 'monument\\n', 'proceeding', 'fig\\n', 'lay\\n', 'mutines', 'bilboes', 'rashly\\n', 'rashnesse', 'indiscretion', 'well\\nwhen', 'plots', 'paule', 'ends\\n', 'roughhew', 'certaine\\n', 'cabin\\n', 'seagowne', 'scarft', 'darke\\n', 'gropd', 'fingerd', 'packet', 'withdrew\\n', 'roome', 'bold\\n', 'feares', 'forgetting', 'manners', 'vnseale\\n', 'grand', 'knauery', 'exact', 'seuerall', 'sorts', 'englands', 'hoo', 'bugges', 'goblins', 'superuize', 'leasure', 'bated\\n', 'grinding', 'axe\\n', 'struck', 'ley\\n', 'proceed\\n', 'benetted', 'villaines\\n', 'deuisd', 'wrote', 'statists', 'basenesse', 'write', 'laboured', 'much\\n', 'learning', 'yeomans', 'seriuce', 'wrote\\n', 'earnest', 'coniuration', 'tributary\\nas', 'flou\\n', 'wheaten', 'garland', 'weare\\n', 'comma', 'tweene', 'amities\\n', 'assis', 'view', 'contents\\n', 'debatement', 'lesse\\n', 'bearers', 'shriuing', 'allowed\\n', 'seald\\n', 'ordinate\\n', 'signet', 'purse\\n', 'modell', 'folded', 'subscribd', 'gaut', 'impression', 'plact', 'safely\\n', 'changeling', 'sement\\n', 'impl\\n', 'debate\\n', 'insinuation', 'incensed', 'points\\n', 'opposites\\n', 'thinkst', 'kild', 'whord', 'popt', 'election', 'hopes\\n', 'angle', 'life\\nand', 'coozenage', 'perfect', 'consci\\nto', 'quit', 'euill\\n', 'e\\n', 'interims', 'lifes', 'portraiture', 'brauery', 'griefe', 'towring', 'osricke\\n', 'osr', 'lordship', 'back', 'thank', '\\nknow', 'fertile', 'b\\nbe', 'beasts', 'crib', '\\nmesse', 'chowgh', 'spacious', 'dirt\\n', 'maiesty\\n', 'diligence', 'bonet', 'hot\\n', 'northerly\\n', 'soultry', 'complexion\\n', 'exceedingly', '\\ni', 'laid', 'remember\\n', 'good\\nsir', 'excellence', 'weapon\\n', 'dagger\\n', 'weapons', 'wagd', 'six', 'barb\\nagainst', 'impond', 'sixe', '\\nrapiers', 'poniards', 'assignes', 'gi\\nhangers', 'carriages', 'a\\ndeare', 'fancy', 'responsiue', 'hilts', 'carriages\\n', 'hangers\\n', 'germaine', 'the\\nmatter', 'sides', 'i\\nit', 'hangers', 'swords', '\\nliberall', 'conceited', 'p\\n', 'exceed', 'hits\\nhe', 'com\\nimediate', 'tryall', 'vouchsa\\n', 'answere\\n', 'opposition', 'tryall\\n', 'hall', 'i\\nhis', 'wit\\nthe', 'foyles', 'a\\nking', 'win', '\\nnot', 'gaine', 'odd\\n', 'redeliuer', 'y\\n', 'lapwing', 'runs', 'shell', 'complie', 'dugge', 'hee\\nsuckt', 'same\\nthat', 'drossie', 'dotes', 'only', '\\nthe', 'kin\\nyesty', 'carries', 't\\nthe', 'winnowed', 'opinions', 'tryalls', 'bubbles', 'continuall', 'practice', 'wi\\noddes', 'wouldest', 'foolery', 'kind\\n', 'gaingiuing', 'trouble', 'dislike', 'whit', 'defie', 'augury', 'spe\\nprouidence', 'sparrow', 'n\\nto', '\\nbe', 'readinesse', 'le\\nenter', 'foyles\\n', 'gauntlets', 'flagons', 'wine', 'wrong\\n', 'pardont', 'punisht\\n', 'exception\\n', 'wrongd', 'denies', 'faction', 'wrongd\\n', 'enemy\\n', 'audience\\n', 'disclaiming', 'purposd', 'arrow', 'house\\n', 'hurt', 'satisfied', 'case', 'most\\n', 'aloofe', 'reconcilement\\n', 'elder', 'president', 'vngorgd', 'offerd', 'embrace', 'freely\\n', 'foile', 'ignor\\n', 'skill', 'darkest', 'mocke', 'cousen', 'wager\\n', 'oddes', 'weaker', 'side\\n', 'betterd', 'oddes\\n', 'heauy\\n', 'length\\n', 'osricke', 'stopes', 'hit\\n', 'exchange\\n', 'battlements', 'ordinance', 'cup', 'vnion', 'richer', 'successiue', 'denmarkes', 'worne\\n', 'cups\\n', 'trumpets', 'cannoneer', 'without\\n', 'cannons', 'iudges', 'hit', 'palpable', 'pearle', 'cup\\n', 'bout', 'confesse\\n', 'win\\n', 'scant', 'napkin', 'rub', 'browes\\n', 'carowses', 'poysond', 'thinket\\n', 'conscience\\n', 'third\\n', 'dally\\n', 'affeard', 'way\\n', 'scuffling', 'rapiers\\n', 'incensd\\n', 'bleed', 'woodcocke\\n', 'sprindge', 'treacherie\\n', 'sounds', 'bleede\\n', 'poysond\\n', 'villany', 'lockd\\n', 'treacherie', 'medicine', 'vnbated', 'envenomd', 'practise\\n', 'lye\\n', 'rise', 'hurts', 'treason\\n', 'hurt\\n', 'murdrous\\n', 'potion', 'dyes\\n', 'serud\\n', 'tempred', 'exchange', 'forgiuenesse', 'adiew\\n', 'chance\\n', 'sergeant', 'strickd', 'arrest', 'liust', 'causes', 'vnsatisfied\\n', 'antike', 'roman', 'liquor', 'thart', 'hauet\\n', 'wounded', 'name\\nthings', 'standing', 'vnknowne', 'behin\\n', 'absent', 'felicitie', 'harsh', 'paine\\n', 'storie\\n', 'afarre', 'shout', 'conquest', 'warlik\\n', 'orecrowes', 'dying', 'occurrents', 'solicited', 'cracke', 'prince\\n', 'flights', 'drumme', 'hither\\nenter', 'english', 'ambassador', 'attendants\\n', 'fortin', 'search\\n', 'quarry', 'hauocke', 'cell\\n', 'princes', 'shoote\\n', 'bloodily', 'amb', 'dismall\\n', 'affaires', 'late\\nthe', 'fulfilld\\n', 'abilitie', 'iumpe', 'bloodie', 'polake', 'warres', 'arriued', 'order', 'bodies\\n', 'placed', 'view\\n', 'vnknowing', 'carnall', 'bloudie', 'acts\\n', 'accidentall', 'casuall', 'slaughters\\n', 'deaths', 'vpshot', 'purposes', 'mistooke\\n', 'inuentors', 'noblest', 'kingdome\\n', 'claime', 'doth\\n', 'inuite', 'presently', 'performd\\n', 'whiles', 'mindes', 'lest', 'mischance\\n', 'errors', 'happen\\n', 'captaines\\n', 'likely', 'royally\\n', 'passage\\n', 'souldiours', 'warre\\n', 'lowdly', 'field', 'amis\\n', 'souldiers', 'shoote\\nexeunt', 'marching', 'peale', 'ord\\n', 'finis'])"
      ]
     },
     "execution_count": 183,
     "metadata": {},
     "output_type": "execute_result"
    }
   ],
   "source": [
    "a = getList(counted_text)\n",
    "a"
   ]
  },
  {
   "cell_type": "code",
   "execution_count": 179,
   "metadata": {},
   "outputs": [
    {
     "data": {
      "text/plain": [
       "dict_keys(['the', 'tragedie', 'of', 'hamlet\\n', '', 'actus', 'primus', 'scoena', 'prima\\n', 'enter', 'barnardo', 'and', 'francisco', 'two', 'centinels\\n', 'whos', 'there\\n', 'fran', 'nay', 'answer', 'me', 'stand', 'vnfold\\n', 'your', 'selfe\\n', 'bar', 'long', 'liue', 'king\\n', 'barnardo\\n', 'he\\n', 'you', 'come', 'most', 'carefully', 'vpon', 'houre\\n', 'tis', 'now', 'strook', 'twelue', 'get', 'thee', 'to', 'bed', 'f\\n', 'for', 'this', 'releefe', 'much', 'thankes', 'bitt\\n', 'i', 'am', 'sicke', 'at', 'heart\\n', 'barn', 'haue', 'had', 'quiet', 'guard\\n', 'not', 'a', 'mouse', 'stirring\\n', 'well', 'goodnight', 'if', 'do', 'meet', 'horatio', 'and\\nmarcellus', 'riuals', 'my', 'watch', 'bid', 'them', 'make\\n', 'marcellus\\n', 'thinke', 'heare', 'hor', 'friends', 'ground\\n', 'mar', 'leigemen', 'dane\\n', 'giue', 'good', 'night\\n', 'o', 'farwel', 'honest', 'soldier', 'who', 'hath', 'relieu\\n', 'fra', 'has', 'place', 'goodnight\\n', 'exit', 'fran\\n', 'holla', 'say', 'what', 'is', 'peece', 'him\\n', 'welcome', 'thing', 'appeard', 'againe', 'n\\n', 'seene', 'nothing\\n', 'saies', 'but', 'our', 'fantasie\\n', 'will', 'let', 'beleefe', 'take', 'hold', 'touching', 'dreaded', 'sight', 'twice', 'vs\\n', 'therefore', 'intreated', 'him', 'along\\n', 'with', 'vs', 'minutes', 'that', 'apparition', 'come\\n', 'he', 'may', 'approue', 'eyes', 'speake', 'it\\n', 'tush', 'twill', 'appeare\\n', 'sit', 'downe', 'awhile\\n', 'once', 'assaile', 'eares\\n', 'are', 'so', 'fortified', 'against', 'story\\n', 'we', 'nights', 'seene\\n', 'downe\\n', 'this\\n', 'last', 'night', 'all\\nwhen', 'yond', 'same', 'starre', 'thats', 'westward', 'from', '\\n', 'made', 'his', 'course', 't', 'illume', 'part', 'heauen\\n', 'where', 'it', 'burnes', 'marcellus', 'bell', 'then', 'beating', 'one\\n', 'peace', 'breake', 'of\\n', 'ghost\\n', 'looke', 'comes', 'againe\\n', 'in', 'figure', 'like', 'king', 'thats\\n', 'thou', 'art', 'scholler', 'horatio\\n', 'lookes', 'marke', 'h\\n', 'hora', 'harrowes', 'fear', 'wo\\n', 'would', 'be', 'spoke', 'too\\n', 'question', 'vsurpst', 'time', 'together', 'faire', 'warlike', 'forme\\n', 'which', 'maiesty', 'buried', 'denmarke\\ndid', 'sometimes', 'march', 'by', 'heauen', 'charge', 'sp\\n', 'offended\\n', 'see', 'stalkes', 'away\\n', 'stay', 'speake\\n', 'gone', 'answer\\n', 'how', 'tremble', 'look', 'pale\\n', 'something', 'more', 'ont\\n', 'before', 'god', 'might', 'beleeue\\n', 'without', 'sensible', 'true', 'auouch\\n', 'mine', 'owne', 'eyes\\n', 'as', 'thy', 'such', 'was', 'very', 'armour', 'on\\n', 'when', 'th', 'ambitious', 'norwey', 'combatted\\n', 'frownd', 'an', 'angry', 'parle\\n', 'smot', 'sledded', 'pollax', 'on', 'ice\\n', 'strange\\n', 'thus', 'iust', 'dead\\n', 'martiall', 'stalke', 'watch\\n', 'particular', 'thought', 'work', 'kn\\n', 'grosse', 'scope', 'opinion\\n', 'boades', 'some', 'strange', 'erruption', 'state\\n', 'tell', 'knowes\\n', 'why', 'strict', 'obseruant', 'nightly', 'toyles', 'subiect', 'land\\n', 'dayly', 'cast', 'brazon', 'cannon\\n', 'forraigne', 'mart', 'implements', 'warre\\nwhy', 'impresse', 'shipwrights', 'whose', 'sore', 'taske\\n', 'dos', 'diuide', 'sunday', 'weeke\\n', 'toward', 'sweaty', 'hast\\n', 'doth', 'make', 'ioyntlabourer', 'day\\n', 'ist', 'can', 'informe', 'me\\n', 'i\\n', 'least', 'whisper', 'goes', 'image', 'euen', 'know', 'fortinbras', 'norway\\n', 'thereto', 'prickd', 'emulate', 'pride\\n', 'dard', 'combate', 'valiant', 'side', 'knowne', 'world', 'esteemd', 'did', 'slay', 'seald', 'compact\\n', 'ratified', 'law', 'heraldrie\\n', 'forfeite', 'life', 'all', 'those', 'lands\\n', 'stood', 'seizd', 'conqueror\\n', 'moity', 'competent\\n', 'gaged', 'returnd\\n', 'inheritance', 'fortinbras\\n', 'bin', 'vanquisher', 'counant\\n', 'carriage', 'article', 'designe\\n', 'fell', 'hamlet', 'sir', 'young', 'vnimproued', 'mettle', 'hot', 'full\\n', 'skirts', 'norway', 'heere', 'sharkd', 'vp', 'list', 'landlesse', 'resolutes\\n', 'foode', 'diet', 'enterprize\\n', 'stomacke', 'int', 'no', 'other\\n', 'appeare', 'vnto', 'recouer', 'strong', 'hand\\n', 'termes', 'compulsatiue', 'foresaid', 'father', 'lost', 'maine', 'motiue', 'preparations\\n', 'sourse', 'cheefe', 'head\\n', 'posthast', 'romage', 'ghost', 'soft', 'behold', 'loe', 'ile', 'crosse', 'though', 'blast', 'illusion\\n', 'hast', 'any', 'sound', 'or', 'vse', 'voyce\\nspeake', 'there', '\\nthat', 'ease', 'grace', 'speak\\n', 'priuy', 'countries', 'fate\\n', 'happily', 'foreknowing', 'auoyd', 'oh', 'vphoorded', 'life\\n', 'extorted', 'treasure', 'wombe', 'earth\\nfor', 'they', 'spirits', 'oft', 'walke', 'death\\n', 'stop', 'shall', 'strike', 'partizan\\n', 'stand\\n', 'heere\\n', 'gone\\n', 'wrong', 'being', 'maiesticall\\n', 'offer', 'shew', 'violence\\n', 'ayre', 'invulnerable\\n', 'vaine', 'blowes', 'malicious', 'mockery\\n', 'about', 'cocke', 'started', 'guilty', 'thing\\n', 'fearfull', 'summons', 'heard\\n', 'trumpet', 'lofty', 'shrillsounding', 'throate\\n', 'awake', 'day', 'warning\\n', 'whether', 'sea', 'fire', 'earth', 'ayre\\n', 'extrauagant', 'erring', 'spirit', 'hyes\\n', 'confine', 'truth', 'heerein\\n', 'present', 'obiect', 'probation\\n', 'faded', 'crowing', 'cocke\\n', 'sayes', 'euer', 'gainst', 'season', 'comes\\n', 'wherein', 'sauiours', 'birch', 'celebrated\\n', 'bird', 'dawning', 'singeth', 'long\\n', 'abroad\\n', 'wholsome', 'planets', 'strike\\n', 'faiery', 'talkes', 'nor', 'witch', 'power', 'charme\\n', 'hallowd', 'gracious', 'time\\n', 'heard', 'beleeue', 'morne', 'russet', 'mantle', 'clad\\n', 'walkes', 'ore', 'dew', 'yon', 'high', 'easterne', 'hill\\n', 'aduice\\n', 'impart', 'yong', 'dumbe', 'consent', 'acquaint', 'needfull', 'loues', 'fitting', 'duty\\n', 'dot', 'pray', 'morning', 'know\\n', 'finde', 'conueniently\\n', 'exeunt\\n', 'scena', 'secunda\\nenter', 'claudius', 'denmarke', 'gertrude', 'q\\n', 'polonius\\n', 'laertes', 'sister', 'ophelia', 'lords', 'attendant\\n', 'yet', 'deere', 'brothers\\n', 'memory', 'greene', 'befitted\\nto', 'beare', 'hearts', 'greefe', 'whole', 'ki\\n', 'contracted', 'one', 'brow', 'woe\\n', 'farre', 'discretion', 'fought', 'nature\\n', 'wisest', 'sorrow', 'remembrance', 'selues\\n', 'queene\\n', 'imperiall', 'ioyntresse', 'twere', 'defeated', 'ioy\\n', 'auspicious', 'dropping', 'eye\\nwith', 'mirth', 'funerall', 'dirge', 'marriage\\n', 'equall', 'scale', 'weighing', 'delight', 'dole\\n', 'taken', 'wife', 'heerein', 'barrd\\n', 'better', 'wisedomes', 'freely', 'affaire', 'along', 'thankes\\n', 'followes', 'holding', 'weake', 'supposall', 'worth\\n', 'thinking', 'late', 'brothers', 'state', 'disioynt', 'out', 'frame\\n', 'colleagued', 'dreame', 'aduantage\\n', 'fayld', 'pester', 'message\\n', 'importing', 'surrender', 'bonds', 'law\\n', 'brother', 'voltemand', 'cornelius\\n', 'selfe', 'meeting\\n', 'businesse', 'writ\\n', 'vncle', 'impotent', 'bedrid', 'scarsely', 'heares\\n', 'nephewes', 'purpose', 'suppresse\\n', 'further', 'gate', 'leuies\\n', 'lists', 'full', 'proportions', 'made\\n', 'dispatch\\n', 'cornelius', 'voltemand\\n', 'bearing', 'greeting', 'old', 'giuing', 'personall', 'power\\n', 'scope\\n', 'these', 'dilated', 'articles', 'allow\\n', 'farewell', 'commend', 'volt', 'things', 'ou\\n', 'doubt', 'nothing', 'heartily', 'farewell\\n', 'whats', 'newes', 'you\\n', 'told', 'suite', 'laertes\\n', 'cannot', 'reason', 'dane\\nand', 'loose', 'voyce', 'wouldst', 'beg', 'lae\\n', 'asking\\n', 'head', 'natiue', 'hand', 'instrumentall', 'mouth\\n', 'throne', 'father\\n', 'laer', 'dread', 'lord\\n', 'leaue', 'fauour', 'returne', 'france\\n', 'whence', 'willingly', 'came', 'denmarke\\n', 'duty', 'coronation\\n', 'must', 'confesse', 'done\\nmy', 'thoughts', 'wishes', 'bend', 'towards', 'bow', 'pardon\\n', 'fathers', 'leaue\\n', 'pollonius\\n', 'pol', 'beseech', 'go\\n', 'houre', 't\\n', 'best', 'graces', 'spend', 'will\\n', 'cosin', 'sonne\\n', 'ham', 'little', 'kin', 'lesse', 'kinde\\n', 'clouds', 'still', 'hang', 'o\\n', 'lord', 'too', 'ith', 'sun\\n', 'queen', 'colour', 'off\\nand', 'thine', 'eye', 'friend', 'veyled', 'lids\\n', 'seeke', 'noble', 'dust\\n', 'knowst', 'common', 'liues', 'dye\\n', 'passing', 'through', 'nature', 'eternity\\n', 'madam', 'common\\n', 'be\\n', 'seemes', 'thee\\n', 'seemes\\n', 'alone', 'inky', 'cloake', 'mother\\n', 'customary', 'suites', 'solemne', 'blacke\\n', 'windy', 'suspiration', 'forcd', 'breath\\n', 'fruitfull', 'riuer', 'eye\\n', 'deiected', 'hauiour', 'visage\\n', 'formes', 'moods', 'shewes', 'griefe\\n', 'denote', 'truly', 'indeed', 'seeme\\n', 'actions', 'man', 'play\\n', 'within', 'passeth', 'show\\n', 'trappings', 'sweet', 'commendable\\n', 'mourning', 'duties', 'suruiuer', 'bound\\n', 'filiall', 'obligation', 'terme\\n', 'obsequious', 'perseuer\\n', 'obstinate', 'condolement', 'course\\n', 'impious', 'stubbornnesse', 'vnmanly', 'greefe\\n', 'incorrect', 'heart', 'vnfortified', 'minde', 'impatient\\n', 'vnderstanding', 'simple', 'vnschoold\\n', 'vulgar', 'sence\\n', 'should', 'peeuish', 'opposition\\n', 'fye', 'fault', 'dead', 'absurd', 'theame\\n', 'death', 'cried\\n', 'first', 'coarse', 'till', 'dyed', 'throw', 'earth\\n', 'vnpreuayling', 'woe', 'note\\n', 'immediate', 'throne\\n', 'nobility', 'loue\\n', 'deerest', 'beares', 'intent\\n', 'going', 'backe', 'schoole', 'wittenberg\\n', 'retrograde', 'desire\\n', 'remaine\\n', 'cheere', 'comfort', 'cheefest', 'courtier', 'qu', 'mother', 'lose', 'her', 'prayers', 'prythee', 'go', 'best\\n', 'obey', 'madam\\n', 'louing', 'reply\\n', 'gentle', 'vnforcd', 'accord', 'sits', 'smiling', 'whereof\\n', 'iocond', 'health', 'drinkes', 'great', 'cannon', 'clowds', 'tell\\nand', 'kings', 'rouce', 'heauens', 'bruite', 'a\\n', 'respeaking', 'earthly', 'thunder', 'manet', 'solid', 'flesh', 'melt\\n', 'thaw', 'resolue', 'into', 'dew\\n', 'euerlasting', 'fixt\\n', 'selfeslaughter', 'god\\n', 'weary', 'stale', 'flat', 'vnprofitable\\n', 'vses', 'world\\n', 'fie', 'ont', 'vnweeded', 'garden\\nthat', 'growes', 'seed', 'rank', 'possesse', 'meerely', 'months', 'two\\n', 'excellent', 'hiperion', 'satyre', 'beteene', 'windes', 'visit', 'face', 'roughly', 'remember', 'she', 'encrease', 'appetite', 'growne\\n', 'fed', 'month\\n', 'frailty', 'name', 'woman\\n', 'month', 'ere', 'shooes', 'were', 'old\\n', 'followed', 'poore', 'body\\n', 'niobe', 'teares', 'she\\n', 'beast', 'wants', 'discourse', 'reason\\n', 'mournd', 'longer', 'married', 'vnkle\\n', 'hercules', 'moneth\\n', 'salt', 'vnrighteous', 'teares\\n', 'left', 'flushing', 'gauled', 'wicked', 'speed', 'post\\n', 'dexterity', 'incestuous', 'sheets\\n', 'good\\n', 'tongue\\n', 'haile', 'lordship\\n', 'glad', 'well\\n', 'forget', 'seruant', 'euer\\n', 'friend\\n', 'change', 'wittenberg', 'sir\\n', 'faith', 'wittemberge\\n', 'truant', 'disposition', 'enemy', 'so\\n', 'doe', 'eare', 'truster', 'report\\n', 'truant\\n', 'elsenour\\n', 'weel', 'teach', 'drinke', 'deepe', 'depart\\n', 'fune\\n', 'mock', 'fellow', 'student\\n', 'mothers', 'wedding\\n', 'hard', 'vpon\\n', 'thrift', 'bakt\\n', 'coldly', 'furnish', 'forth', 'marriage', 'tables\\n', 'met', 'dearest', 'foe', 'thinkes', 'minds', 'saw', 'goodly', 'all\\n', 'yesternight\\n', 'who\\n', 'admiration', 'while\\n', 'attent', 'deliuer\\n', 'witnesse', 'gentlemen\\n', 'maruell', 'loue', 'heare\\n', 'their', 'wast', 'middle', 'beene', 'encountred', 'armd', 'points', 'exactly', 'cap', 'pe\\n', 'appeares', 'sollemne', 'march\\n', 'slow', 'stately', 'thrice', 'walkt\\n', 'opprest', 'fearesurprized', 'truncheons', 'length', 'whilst', 'bestild\\n', 'almost', 'ielly', 'act', 'feare\\n', 'dreadfull', 'secrecie', 'did\\n', 'third', 'kept', 'whereas', 'deliuerd', 'both', 'forme', 'each', 'word', 'knew', 'hands', 'like\\n', 'platforme', 'watcht\\n', 'answere', 'none', 'thought\\n', 'lifted', 'addresse\\n', 'motion', 'crew', 'lowd\\n', 'shrunke', 'vanisht', 'sight\\n', 'honourd', 'true\\n', 'writ', 'sirs', 'troubles', 'top', 'toe\\n', 'foote\\n', 'face\\n', 'yes', 'wore', 'beauer', 'vp\\n', 'lookt', 'frowningly\\n', 'countenance', 'anger\\n', 'pale', 'red\\n', 'fixt', 'constantly\\n', 'amazd', 'staid', 'while', 'moderate', 'longer\\n', 'sawt\\n', 'beard', 'grisly', 'no\\n', 'sable', 'siluerd\\n', 'perchance', 'wake\\n', 'warrant', 'assume', 'person\\nile', 'hell', 'gape\\n', 'hitherto', 'conceald', 'bee', 'treble', 'silence', 'still\\n', 'whatsoeuer', 'els', 'hap', 'requite', 'fare', 'ye', 'twixt', 'eleuen', 'twelue\\n', 'honour\\n', 'armes', 'well\\ni', 'foule', 'play', 'come\\ntill', 'soule', 'deeds', 'orewhelm', 'mens', 'eies\\n', 'enter\\n', 'tertia\\n', 'ophelia\\n', 'necessaries', 'imbarkt', 'winds', 'benefit\\n', 'conuoy', 'assistant', 'sleepe\\n', 'ophel', 'that\\n', 'trifling', 'fauours\\n', 'fashion', 'toy', 'bloude\\n', 'violet', 'youth', 'primy', 'froward', 'permanent', 'lasting\\n', 'suppliance', 'minute', 'more\\n', 'cressant', 'does', 'grow', 'alone\\n', 'thewes', 'bulke', 'temple', 'waxes\\n', 'inward', 'seruice', 'soule\\n', 'wide', 'withall', 'perhaps', 'now\\n', 'soyle', 'cautell', 'besmerch\\n', 'vertue', 'feare', 'greatnesse', 'weighd', 'owne\\n', 'hee', 'himselfe', 'birth\\n', 'vnuallued', 'persons', 'doe\\n', 'carue', 'choyce', 'depends\\n', 'sanctity', 'circumscribd\\n', 'yeelding', 'body\\nwhereof', 'lou\\n', 'fits', 'wisedome', 'peculiar', 'sect', 'force\\n', 'saying', 'deed', 'further\\n', 'withall\\n', 'weight', 'losse', 'honour', 'sustaine\\n', 'credent', 'songs\\n', 'chast', 'open\\n', 'vnmastred', 'importunity\\n', 'deare', 'sister\\n', 'keepe', 'reare', 'affection\\n', 'shot', 'danger', 'chariest', 'maid', 'prodigall', 'enough\\n', 'vnmaske', 'beauty', 'moone\\n', 'scapes', 'calumnious', 'stroakes\\n', 'canker', 'galls', 'infants', 'spring\\n', 'buttons', 'disclosd\\n', 'liquid', 'youth\\n', 'contagious', 'blastments', 'imminent\\n', 'wary', 'safety', 'lies', 'rebels', 'else', 'neere\\n', 'ophe', 'effect', 'lesson', 'watchmen', 'brother\\n', 'vngracious', 'pastors', 'steepe', 'thorny', 'way', 'puft', 'recklesse', 'libertine\\n', 'primrose', 'path', 'dalliance', 'treads\\n', 'reaks', 'reade\\n', 'not\\n', 'here', 'double', 'blessing', 'grace\\n', 'occasion', 'smiles', 'second', 'polon', 'aboord', 's\\n', 'winde', 'shoulder', 'saile\\n', 'few', 'precepts', 'memory\\n', 'character', 'vnproportiond', 'act\\n', 'familiar', 'meanes', 'vulgar\\n', 'adoption', 'tride\\n', 'grapple', 'hoopes', 'steele\\n', 'dull', 'palme', 'entertainment\\n', 'vnhatcht', 'vnfledgd', 'comrade', 'beware\\n', 'entrance', 'quarrell', 'in\\n', 'beart', 'opposed', 'beware', 'euery', 'voyce\\n', 'mans', 'censure', 'reserue', 'iudgement\\n', 'costly', 'habit', 'purse', 'buy\\n', 'exprest', 'fancie', 'rich', 'gawdie\\n', 'apparell', 'proclaimes', 'man\\n', 'france', 'ranck', 'station\\n', 'select', 'generous', 'cheff', 'neither', 'borrower', 'lender', 'lone', 'loses', 'borrowing', 'duls', 'edge', 'husbandry\\n', 'aboue', 'follow', 'canst', 'false', 'humbly', 'inuites', 'goe', 'seruant\\n', 'said', 'lockt\\n', 'key', 'laer\\n', 'please', 'somthing', 'lor\\n', 'marry', 'bethought\\n', 'late\\n', 'giuen', 'priuate', 'selfe\\nhaue', 'audience', 'free', 'boun\\n', 'put', 'caution', 'vnderstand', 'cleerely\\n', 'behoues', 'daughter', 'betweene', 'truth\\n', 'many', 'tenders\\n', 'affection', 'puh', 'green\\n', 'vnsifted', 'perillous', 'circumstance\\n', 'tenders', 'call', 'them\\n', 'thinke\\n', 'tane', 'pay\\nwhich', 'starling', 'tender', 'crack', 'phrase\\n', 'roaming', 'youl', 'foole\\n', 'importund', 'honourable', 'fashion\\n', 'speech\\n', 'vowes', 'springes', 'catch', 'woodcocks', 'bloud', 'giues', 'tongue', 'blazes', 'daughter\\n', 'light', 'heate', 'extinct', 'both\\n', 'promise', 'making\\nyou', 'somewhat', 'scanter', 'maiden', 'presence\\n', 'set', 'entreatments', 'higher', 'rate\\n', 'command', 'parley', 'young\\n', 'larger', 'tether', 'walke\\n', 'broakers\\n', 'inuestments', 'meere', 'implorators', 'vnholy', 'sutes\\n', 'breathing', 'sanctified', 'pious', 'bonds\\n', 'beguile', 'all\\ni', 'plaine', 'tearmes', 'slander', 'moment', 'leisure\\n', 'words', 'talke', 'toot', 'wayes\\n', 'bites', 'shrewdly', 'cold\\n', 'nipping', 'eager', 'hower', 'lacks', 'strooke\\n', 'drawes', 'ne\\n', 'held', 'wont', 'meane', 'wake', 'takes', 'hi\\nkeepes', 'wassels', 'swaggering', 'vpspring', 'reeles\\n', 'dreines', 'draughts', 'renish', 'kettle', 'drum', 'bray', 'out\\n', 'triumph', 'pledge\\n', 'horat', 'custome\\n', 'ist\\n', 'mind', 'manner', 'borne', 'breach', 'obseruance\\n', 'angels', 'ministers', 'defend', 'goblin', 'damnd\\nbring', 'ayres', 'blasts', 'fr\\n', 'euents', 'charitable\\n', 'comst', 'questionable', 'shape\\n', 'royall', 'dane', 'burst', 'ignorance', 'tell\\n', 'canonizd', 'bones', 'hearsed', 'cerments', 'sepulcher\\n', 'quietly', 'enurnd\\n', 'opd', 'ponderous', 'marble', 'iawes\\n', 'meane\\n', 'compleat', 'reuisits', 'glimpses', 'making', 'hidious', 'fooles', 'horridly', 'shake', 'disposition\\n', 'beyond', 'reaches', 'soules\\n', 'wherefore', 'beckens', 'beckons', 'away', 'impartment', 'courteous', 'action\\n', 'wafts', 'remoued', 'meanes\\n', 'pins', 'fee\\n', 'immortall', 'waues', 'tempt', 'floud', 'm\\n', 'sonnet', 'cliffe\\n', 'beetles', 'base', 'sea\\n', 'assumes', 'other', 'horrible', 'depriue', 'soueraignty', 'draw', 'madnesse', 'off', 'ruld', 'goe\\n', 'fate', 'cries', 'makes', 'petty', 'artire', 'hardy', 'nemian', 'lions', 'nerue\\n', 'cald', 'vnhand', 'heaun', 'lets', 'exeunt', 'waxes', 'desperate', 'imagination\\n', 'fit', 'after', 'issue', 'rotten', 'denm\\n', 'direct', 'wilt', 'lead', 'speak', 'gho', 'sulphurous', 'tormenting', 'flames\\n', 'render', 'alas', 'pitty', 'lend', 'serious', 'hearing\\n', 'bound', 'reuenge', 'shalt', 'what\\n', 'spirit\\n', 'doomd', 'certaine', 'terme', 'confind', 'fast', 'fiers\\n', 'crimes', 'done', 'dayes', 'burnt', 'purgd', 'forbid\\n', 'secrets', 'prisonhouse\\n', 'could', 'tale', 'vnfold', 'lightest', 'word\\n', 'harrow', 'freeze', 'blood\\nmake', 'starres', 'start', 'thei\\n', 'knotty', 'combined', 'lockes', 'part\\n', 'haire', 'end\\n', 'quilles', 'fretfull', 'porpentine\\n', 'eternall', 'blason', 'eares', 'list\\n', 'didst', 'vnnaturall', 'mu\\n', 'murther\\n', 'murther', 'is\\n', 'vnnaturall\\n', 'wings', 'swift\\n', 'meditation', 'sweepe', 'reuenge\\n', 'apt\\n', 'duller', 'shouldst', 'fat', 'weede\\n', 'rots', 'lethe', 'wharfe\\n', 'stirre', 'its', 'sleeping', 'orchard\\n', 'serpent', 'stung', 'forged', 'processe', 'rankly', 'abusd', 'sting', 'weares', 'crowne\\n', 'propheticke', 'vncle\\n', 'adulterate', 'beast\\nwith', 'witchcraft', 'wits', 'traitorous', 'gu\\n', 'wit', 'gifts', 'seduce', 'won', 'shamefull', 'lust\\n', 'seeming', 'vertuous', 'falling', 'dignity\\n', 'went', 'vow\\n', 'decline\\n', 'wretch', 'naturall', 'poore\\nto', 'neuer', 'wil', 'lewdnesse', 'court', 'shape', 'lust', 'radiant', 'angell', 'linkd\\nwill', 'sate', 'celestiall', 'prey', 'sent', 'mornings', 'briefe', 'custome', 'alwayes', 'afternoone\\n', 'secure', 'stole\\n', 'iuyce', 'cursed', 'hebenon', 'violl\\n', 'porches', 'poure\\n', 'leaperous', 'distilment', 'effect\\n', 'holds', 'enmity', 'swift', 'quicksiluer', 'courses', 'through\\n', 'gates', 'allies', 'sodaine', 'vigour', 'posset\\n', 'curd', 'aygre', 'droppings', 'milke\\n', 'thin', 'blood', 'mine\\n', 'instant', 'tetter', 'bakd', 'about\\n', 'lazarlike', 'vile', 'loathsome', 'crust\\n', 'smooth', 'crowne', 'queene', 'dispatcht\\n', 'cut', 'blossomes', 'sinne\\n', 'vnhouzzled', 'disappointed', 'vnnaneld\\n', 'reckoning', 'account\\n', 'imperfections', 'horrible\\n', 'couch', 'luxury', 'damned', 'incest\\n', 'howsoeuer', 'pursuest', 'taint', 'contriue\\n', 'ought', 'thornes', 'bosome', 'lodge\\n', 'pricke', 'once\\n', 'glowworme', 'showes', 'matine', 'gins', 'vneffectuall', 'fire\\n', 'adue', 'host', 'els\\n', 'couple', 'sinnewes', 'stiffely', 'seate\\n', 'distracted', 'globe', 'yea', 'table', 'wipe', 'triuiall', 'fond', 'records\\n', 'sawes', 'bookes', 'presures', 'past\\n', 'obseruation', 'coppied', 'commandment', 'liue\\n', 'booke', 'volume', 'braine\\n', 'vnmixt', 'baser', 'matter', 'pernicious', 'villaine', 'villaine\\n', 'tables', 'smile', 'im', 'sure', 'vnckle', 'swornt\\n', 'illo', 'ho', 'hillo', 'boy', 'wonderfull\\n', 'reueale', 'onc\\n', 'secret\\n', 'theres', 'nere', 'dwelling', 'hees', 'arrant', 'knaue\\n', 'needs', 'the\\n', 'graue', 'right', 'right\\n', 'circumstance', 'busines', 'desires', 'point', 'pray\\n', 'wild', 'hurling', 'my\\n', 'sorry', 'offend', 'heartily\\n', 'offence', 'saint', 'patricke', 'vision', 'desire', 'oremastert', 'friends\\n', 'schollers', 'soldiers\\n', 'request\\n', 'known', 'seen', 'sweart\\n', 'infaith', 'faith\\n', 'sword\\n', 'marcell', 'sworne', 'already\\n', 'sword', 'indeed\\n', 'sweare\\n', 'vnder', 'stage\\n', 'ah', 'ha', 'sayest', 'selleredge\\n', 'propose', 'oath', 'sweare', 'hic', 'vbique', 'shift', 'grownd\\n', 'hither', 'lay', 'mole', 'worke', 'grou\\n', 'worthy', 'pioner', 'remoue', 'wondrous', 'stranger', 'wel\\nthere', 'dreamt', 'philosophy', 'helpe', 'mercy\\n', 'odde', 'heereafter', 'meet\\n', 'anticke', 'seeing', 'shall\\n', 'encombred', 'shake\\n', 'pronouncing', 'doubtfull', 'would\\nor', 'ambiguous', 'mercy', 'neede', 'rest', 'perturbed', 'expresse', 'friending', 'you\\ngod', 'willing', 'lacke', 'toge\\n', 'fingers', 'lippes', 'ioynt', 'spight\\n', 'together\\n', 'secundus\\n', 'polonius', 'reynoldo\\n', 'money', 'notes', 'rey\\n', 'reynol', 'maruels', 'wisely', 'visite', 'inquiry\\n', 'behauiour\\n', 'intend', 'said\\n', 'enquire', 'danskers', 'paris\\n', 'keepe\\n', 'company', 'expence', 'finding\\n', 'encompassement', 'drift', 'question\\n', 'sonne', 'neerer\\n', 'demands', 'touch', 'distant', 'knowledge', 'ift', 'wilde\\n', 'addicted', 'forgeries', 'ranke\\n', 'dishonour', 'heed', 'wanton', 'vsuall', 'slips\\n', 'companions', 'noted', 'knowne\\n', 'liberty\\n', 'gaming', 'drinking', 'fencing', 'swearing\\n', 'quarelling', 'drabbing', 'farre\\n', 'another', 'scandall', 'open', 'incontinencie\\nthats', 'meaning', 'breath', 'faults', 'seeme', 'taints', 'flash', 'outbreake', 'fiery', 'minde\\na', 'sauagenes', 'vnreclaimd', 'generall', 'as\\n', 'heeres', 'drift\\n', 'belieue', 'fetch', 'warrant\\n', 'laying', 'slight', 'sulleyes', 'soild', 'working\\nmarke', 'party', 'conuerse', 'would\\n', 'hauing', 'prenominate', 'crimes\\n', 'assurd\\n', 'closes', 'consequence\\n', 'gentleman\\n', 'according', 'phrase', 'addition\\n', 'country\\n', 'say\\n', 'consequence', 'marry\\n', 'yesterday', 'tother', 'day\\nor', 'oretooke', 'ins', 'rouse\\n', 'tennis', 'perchance\\n', 'house', 'videlicet', 'brothell', 'bait', 'falshood', 'cape', 'reach\\n', 'windlesses', 'assaies', 'bias\\n', 'indirections', 'directions', 'former', 'lecture', 'haue\\n', 'buy', 'obserue', 'inclination', 'plye', 'musicke\\n', 'matter\\n', 'affrighted\\n', 'sowing', 'chamber\\n', 'doublet', 'vnbracd\\n', 'hat', 'stockings', 'fould\\n', 'vngartred', 'giued', 'anckle\\n', 'shirt', 'knees', 'knocking', 'pitious', 'purport\\n', 'been', 'loosed', 'hell\\n', 'horrors', 'mad', 'tooke', 'wrist', 'hard\\n', 'arme\\n', 'brow\\n', 'fals', 'perusall', 'shaking', 'wauing', 'raisd', 'sigh', 'pittious', 'profound\\n', 'shatter', 'bulke\\n', 'end', 'ouer', 'shoulders', 'turnd\\n', 'seemd', 'adores', 'helpe\\n', 'bended', 'extasie', 'violent', 'property', 'foredoes', 'leads', 'vndertakings\\n', 'passion', 'afflict', 'natures', 'sorrie\\n', 'command\\n', 'repell', 'letters', 'denyde\\n', 'accesse', 'mad\\n', 'sorrie', 'quoted', 'trifle\\nand', 'meant', 'wracke', 'beshrew', 'iealousie\\n', 'proper', 'age\\n', 'selues', 'opinions\\n', 'yonger', 'sort\\n', 'close', 'moue\\n', 'hide', 'hate', 'vtter', 'rosincrane', 'guildensterne\\n', 'rosincrance', 'guildenst\\n', 'moreouer', 'prouoke\\n', 'hastie', 'sending', 'hamlets', 'transformation', 'since', 'exterior', 'resembles', 'bee\\nmore', 'put\\n', 'himselfe\\n', 'deeme', 'intreat', 'brought', 'neighbourd', 'humour\\n', 'vouchsafe', 'court\\n', 'companies\\n', 'pleasures', 'gather\\n', 'occasions', 'gleane\\n', 'opend', 'remedie\\n', 'gentlemen', 'talkd', 'men', 'liuing\\n', 'whom', 'adheres', 'gentrie', 'expend', 'supply', 'profit', 'hope\\n', 'visitation', 'receiue', 'remembrance\\n', 'rosin', 'maiesties\\n', 'soueraigne', 'entreatie\\n', 'guil', 'obey\\n', 'bent\\n', 'seruices', 'feete\\n', 'commanded\\n', 'guilden\\n', 'guildensterne', 'rosincr\\n', 'instantly', 'visit\\n', 'changed', 'ye\\n', 'bring', 'presence', 'prac\\n', 'pleasant', 'helpfull', 'amen\\n', 'ambassadors', 'ioyfully', 'assure', 'liege\\n', 'dutie', 'braine', 'hunts', 'traile', 'policie', 'sure\\n', 'vsd', 'found\\n', 'cause', 'lunacie\\n', 'admittance', 'ambassadors\\n', 'feast\\n', 'tels', 'sonnes', 'distemper\\n', 'maine\\n', 'orehasty', 'voltumand', 'sift', 'frends\\n', 'norwey\\n', 'greetings', 'des\\n', 'leuies', 'appeard\\n', 'preparation', 'poleak\\n', 'lookd', 'highnesse', 'whereat', 'greeued\\n', 'sicknesse', 'age', 'impotence\\n', 'falsely', 'sends', 'arrests\\n', 'breefe', 'obeyes\\n', 'receiues', 'rebuke', 'fine\\n', 'vow', 'vnkle', 'assay', 'maiestie\\n', 'whereon', 'ouercome', 'three', 'thousand', 'crownes', 'annuall', 'commission', 'imploy', 'leuied', 'intreaty', 'shewne\\n', 'passe\\n', 'dominions', 'regards', 'allowance\\n', 'therein', 'likes', 'considerd', 'read\\n', 'businesse\\nmeane', 'thanke', 'welltooke', 'la\\n', 'feast', 'home\\n', 'ambass\\n', 'ended\\n', 'liege', 'expostulate\\n', 'maiestie', 'waste', 'breuitie', 'wit\\nand', 'tediousnesse', 'limbes', 'outward', 'flouri\\n', 'define', 'madnesse\\n', 'art\\n', 'pittie\\n', 'pittie', 'foolish', 'figure\\n', 'grant', 'remaines\\n', 'rather', 'defect\\n', 'defectiue', 'cause\\n', 'remaines', 'remainder', 'perpend\\n', 'obedience', 'marke\\n', 'gather', 'surmise\\n', 'letter\\nto', 'soules', 'idoll', 'most\\nthats', 'ill', 'vilde', 'beautified', '\\nphrase', 'excell\\n', 'these\\n', 'her\\n', 'awhile', 'faithfull\\n', 'sunne', 'lier\\n', 'loue\\no', 'numbers', 'ha\\nreckon', 'grones', 'adieu\\n', 'euermore', 'lady', 'machine', 'shewd', 'soliciting\\n', 'place\\n', 'eare\\n', 'receiud', 'faithfull', 'honourable\\n', 'wold', 'faine', 'proue', 'yo\\n', 'wing\\n', 'perceiued', 'think\\n', 'playd', 'deske', 'tablebooke\\n', 'winking', 'mute', 'dumbe\\n', 'idle', 'round', 'worke\\n', 'mistris', 'bespeake\\n', 'prince', 'starre\\n', 'gaue', 'locke', 'resort\\n', 'admit', 'messengers', 'tokens\\n', 'fruites', 'repulsed', 'short', 'sadnesse', 'fast\\n', 'thence', 'weaknesse\\n', 'lightnesse', 'declension\\n', 'raues\\n', 'waile', 'for\\n', 'likely\\n', 'bene', 'ide', 'fain', 'possitiuely', 'proud', 'otherwise\\n', 'circumstances', 'leade', 'finde\\n', 'hid', 'indeede\\n', 'center\\n', 'try', 'sometimes\\n', 'foure', 'houres', 'lobby\\n', 'to\\n', 'behinde', 'arras', 'then\\n', 'encounter', 'falne', 'thereon\\n', 'farme', 'carters\\n', 'reading', 'booke\\n', 'sadly', 'wretch\\n', 'reading\\n', 'boord', 'presently\\n', 'queen\\n', 'godamercy\\n', 'yare', 'fishmonger\\n', 'pickd', 'thousand\\n', 'sun', 'breed', 'magots', 'd\\n', 'kissing', 'carrion\\n', 'ithsunne', 'conception', 'a\\nblessing', 'conceiue\\n', 'toot\\n', 'harping', 'my\\nyet', 'fi\\nhe', 'youth\\ni', 'suffred', 'extreamity', 'neere', 'read', 'words\\n', 'slanders', 'satyricall', 'slaue', 's\\nthat', 'gray', 'beards', 'faces\\n', 'purging', 'thicke', 'amber', 'plumtree\\ngumme', 'plentifull', 'of\\ntogether', 'hammes', 'i\\nmost', 'powerfully', 'potently', 'hol\\nnot', 'honestie', 'you\\nselfe', 'crab\\n', 'backward\\n', 'method', 'graue\\n', 'oth', 'pregnant', 'replies', 'are\\n', 'happinesse\\n', 'often', 'hits', 'sanitie', 'prosperously', 'sodainely', 'contriue', 'humbly\\n', 't\\nwill', 'except', 'lif\\n', 'tedious', 'fooles\\n', 'rosincran', 'saue', 'guild', 'dost', 'thou\\n', 'lads', 'indifferent', 'children', 'happy', 'ouerhappy', 'button\\n', 'soales', 'shoo\\n', 'fauour\\n', 'priuates', 'we\\n', 'secret', 'parts', 'fortune', 'strumpet', 'newes\\n', 'worlds', 'honest\\n', 'doomesday', 'is\\nnot', 'wh\\nyou', 'deserued', 'prison', 'hither\\n', 'denmarks', 'prison\\n', 'co\\n', 'wards', 'dungeons', 'oth\\n', 'worst\\n', 'n\\neither', 'bad', 'ambition', 'tis\\n', 'narrow', 'minde\\n', 'bounded', 'nutshell', 'and\\ncount', 'infinite', 'space', 'dreames\\n', 'dreames', 'the\\nvery', 'substance', 'dreame\\n', 'shadow\\n', 'truely', 'ayry\\n', 'quality', 'shadowes', 'beggers', 'bodies', 'mon\\n', 'outstretcht', 'heroes', 'shadowes\\nshall', 'wee', 'fey', 'r\\n', 'wait', 'sort', 'with\\nrest', 'seruants', '\\nman', 'dreadfully', 'attended', 'b\\n', 'friendship', 'elsonower\\n', 'occasion\\n', 'begger', 'tha\\nbut', 'thanks\\nare', 'halfepeny', 'fo\\n', 'inclining', 'deale', 'iustly', 'were\\nsent', 'kinde', 'confession', 'yo\\nwhich', 'modesties', 'craft', 'enough', 'mee', 'coniure\\nyou', 'rights', 'fellowship', 'con\\nour', 'euerpreseru\\nand', 'proposer', 'could\\nyou', 'whether\\n', 'off\\n', 'anticip\\npreuent', 'discouery', 'secricie', 'the\\nqueene', 'moult', 'feather', 'whe\\ni', 'forgone', 'custo\\nand', 'heauenly', 'disposi\\nthat', 'frame', 'promontory', 'canopy', 'ayre\\nlook', 'braue', 'orehanging', 'maiestical\\nfretted', 'golden', 'ot\\nto', 'pestilent', 'congregation\\n', 'piece', 'in\\nreason', 'faculty', 'mo\\nhow', 'admirable', 'action', 'apprehension', 'the\\nworld', 'parragon', 'animals', 'wh\\n', 'quintessence', 'dust', 'delights', 'no\\nnor', 'woman', 'stuffe', 'thoughts\\n', 'laugh', 'delights\\n', 'i\\nwhat', 'lenton', 'entertainment', 'players', 're\\nfrom', 'coated', 'comming', 'seruice\\n', 'playes', 'welcom\\nmaiesty', 'tribute', 'aduenturous\\nknight', 'shal', 'foyle', 'target', 'louer\\nnot', 'gratis', 'humorous', 'his\\npeace', 'clowne', '\\nare', 'tickled', 'ath', 'sere', 'he\\nfreely', 'blanke', 'verse', 'halt', 'fort', 'wha\\n', 'they\\n', 'delig\\n', 'tragedians', 'city\\n', 'chances', 'trauaile', 'resi\\n', 'reputation', 'inhibition', 'th\\n', 'innouation\\n', 'estimation', 'city', 'followd\\n', 'rusty\\n', 'indeauour', 'keepes', 'wonted\\npace', 'ayrie', 'little\\n', 'yases', 'crye', 'and\\nare', 'tyrannically', 'clapt', 'now\\nfashion', 'beratled', 'stages', 'they\\ncall', 'wearing', 'rapiers', 'affrai\\n', 'goosequils', 'dare', 'scarse', 'thither\\n', 'maintains', 'em\\nhow', 'escorted', 'pursue', 'qua\\nlonger', 'sing', 'af\\nif', 'themselues', 'playe\\nit', 'better\\n', 'exclaim', 'their\\n', 'succession\\n', 'bo\\nand', 'nation', 'sinne', 'tarre', 'mony', 'argument\\nvnlesse', 'poet', 'player', 'cuffes', 'possible\\n', 'throwing', 'braines\\n', 'boyes', 'carry', 'l\\n', 'mowes', 'him\\nwhile', 'liued', 'twenty', 'forty', 'hun\\nducates', 'picture', 'ther\\n', 'philosophie', 'could\\n', 'flourish', 'players\\n', 'welcom', 'elsonower', 'your\\nhands', 'appurtenance', 'ceremony', 'comply', 'garbe\\nlest', 'extent', 'you\\nfairely', 'yours', 'aunt', 'deceiud\\n', 'north', 'northwest', 'southerly', 'hawke', 'handsaw\\n', 'hearke', 'at\\neare', 'hearer', 'baby', 'swathing', 'clouts\\n', 'hes', 'childe\\n', 'prophesie', 'o\\nplayers', 'mark', 'monday\\n', 'twas', 'rossius', 'actor', 'rome\\n', 'actors', 'buzze', 'buzze\\n', 'honor\\n', 'asse\\n', 'either', 'comedie', 'historie', 'pastorall\\n', 'pastoricallcomicallhistoricallpastorall\\ntragicallhistoricall', 'tragicallcomicallhistoric\\n', 'scene', 'indiuidible', 'poem\\n', 'vnlimited', 'seneca', 'heauy', 'plautus\\ntoo', 'liberty', 'onely', 'men\\n', 'iephta', 'iudge', 'israel', 'treasur\\n', 'loued', 'iephta\\n', 'lot', 'wot', 'it\\ncame', 'passe', 'ro\\npons', 'chanson', 'wher\\n', 'abridgements', 'fiue', 'players\\nyare', 'masters', 'see\\n', 'olde', 'friend\\nthy', 'coms\\nbeard', 'mis\\n', 'byrlady', 'ladiship', 'neerer', 'when\\ni', 'altitude', 'choppine', 'p\\nyour', 'voice', 'vncurrant', 'gold', 'n\\nwithin', 'ring', 'we\\ntot', 'french', 'faulconers', 'flie', 'w\\nhaue', 'speech', 'straight', 'tast', 'passionate', '1play', '\\nneuer', 'acted', 'th\\nremember', 'pleasd', 'million', 'cauiarie', '\\ngenerall', 'others\\niudgement', 'matters', 'cried', '\\nexcellent', 'digested', 'scoenes', 'se\\nwith', 'modestie', 'cunning', 'on\\nthere', 'sallets', 'lines', '\\nnor', 'indite', 'the\\nauthor', 'affectation', 'me\\ncheefe', 'cheefely', 'loud', 'aenea\\nto', 'dido', 'thereabout', 'especially', '\\nof', 'priams', 'slaughter', '\\nthis', 'line', 'rugged', 'pyr\\nthhyrcanian', 'begins', 'pyrrhus', 'armes\\n', 'blacke', 'resemble\\n', 'couched', 'ominous', 'horse\\n', 'complexion', 'smeard\\n', 'heraldry', 'dismall', 'geulles', 'trickd\\n', 'daughters', 'sonnes\\n', 'impasted', 'parching', 'streets\\n', 'tyrannous', 'light\\nto', 'murthers', 'roasted', 'wrath', 'oresized', 'coagulate', 'gore\\n', 'carbuncles', 'hellish', 'pyrrhus\\n', 'grandsire', 'priam', 'seekes\\n', 'fore', 'spoken', 'discretion\\n', '1player', 'anon', 'findes', 'striking', 'greekes', 'rebellious', 'arme', 'lyes', 'falles\\n', 'repugnant', 'vnequall', 'match\\n', 'driues', 'rage', 'strikes', 'wide\\n', 'whiffe', 'vnnerued', 'senselesse', 'illium\\n', 'feele', 'blow', 'flaming', 'top\\n', 'stoopes', 'bace', 'hideous', 'crash\\n', 'prisoner', 'declining', 'milkie', 'reuerend', 'sticke\\n', 'painted', 'tyrant', 'stood\\nand', 'newtrall', 'storme\\n', 'racke', 'bold', 'speechlesse', 'orbe', 'below\\n', 'hush', 'thunder\\n', 'rend', 'region', 'pause\\n', 'rowsed', 'vengeance', 'sets', 'new', 'aworke\\n', 'cyclops', 'hammers', 'fall\\n', 'mars', 'armours', 'forgd', 'proofe', 'eterne\\n', 'remorse', 'bleeding', 'falles', 'priam\\n', 'strumpetfortune', 'gods\\n', 'synod', 'power\\nbreake', 'spokes', 'fallies', 'wheele\\nand', 'boule', 'naue', 'hill', 'low', 'fiends\\n', 'toth', 'barbars', 'p\\nsay', 'iigge', 'baudry', 'hee\\n', 'sleepes', 'hecuba\\n', 'inobled', 'run', 'barefoot', 'threatning', 'flame\\n', 'bisson', 'rheume', 'clout', 'diadem', 'robe\\n', 'lanke', 'oreteamed', 'loines\\n', 'blanket', 'alarum', 'caught', 'venome', 'steepd\\ngainst', 'fortunes', 'treason', 'prono\\n', 'gods', 'sport\\n', 'mincing', 'husbands', 'limbes\\n', 'clamour', 'vnlesse', 'mortall', 'moue', 'all\\nwould', 'milche', 'burning', 'turnd', 'colour\\n', 'rest\\nsoone', 'are\\nthe', 'abstracts', 'chronicles', 'tim\\nyour', 'epitaph', 'report', 'liued\\n', 'bodykins', 'euerie', 'man\\nafter', 'desart', 'scape', 'whipping\\nthem', 'own', 'honor', 'dignity', 'less\\ndeserue', 'merit', 'bountie', 'take\\n', 'sirs\\n', 'polon\\n', 'gonzago\\n', 'morrow', 'a\\nneed', 'study', 'dosen', 'sixteene', 'insert', 'you\\nmock', 'til\\n', 'buyye', 'rogue', 'pesant', 'monstrous', 'fixion', 'passion\\n', 'force', 'conceit\\n', 'working', 'visage', 'warmd\\n', 'distraction', 'aspect\\n', 'broken', 'function', 'suiting\\n', 'conceit', 'hecuba', 'weepe', 'cue', 'passion\\nthat', 'drowne', 'stage', 'cleaue', 'horrid', 'apale', 'free\\n', 'confound', 'ignorant', 'amaze', 'muddymetled', 'rascall', 'peake\\n', 'iohn', 'adreames', 'vnpregnant', 'damnd', 'defeate', 'coward\\n', 'calles', 'breakes', 'pate', 'acrosse\\n', 'pluckes', 'face\\ntweakes', 'byth', 'nose', 'lye', 'lungs', 'pigeonliuerd', 'gall\\n', 'oppression', 'bitter', 'fatted', 'kites\\n', 'slaues', 'offall', 'bloudy', 'bawdy', 'villaine\\nremorselesse', 'treacherous', 'letcherous', 'kindles', 'vi\\n', 'vengeance\\n', 'asse', 'braue\\n', 'murthered\\n', 'prompted', 'whore', 'vnpacke', 'fall', 'cursing', 'drab\\n', 'scullion', 'vpont', 'foh', 'braine\\ni', 'creatures', 'sitting', 'scoene\\n', 'strooke', 'proclaimd', 'malefactions\\n', 'speake\\nwith', 'myraculous', 'organ', 'murder', 'lookes\\n', 'rent', 'quicke', 'blench\\n', 'diuell', 'diuel', 'pleasing', 'perhaps\\n', 'weaknesse', 'melancholly\\n', 'potent', 'spirits\\n', 'abuses', 'damne', 'grounds\\n', 'relatiue', 'plays', 'conscience', 'exit\\n', 'rosincrance\\n', 'guildenstern', 'and\\n', 'lords\\n', 'puts', 'confusion\\n', 'grating', 'harshly', 'quiet\\n', 'turbulent', 'dangerous', 'lunacy\\n', 'feeles', 'forward', 'sounded\\n', 'crafty', 'aloofe\\n', 'confession\\n', 'forcing', 'niggard', 'demands\\n', 'pastime\\n', 'pla\\n', 'orewrought', 'already', 'order\\n', 'beseechd', 'intreate', 'con\\n', 'inclind', 'driue', 'closely', 'accident', 'there\\naffront', 'lawful\\n', 'bestow', 'vnseene\\n', 'frankely', 'iudge\\n', 'behaued\\n', 'affliction', 'suffers', 'wish\\n', 'beauties', 'cause\\nof', 'wildenesse', 'hope', 'ver\\n', 'wonted', 'honors\\n', 'wish', 'may\\n', 'ple\\n', 'reade', 'exercise', 'lonelinesse', 'blame', 'deuotions', 'surge', 'ore\\n', 'true\\nhow', 'smart', 'lash', 'cons\\n', 'harlots', 'cheeke', 'beautied', 'plaistring', 'vgly', 'helpes', 'deede', 'heauie', 'burthen\\n', 'withdraw', 'nobler', 'suffer\\n', 'slings', 'arrowes', 'outragious', 'fortune\\n', 'troubles\\n', 'opposing', 'dye', 'sleepe', 'heartake', 'shockes\\n', 'heyre', 'consummation\\n', 'deuoutly', 'wishd', 'rub\\nfor', 'shuffeld', 'coile\\n', 'pawse', 'respect\\n', 'calamity', 'life\\nfor', 'whips', 'scornes', 'oppressors', 'contumely\\n', 'pangs', 'disprizd', 'lawes', 'delay\\n', 'insolence', 'office', 'spurnes\\n', 'patient', 'vnworthy', 'takes\\n', 'quietus', 'bare', 'bodkin', 'fardles', 'beare\\n', 'grunt', 'sweat', 'vndiscouered', 'countrey', 'borne\\n', 'traueller', 'returnes', 'puzels', 'illes', 'flye', 'others', 'cowards', 'hew', 'resolution\\n', 'sicklied', 'enterprizes', 'pith', 'moment\\n', 'regard', 'currants', 'turne', 'nimph', 'orizons\\n', 'sinnes', 'remembred\\n', 'remembrances', 'yours\\n', 'longed', 'redeliuer\\n', 'ought\\n', 'honord', 'composd\\n', 'perfume', 'left\\n', 'wax', 'giuers', 'vnkinde\\n', 'faire\\n', 'hon\\n', 'beautie\\n', 'beautie', 'comerce\\n', 'honestie\\n', 'trulie', 's\\ntransforme', 'bawd', 'the\\nforce', 'translate', 'h\\nthis', 'sometime', 'paradox', 'g\\n', 'beleeued', 'vertue\\ncannot', 'innocculate', 'stocke', 'sh\\n', 'deceiued\\n', 'nunnerie', 'thou\\nbe', 'breeder', 'sinners', 'indiffer\\nbut', 'accuse', '\\nmy', 'prowd', 'reu\\n', 'offences', 'becke\\nthen', 'imaginatio\\nthem', 'acte', 'should\\nfellowes', 'crawling', '\\nwe', 'knaues', 'wayes', 'nunnery', 'wheres', 'home', 'doores', 'shut', 'he\\nplay', 'foole', 'heauens\\n', 'doest', '\\nfor', 'dowrie', 'ice', 'pure\\nthou', 'escape', 'calumny', 'nu\\ngo', 'wise', 'monsters', 'you\\nmake', 'quickly', 'powers', 'restore', 'pratlings', 'wel', '\\ngod', 'pace', 'gidge', 'amble', 'lispe', 'nickname\\ngods', 'wantonnesse', 'mad\\ni', 'marriages', 'tha\\nmarried', 'res\\n', 'orethrowne\\nthe', 'courtiers', 'soldiers', 'expectansie', 'rose', 'glasse', 'mould', 'obserud', 'obseruers', 'quite', 'ladies', 'deiect', 'wretched\\n', 'suckd', 'honie', 'musicke', 'vowes\\n', 'bels', 'iangled', 'tune', 'harsh\\n', 'vnmatchd', 'feature', 'blowne', 'blasted', 'thaue', 'affections', 'tend\\n', 'spake', 'lackd', 'little\\nwas', 'melancholly', 'brood\\n', 'hatch', 'disclose\\n', 'preuent\\n', 'determination\\n', 'england\\n', 'demand', 'neglected', 'tribute\\n', 'haply', 'seas', 'different\\n', 'variable', 'obiects', 'expell\\n', 'setled', 'braines', 'thus\\n', 'origin', 'commencement', 'sprung', 'saide\\n', 'please\\n', 'greefes', 'placd', 'conference', 'england', 'send', 'where\\n', 'ones', 'vnwatchd', 'pronouncd\\nit', 'trippingly', '\\nas', 't\\nhad', 'too\\nyour', 'gently', 'v\\n', 'tempest', 'whirlewinde', 'of\\npassion', 'acquire', 'beget', 'temperanc\\nmay', 'smoothnesse', 'offends', 'th\\nto', 'robustious', 'perywigpated', 'teare', '\\nto', 'tatters', 'verie', 'ragges', 'split', '\\ngroundlings', 'capeable', 'of\\nnothing', 'inexplicable', 'noise', 'i\\nhaue', 'whipt', 'oredoing', 'termagan\\n', 'outherods', 'herod', 'auoid', 'tame', 'neyther', 'owne\\ndiscretion', 'tutor', 'sute', 'th\\nthe', 'speciall', 'obse\\nthat', 'orestop', 'fo\\nthing', 'ouerdone', 'playi\\nend', 'ho\\n', 'mirrour', 'owne\\nfeature', 'scorne', 'ag\\nbodie', 'pressure', 'this\\nouerdone', 'tardie', 'iudicious', 'greeue', 'the\\ncensure', 'allowanc\\n', 'theater', 'players\\nthat', 'praise\\nhighly', 'prophanely', 'neythe\\nthe', 'accent', 'christians', 'chris\\nor', 'norman', 'strutted', 'bellowed', 'iouerneymen', 'men\\nand', 'imitated', 'humanity', 'reformd', 'indifferen\\n', 'reforme', 'altogether', 'that\\nplay', 'clownes', 'd\\nthem', 'themselues\\nto', 'quantitie', 'barren', 'spectators', '\\ntoo', 'necessary', 'qu\\nof', 'considered', 'vil\\nshewes', 'pittifull', 'readie\\n', 'hasten', 'hoa', 'eene', 'conuersation', 'coapd', 'flatter\\n', 'aduancement', 'reuennew', 'spirits\\nto', 'feed', 'cloath', 'shold', 'poor', 'fla\\n', 'candied', 'pompe\\n', 'crooke', 'hindges', 'knee\\n', 'faining', 'choyse\\n', 'distinguish', 'election\\n', 'bene\\n', 'suffering', 'buffets', 'rewards\\nhath', 'blest', 'those\\n', 'iudgement', 'comingled\\n', 'pipe', 'finger\\n', 'passions', 'weare', 'core', 'scoene', 'seest', 'afoot\\n', 'comment', 'occulted', 'guilt\\n', 'vnkennell', 'imaginations', 'foule\\n', 'vulcans', 'stythe', 'riuet', 'iudgements', 'ioyne\\n', 'seeming\\n', 'lord\\nif', 'steale', 'detecting', 'pay', 'theft\\n', 'and\\nother', 'attendant', 'guard', 'carrying', 'sound\\n', 'flourish\\n', 'idle\\n', 'fares', 'ifaith', 'camelions', 'dish', 'promisecrammd', 'capons', 'plaid', 'vniuersity', 'accounted', 'actor\\n', 'enact\\n', 'enact', 'iulius', 'caesar', 'killd', 'brutus', 'kill', 'calfe', 'ready\\n', 'patience\\n', 'heres', 'attractiue\\n', 'ladie', 'lap\\n', 'country', 'matters\\n', 'ly', 'ma\\n', 'merrie', 'iiggemaker', 'should\\na', 'cheer\\n', 'withins', 'houres\\n', 'moneths', 'bl\\nfor', 'sables', 'ago', 'forgotten', 'a\\ngreat', 'memorie', 'outliue', 'halfe', '\\nbut', 'builde', 'churches', 'el\\nhe', 'suffer', 'hobyhorsse', 'hobyhorse', 'forgot\\n', 'hoboyes', 'enters\\nenter', 'louingly', 'quee\\n', 'she\\nkneeles', 'protestation', 'hi\\n', 'and\\ndeclines', 'neck', 'layes', 'down\\n', 'flowers\\nshe', 'asleepe', 'leaues', 'his\\ncrowne', 'kisses', 'powres', 'poyson', 'exits', 'makes\\n', 'the\\npoysoner', 'mutes', 'lament\\nwith', 'body', 'carried', 'poy\\n', 'with\\ngifts', 'loath', 'vnwilling', 'bu\\n', 'accepts', 'his\\n', 'miching', 'malicho', 'mischeefe\\n', 'belike', 'imports', 'argument', 'fellowes', 'counsell', 'theyl', 'meant\\n', 'not\\nyou', 'ashamd', 'heel', 'shame', 'naught', 'mark\\n', 'prologue\\n', 'tragedie\\n', 'stooping', 'clemencie\\n', 'begge', 'hearing', 'patientlie\\n', 'prologue', 'poesie', 'ring\\n', 'womans', 'thirtie', 'times', 'phoebus', 'cart', 'neptunes', 'wash', 'tellus', 'orbed', 'dozen', 'moones', 'borrowed', 'sheene\\n', 'thirties', 'beene\\n', 'hymen', 'hands\\n', 'vnite', 'comutuall', 'sacred', 'bands\\n', 'bap', 'iournies', 'count', 'done\\n', 'distrust', 'distrust\\n', 'discomfort', 'must\\n', 'womens', 'quantitie\\n', 'extremity\\n', 'sizd', 'short\\n', 'operant', 'functions', 'do\\n', 'behinde\\n', 'beloud', 'husband', 'rest\\n', 'brest\\n', 'accurst\\n', 'wed', 'first\\n', 'wormwood', 'wormwood\\n', 'bapt', 'instances', 'respects', 'bed\\n', 'think', 'determine', 'breake\\n', 'memorie\\n', 'birth', 'validitie\\n', 'fruite', 'vnripe', 'stickes', 'tree\\n', 'vnshaken', 'mellow', 'bee\\n', 'forget\\n', 'debt\\n', 'propose\\n', 'ending', 'lose\\n', 'violence', 'ennactors', 'destroy\\n', 'ioy', 'reuels', 'lament\\n', 'ioyes', 'greeues', 'slender', 'accident\\n', 'aye', 'strange\\nthat', 'c\\n', 'proue\\n', 'loue\\nthe', 'fauourites', 'aduancd', 'enemies\\n', 'frend\\n', 'want', 'hollow', 'try\\n', 'directly', 'seasons', 'enemie\\n', 'orderly', 'begun\\n', 'willes', 'fates', 'contrary', 'run\\n', 'deuices', 'ouerthrowne\\nour', 'ours', 'ends', 'wed\\n', 'die', 'food', 'light\\n', 'sport', 'repose', 'opposite', 'blankes', 'hence', 'lasting', 'strife\\n', 'widdow', 'wife\\n', 'deepely', 'sworne\\n', 'beguile\\n', 'rocke', 'sleepes\\n', 'mischance', 'twaine\\n', 'protests', 'thinkes\\n', 'sheel', 'int\\n', 'iest', 'mousetrap', 'tropically\\nthis', 'vie\\nis', 'dukes', 'baptista', 'knauish', 'othat\\nyour', 'it\\nvs', 'galld', 'iade', 'winch', 'withers', 'ar\\n', 'lucianus\\n', 'lucianus', 'nephew', 'chorus', 'interpret', 'your\\n', 'puppets', 'dallying\\n', 'keene', 'keene\\n', 'cost', 'groaning', 'edge\\n', 'worse\\n', 'mistake', 'husbands\\n', 'begin', 'murderer', 'pox', 'damnable', 'faces', 'and\\nbegin', 'croaking', 'rauen', 'bellow', 'lucian', 'drugges', 'agreeing\\n', 'confederate', 'creature', 'seeing\\n', 'mixture', 'ranke', 'midnight', 'weeds', 'collected\\n', 'hecats', 'ban', 'infected\\n', 'magicke', 'dire', 'propertie\\n', 'vsurpe', 'immediately\\n', 'poysons', 'garden', 'fors', 'estate', 'his\\nnames', 'gonzago', 'story', 'extant', '\\nitalian', 'murtherer', 'gonzagos', 'rises\\n', 'frighted', 'lights', 'lights\\n', 'strucken', 'weepe\\n', 'hart', 'vngalled', 'runnes', 'away\\nwould', 'forrest', 'feathers', 'i\\nmy', 'turke', 'proui\\nroses', 'racd', 'share\\n', 'damon', 'deere\\n', 'realme', 'dismantled', 'ioue', 'reignes', 'paiocke\\n', 'rimd\\n', 'ghosts', 'wor\\n', 'pound', 'perceiue\\n', 'poysoning\\n', 'note', 'musick', 'y', 'recorders\\n', 'comedie\\n', 'perdie\\n', 'with\\n', 'history\\n', 'retyrement', 'maruellous', 'distem\\n', 'choller\\n', 'more\\nto', 'signifie', 'doctor', 'p\\nto', 'purgation', 'plundge', 'wildely', 'affayre\\n', 'pronounce\\n', 'welcome\\n', 'courtesie', 'no\\nthe', 'commandment\\nif', 'pardon', 'businesse\\n', 'cannot\\n', 'diseasd\\nbut', 'answers', 'therfore', 'behauior', 'hat\\n', 'amazement', 'admiration\\n', 'wonderfull', 'astonish', 'a\\nmother', 'sequell', 'heeles', 'ten', 'mo\\n', 'trade', 'pickers', 'stea\\n', 'di\\nyou', 'barre', 'doore', 'lib\\n', 'deny', 'aduancement\\n', 'voy\\nthe', 'succession', 'grasse', 'prouer\\n', 'musty\\n', 'recorder\\no', 'recorder', 'you\\ndo', 'toyle\\n', 'vnmannerly\\n', 'pipe\\n', 'easie', 'lying', 'gouerne', 'ven\\nwith', 'finger', 'thumbe', 'wit\\nmouth', 'mus\\n', 'stoppes\\n', 'vtt\\n', 'hermony', 'skill\\n', 'would\\nseeme', 'stops', 'pluck', 'the\\nof', 'mysterie', 'lowest\\nnote', 'compasse', 'organe', 'cannot\\nyou', 'easier\\nplaid', 'instrument', 'y\\nthough', 'fret', 'blesse', 'clowd', 'camell\\n', 'masse', 'camell', 'weazell\\n', 'backd', 'whale\\n', 'by\\n', 'easily', 'witching', 'night\\nwhen', 'churchyards', 'yawne', 'breat\\ncontagion', 'drink', 'quake', 'nero', 'firme', 'bosome\\n', 'cruell', 'daggers', 'none\\n', 'hypocrites\\n', 'someuer', 'shent\\n', 'seales', 'consent\\n', 'stands', 'safe', 'range', 'prepare', 'forthwith', 'endure\\n', 'hazard', 'hourely', 'grow\\n', 'lunacies\\n', 'prouide\\n', 'holie', 'religious', 'safe\\n', 'feede', 'single\\n', 'strength', 'noyance', 'depends', 'rests\\n', 'cease', 'dies', 'gulfe', 'draw\\n', 'massie', 'wheele\\n', 'somnet', 'highest', 'mount\\n', 'huge', 'spoakes', 'lesser', 'things\\n', 'mortizd', 'adioynd', 'small', 'annexment', 'pettie', 'attends', 'boystrous', 'ruine', 'sighe', 'grone\\n', 'speedie', 'vo\\n', 'fetters', 'freefooted\\n', 'haste', 'gent\\n', 'closset\\n', 'conuey', 'selfe\\nto', 'tax', 'meete', 'partiall', 'oreheare\\n', 'vantage', 'smels', 'primall', 'eldest', 'curse', 'vpont\\n', 'sharpe', 'stronger', 'guilt', 'defeats', 'pause', 'begin\\n', 'neglect', 'thicker', 'blood\\n', 'raine', 'white', 'snow', 'whereto', 'serues', 'confront', 'offence\\n', 'prayer', 'twofold', 'forestalled', 'pardond', 'past', 'prayer\\n', 'serue', 'forgiue', 'possest\\n', 'effects', 'retaine', 'corrupted', 'gilded', 'shoue', 'iustice\\n', 'prize', 'buyes', 'aboue\\n', 'shuffling', 'lyes\\n', 'compelld\\n', 'teeth', 'forehead', 'faults\\n', 'euidence', 'repentance', 'repent\\n', 'wretched', 'limed', 'strugling', 'ingagd', 'assay\\nbow', 'stubborne', 'strings', 'sinewes', 'newborne', 'babe\\n', 'pat', 'praying\\n', 'doot', 'reuengd', 'scannd\\n', 'killes', 'send\\nto', 'hyre', 'sallery', 'grossely', 'bread\\n', 'broad', 'fresh', 'audit', 'knowes', 'reuengd\\n', 'seasond', 'passage', 'hent\\n', 'drunke', 'rage\\n', 'pleasure', 'swearing', 'acte\\n', 'rellish', 'saluation', 'int\\nthen', 'trip', 'kicke', 'stayes\\n', 'physicke', 'prolongs', 'sickly', 'dayes\\n', 'remain', 'straight\\n', 'him\\ntell', 'prankes', 'be\\nand', 'screend', 'stoode', 'coming\\n', 'forgot', 'rood', 'boudge\\n', 'glasse\\n', 'inmost', 'hoa\\n', 'rat', 'ducate', 'slaine\\n', 'rash', 'bloody', 'marrie', 'intruding', 'betters', 'findst', 'busie', 'danger\\n', 'wringing', 'wring', 'penetrable', 'stuffe\\n', 'brazd', 'bulwarke', 'sense\\n', 'darst', 'wag', 'thy\\n', 'rude', 'blurres', 'blush', 'modestie\\n', 'cals', 'hypocrite', 'rose\\n', 'innocent', 'blister', 'dicers', 'oathes', 'deed\\n', 'contraction', 'pluckes\\n', 'sweete', 'religion', 'rapsidie', 'glow\\n', 'solidity', 'compound', 'masse\\n', 'tristfull', 'doome\\n', 'thoughtsicke', 'roares', 'lowd', 'thu\\n', 'index\\n', 'counterfet', 'presentment', 'seated', 'hyperions', 'curles', 'front', 'threaten', 'station', 'herald', 'mercurie\\n', 'lighted', 'heauenkissing', 'combination', 'seale\\n', 'assurance', 'man\\nthis', 'followes\\n', 'mildewd', 'blasting', 'wholsom', 'mountaine', 'feed\\n', 'batten', 'moore', 'heyday', 'humble\\n', 'waites', 'step', 'wast\\n', 'cousend', 'hoodmanblinde\\n', 'mutine', 'matrons', 'bones\\n', 'waxe\\n', 'melt', 'proclaime', 'shame\\n', 'compulsiue', 'ardure', 'charge\\n', 'frost', 'actiuely', 'burne\\n', 'panders', 'turnst', 'grained', 'spots\\n', 'tinct\\n', 'enseamed', 'stewd', 'corruption', 'honying', 'nasty', 'stye\\n', 'twentieth', 'tythe\\n', 'precedent', 'vice', 'kings\\n', 'cutpurse', 'empire', 'rule\\n', 'shelfe', 'precious', 'pocket\\n', 'shreds', 'patches\\n', 'houer', 'wings\\nyou', 'guards', 'tardy', 'chide\\n', 'lapst', 'important', 'acting', 'visitation\\n', 'whet', 'blunted', 'purpose\\n', 'sits\\n', 'fighting', 'weakest', 'strongest', 'workes\\n', 'lady\\n', 'vacancie\\n', 'corporall', 'discourse\\n', 'peepe\\n', 'soldiours', 'alarme\\n', 'bedded', 'excrements\\n', 'flame', 'sprinkle', 'coole', 'patience', 'looke\\n', 'glares\\n', 'conioynd', 'preaching', 'stones\\n', 'pitteous', 'conuert\\n', 'sterne', 'steals', 'habite', 'portall\\n', 'coynage', 'braine\\nthis', 'bodilesse', 'creation', 'cunnin\\n', 'extasie\\n', 'pulse', 'temperately', 'time\\nand', 'healthfull', 'madn\\n', 'vttered', 'test\\n', 'reword', 'gamboll', 'flattering', 'vnction', 'trespasse', 'speakes\\n', 'skin', 'filme', 'vlcerous', 'mining', 'within\\n', 'infects', 'vnseene', 'repent', 'spred', 'compost', 'weedes\\n', 'vertue\\n', 'fatnesse', 'pursie', 'times\\n', 'begge\\n', 'courb', 'cleft', 'worser', 'purer', 'halfe\\n', 'vnkles', 'bed\\nassume', 'refraine', 'easinesse\\n', 'next', 'abstinence', 'desirous', 'blest\\n', 'punish', 'scourge', 'minister\\n', 'worse', 'blunt', 'pinch', 'mouse\\n', 'paire', 'reechie', 'kisses\\n', 'padling', 'necke', 'fingers\\n', 'rauell', 'essentially', 'sober', 'wise\\n', 'paddocke', 'bat', 'gibbe\\n', 'concernings', 'despight', 'sense', 'secrecie\\n', 'vnpegge', 'basket', 'houses', 'birds', 'famous', 'ape\\n', 'conclusions', 'creepe\\n', 'assurd', 'saide', 'alacke', 'concluded', 'packing\\n', 'lugge', 'guts', 'neighbor', 'roome\\n', 'indeede', 'counsellor\\n', 'prating', 'tugging', 'sighes\\n', 'profound', 'heaues\\n', 'contend\\n', 'mightier', 'lawlesse', 'fit\\n', 'stirre\\n', 'rapier', 'rat\\n', 'brainish', 'killes\\n', 'threats', 'answered\\n', 'laide', 'prouidence\\nshould', 'restraind', 'haunt\\n', 'owner', 'disease\\n', 'divulging', 'feede\\n', 'apart', 'kild\\n', 'oare\\n', 'among', 'minerall', 'mettels', 'base\\n', 'pure', 'weepes', 'sooner', 'mountaines', 'touch\\n', 'ship', 'excuse\\n', 'ros', 'guild\\n', 'guildenstern\\n', 'ioyne', 'ayde\\n', 'clossets', 'dragd', 'chappell', 'vntimely', 'discord', 'dismay\\n', 'safely', 'stowed\\n', 'ro', 'compounded', 'kinne\\n', 'chappell\\n', 'mine\\nowne', 'besides', 'demanded', 'spundge', 'sokes', 'countenanc\\nrewards', 'authorities', 'officers', 't\\nbest', 'an\\nthe', 'corner', 'iaw', 'mouthd', '\\nwhen', 'needes', 'gleand', 'dry', 'bo\\n', 'fox', 'after\\n', 'find', 'loose\\n', 'multitude\\n', 'offenders', 'weighd\\nbut', 'deliberate', 'diseases', 'appliance', 'releeued\\n', 'rosincrane\\n', 'befalne\\n', 'bestowd', 'guarded', 'pleasure\\n', 'supper\\n', 'supper', 'eats', 'eaten', 'conuocation', 'wormes', 'ene', 'worm\\nis', 'emperor', 'crea\\nto', 'your\\nand', 'leane', 'progresse', 'begger\\n', 'thither', 'm\\nfinde', '\\nselfe', 'mon\\nshall', 'staires', 'k', 'espec\\n', 'deerely', 'greeue\\nfor', 'h\\nwith', 'fierie', 'quicknesse', 'barke', 'readie', 'associates', 'tend', 'knewst', 'purposes\\n', 'cherube', 'sees', 'and\\nwife', 'aboord\\n', 'delay', 'done\\nthat', 'leanes', 'holdst', 'thereof', 'cicatrice', 'raw', 'danish', 'awe\\n', 'payes', 'homage', 'maist', 'set\\n', 'coniuring', 'hecticke', 'rages\\n', 'cure', 'happes', 'armie\\n', 'captaine', 'greet', 'license', 'claimes', 'conueyance', 'promisd', 'kingdome', 'rendeuous\\n', 'importunate', 'distract', 'pittied\\n', 'speakes', 'she\\ntheres', 'trickes', 'hems', 'beats', 'he\\nspurnes', 'enuiously', 'strawes', 'vnshaped', 'hearers', 'collection', 'ayme', 'it\\nand', 'botch', 'thoughts\\nwhich', 'winkes', 'nods', 'gestures', 'yeel\\nindeed', 'vnhappily\\n', 'strew', 'coniectures\\n', 'breeding', 'amisse\\n', 'artlesse', 'iealousie', 'spills', 'fearing', 'spilt\\n', 'distracted\\n', 'beauteous', 'denmark\\n', 'a\\nby', 'cockle', 'staffe', 'sandal', 'song\\n', 'gone\\nat', 'grassegreene', 'turfe', 'heeles\\n', 'shrowd', 'snow\\n', 'larded', 'flowers\\n', 'bewept', 'trueloue', 'showres\\n', 'pretty', 'dild', 'owle', 'was\\n', 'bakers', 'but\\n', 'table\\n', 'aske', 'this\\nto', 'valentines', 'window', 'valentine\\nthen', 'dond', 'clothes', 'dupt', 'ch\\nlet', 'departed\\n', 'la', 'gis', 'charity\\n', 'blame\\n', 'quoth', 'tumbled', 'yonder', 'sunne\\n', 'hadst', 'pat\\nbut', 'choose', 's\\nlay', 'cold', 'ground', 'knowe\\nand', 'com\\n', 'coach', 'ladies\\n', 'close\\n', 'springs\\n', 'gertrude\\n', 'sorrowes', 'single', 'spies\\n', 'battalians', 'author\\n', 'people', 'muddied\\nthicke', 'vnwholsome', 'wh\\nfor', 'hugger', 'mugger', 'interre', 'diuided', 'iudgement\\nwithout', 'pictures', 'beasts\\n', 'containing', 'wonder', 'clouds\\n', 'buzzers', 'infect', 'speeches', 'necessitie', 'beggard\\n', 'sticke', 'arraigne\\n', 'murdering', 'places\\n', 'superfluous', 'messenger\\n', 'noyse', 'switzers\\n', 'mes', 'ocean', 'ouerpeering', 'eates', 'flats', 'impittious', 'haste\\n', 'riotous', 'orebeares', 'rabble', 'antiquity', 'ratifiers', 'props', 'cry', 'caps', 'tongues', 'applaud', 'cheerefully', 'counter', 'dogges\\n', 'broke\\n', 'w\\n', 'al', 'doore\\n', 'calmely', 'drop', 'calmes\\n', 'bastard\\n', 'cuckold', 'brands', 'harlot\\n', 'chaste', 'vnsmirched', 'rebellion', 'gyantlike\\n', 'person\\n', 'diuinity', 'hedge', 'peepe', 'acts', 'incenst', 'fill\\n', 'iuggeld', 'allegeance', 'blackest', 'diuell\\n', 'profoundest', 'pit\\n', 'damnation', 'negligence\\n', 'throughly', 'certaintie\\nof', 're\\n', 'soopstake', 'foe\\n', 'winner', 'looser\\n', 'ope', 'liferendring', 'politician\\n', 'repast', 'childe', 'guiltlesse', 'leuell', 'pierce\\n', 'that\\noh', 'drie', 'seuen', 'burne', 'sence', 'payed', 'waight\\n', 'turnes', 'beame', 'possible', 'maids', 'wits\\n', 'fine', 'instance', 'loues\\n', 'bore', 'facd', 'beer\\n', 'hey', 'non', 'nony', 'nony\\n', 'raines', 'teare\\n', 'doue\\n', 'perswade\\n', 'adowne', 'call\\n', 'adownea', 'wheele', 'becomes', 'is\\nthe', 'steward', 'stole', 'nothings', 'rosemary', 'remembraunce\\npray', 'paconcies', 'document', 'remem\\n', 'fitted\\n', 'fennell', 'columbines', '\\nrew', 'cal\\n', 'herbegrace', 'sundaies', 'rew\\nwith', 'difference', 'daysie', 'giue\\nsome', 'violets', 'witherd', 'fath\\n', 'bonny', 'robin', 'prettinesse\\n', 'deathbed\\n', 'flaxen', 'pole\\n', 'mone\\n', 'gramercy', 'christian', 'apart\\n', 'choice', 'colaterall', 'touchd', 'giue\\n', 'ours\\n', 'satisfaction', 'content', 'ioyntly', 'labour', 'due', 'content\\n', 'obscure', 'buriall\\n', 'trophee', 'hatchment', 'rite', 'formall', 'ostentation\\n', 'axe', 'ser', 'saylors', 'greeted', 'saylor\\n', 'andt', 'ambassadours', 'that\\nbound', 'reads', 'letter\\nhoratio', 'ouerlookd', 'gi\\nfellowes', 'let\\nfor', 'pyr\\nwarlicke', 'appointment', 'chace', 'finding', 'our\\nslow', 'saile', 'compelled', 'valour', '\\nboorded', 'got', 'cleare', 'of\\ni', 'became', 'dealt', '\\ntheeues', 'i\\na', 'le\\nsent', 'repaire', '\\nflye', 'eare\\ndumbe', 'bore\\nthese', 'am\\nand', 'englan\\n', 'knowest', 'thine\\n', 'letters\\n', 'speedier', 'acquittance\\n', 'sith', 'knowing', 'pursued', 'proceeded', 'feates\\n', 'crimefull', 'capitall', 'else\\n', 'mainly', 'stirrd', 'reasons\\n', 'vnsinnowed\\nand', 'plague', 'which\\n', 'shes', 'coniunctiue', 'moues', 'sphere\\n', 'motiue\\n', 'publike', 'gender', 'dipping', 'spring', 'turneth', 'wood', 'stone\\n', 'conuert', 'gyues', 'arrowes\\n', 'slightly', 'timbred', 'winde\\n', 'reuerted', 'lost\\n', 'driuen', 'tearmes\\n', 'praises', 'challenger', 'mount', 'perfections', 'dull\\n', 'shooke', 'danger\\nand', 'pastime', 'shortly', 'imagine\\n', 'claudio', 'messenger\\nhigh', 'mighty', 'naked', '\\nkingdome', '\\neyes', 'asking', 'the\\nth', 'hamlet\\nwhat', 'abuse', 'pos\\n', 'aduise', 'warmes', 'teeth\\n', 'diddest', 'otherwise', 'orerule', 'peace\\n', 'checking', 'voyage', 'vndertake', 'exployt', 'ripe', 'deuice\\n', 'vncharge', 'practice\\n', 'monthes', 'hence\\n', 'gentleman', 'normandy\\n', 'iue', 'serud', 'french\\n', 'ran', 'horsebacke', 'gallant\\n', 'grew', 'seat\\n', 'doing', 'encorpst', 'demynaturd\\n', 'forgery', 'shapes', 'trickes\\n', 'norman\\n', 'lamound\\n', 'same\\n', 'brooch', 'iemme', 'nation\\n', 'masterly', 'defence\\n', 'especiall\\n', 'cryed', 'twould', 'match', 'envenom', 'enuy\\n', 'painting', 'sorrow\\n', 'begun', 'passages', 'proofe\\n', 'qualifies', 'sparke', 'vndertake\\n', 'show', 'throat', 'church\\n', 'sancturize\\n', 'bounds', 'laertes\\nwill', 'returnd', 'praise', 'excellence\\n', 'varnish', 'fame\\nthe', 'frenchman', 'wager', 'heads', 'remisse\\n', 'contriuing\\n', 'peruse', 'foiles', 'ease\\n', 'choose\\n', 'vnbaited', 'requit', 'doot\\n', 'annoint', 'bought', 'mountebanke\\n', 'dipt', 'knife', 'cataplasme', 'rare\\n', 'collected', 'simples', 'moone', 'scratcht', 'point\\n', 'contagion', 'gall', 'slightly\\n', 'weigh', 'conuenience', 'faile\\nand', 'perfo\\n', 'assaid', 'proiect\\n', 'hold\\n', 'commings\\n', 'dry\\n', 'bowts', 'prepard', 'challice', 'nonce', 'sipping\\n', 'chance', 'venomd', 'stuck\\n', 'tread', 'anothers', 'heele\\n', 'sisters', 'drownd', 'willow', 'aslant', 'brooke\\nthat', 'hore', 'glassie', 'str\\n', 'fantasticke', 'garlands', 'crowflowers', 'nettles', 'daysies', 'purples\\n', 'liberall', 'shepheards', 'grosser', 'name\\nbut', 'pendant', 'boughes', 'coronet', 'weeds\\n', 'clambring', 'enuious', 'sliuer', 'weedy', 'trophies', 'selfe\\nfell', 'weeping', 'brooke', 'cloathes', 'mermaidlike', 'chaunted', 'snatches', 'tunes\\n', 'incapable', 'distresse\\n', 'indued\\n', 'element', 'garments', 'drinke\\n', 'puld', 'melodious', 'muddy', 'drownd\\n', 'water', 'forbid', 'yet\\n', 'tricke', 'holds\\n', 'blaze\\n', 'folly', 'doubts', 'calme', 'follow\\n', 'clownes\\n', 'clown', 'buri\\n', 'wilfully', 'seekes', 'saluation\\n', '\\nstraight', 'crowner', 'find\\n', 'clo', 'drowned', 'found', 'se', 'offendendo', '\\nheere', 'witt\\n', 'branches', 'an\\nact', 'performe', 'argall', 'wittingly\\n', 'goodman', 'deluer\\n', 'good\\nheere', 'th\\nand', 'nill', 'goes\\nmarke', 'd\\nhim', 'drownes', 'i\\nguilty', 'shortens', 'crowners', 'quest', 'had\\nbeene', 'gentlewoman', 'shee', 'buried\\n', 'sayst', 'pitty\\ngreat', 'folke', 'wo\\ndrowne', 'euen\\n', 'spade', 'ancient', 'gentlemen\\nbut', 'gardiners', 'ditchers', 'grauemakers', 'adams', 'profession\\n', 'heathen', 'vnders\\n', 'scripture', 'adam', 'digd\\ncould', 'digge', 'answerest', 'purpos\\n', 'builds', 'ei\\n', 'mason', 'shipwright', 'carpenter\\n', 'gallowes', 'maker', 'outl\\n', 'tenants\\n', 'g\\ndoes', 'to\\nthat', 'gall\\nbuilt', 'church', 'vnyoake\\n', 'cudgell', 'for\\ndull', 'mend', '\\nyou', 'askt', 'grauemak\\nhouses', 'lasts', 'yaughan', 'stoupe', 'liquor\\n', 'sings\\n', 'sweete\\n', 'contract', 'behoue\\n', 'meete\\n', 'feeling', 'busin\\n', 'sings', 'grauemaking\\n', 'een', 'imploymen\\n', 'daintier', 'stealing', 'steps\\n', 'clutch\\n', 'shipped', 'intill', 'such\\n', 'scull', 'could\\nonce', 'knaue', 'iowles', 'grownd', 'i\\nwere', 'caines', 'iawbone', 'it\\nmight', 'polititian', 'circumuent', 'this\\nmight', 'praisd', 'lor\\na', 'horse', 'wormes\\nchaplesse', 'knockt', 'mazard', 's\\nspade', 'reuolution', 'tr\\nseet', 'breeding\\n', 'loggets', 'em', 'ake', 'pickhaxe', 'spade\\n', 'shrowdingsheete\\n', 'pit', 'clay', 'guest', 'lawyer', 'quiddits', 'his\\nquillets', 'cases', 'tenures', 'tricks', 'why\\ndoes', 'knocke', 'h\\nthe', 'sconce', 'dirty', 'shouell', 't\\nhis', 'battery', 'hum', 'be\\ntime', 'buyer', 'land', 'statutes', 'fines', 'vouchers', 'recoueries\\nis', 'recouery\\n', 'dirt', 'his\\nvouchers', 'vouch', 'purchases', 'an\\nones', 'breadth', 'pair\\nindentures', 'conueyances', 'lands', 'will\\nhardly', 'boxe', 'inheritor\\n', 'ha\\n', 'iot', 'parchment', 'sheepskinnes\\n', 'calueskinnes', 'sheepe', 'calues', 'seek', 'ou\\nin', 'graues\\n', 'li\\n', 'tis\\ntis', 'lyest\\n', 'neither\\n', 'shees', 'absolute', 'speake\\nby', 'carde', 'equiuocation', 'vndoe', 'the\\nlord', 'yeares', 'n\\nthe', 'growne', 'picked', 'toe', 'th\\ncomes', 'kibe', 'grauemaker\\n', 'yeare', 'orecame', 'since\\n', 'tel\\nit', 'born\\n', 'because', 'recouer\\nwits', 'why\\n', 'strangely', 'strangely\\n', 'loosing', 'sixeteene\\n', 'thirty', 'yeares\\n', 'lie', 'die\\nmany', 'pocky', 'coarses', 'adaies', 'scarce\\nthe', 'eight', 'year\\n', 'tanner', 'nine', 'yeare\\n', 'another\\n', 'tand', 'tra\\nhe', 'your\\nis', 'decayer', 'horson', 'her\\nnow', 'scul', 'laine', 'tw\\n', 'whoreson', 'pestilence', 'p\\nflaggon', 'scull\\nsir', 'yoricks', 'yorick', 'him\\na', 'fa\\nhath', 'an\\nabhorred', 'imagination', 'gorge', 'rises', 'i\\nhung', 'lipps', 'kist', 'iibes', 'gambals', 'your\\nsongs', 'flashes', 'merriment', 'to\\nset', 'rore', 'ieering', 'chopfalne', 'ladies\\nchamber', 'paint', 'inch', 'thi\\nfauour', 'pr\\n', 'alexander', 'othis', 'smelt', 'puh\\n', 'horatio\\nwhy', 'trace', 'stopping', 'bunghole\\n', 'consider', 'curiously', 'consi\\n', 'th\\nwith', 'likeliehood', 'a\\nalexander', 'died', 'make\\nlome', 'lome', 'conue\\n', 'stopp', 'beerebarrell\\n', 'clay\\n', 'hole', 'patch', 'wall', 'expell', 'winters', 'flaw\\n', 'aside', 'king\\nenter', 'coffin', 'lo\\n', 'maimed', 'rites', 'betoken\\n', 'disperate', 'estate\\n', 'cerimony', 'priest', 'obsequies', 'inlargd\\n', 'warrantie', 'doubtfull\\n', 'oreswaies', 'vnsanctified', 'lodgd\\n', 'charitable', 'praier\\nshardes', 'flints', 'peebles', 'throwne', 'allowed', 'virgin', 'rites\\n', 'strewments', 'bringing', 'prophane', 'sage', 'requiem', 'peaceparted', 'vnpolluted', 'flesh\\n', 'churlish', 'priest\\n', 'ministring', 'liest', 'howling\\n', 'sweets', 'hopd', 'bridebed', 'deckt', 'maid\\n', 'strewd', 'terrible', 'woer\\n', 'trebble', 'ingenious', 'depriud', 'leaps', 'pile', 'pelion', 'skyish', 'blew', 'olympus\\n', 'griefes\\n', 'emphasis', 'sorrow\\nconiure', 'wandring', 'wonderwounded', 'deuill', 'praist', 'throat\\n', 'spleenatiue', 'rash\\n', 'dangerous\\n', 'wisenesse', 'asunder\\n', 'gen', 'fight', 'vppon', 'theme\\n', 'vntill', 'eielids', 'wag\\n', 'fortie', 'summe', 'forbeare', 'thoult', 'woot', 'esile', 'eate', 'crocodile\\n', 'whine\\n', 'outface', 'leaping', 'prate', 'throw\\n', 'millions', 'akers', 'sindging', 'zone\\n', 'ossa', 'wart', 'rant', 'female', 'cuplet', 'drooping\\n', 'cat', 'mew', 'dogge', 'him\\nstrengthen', 'push\\n', 'liuing', 'monument\\n', 'proceeding', 'fig\\n', 'lay\\n', 'mutines', 'bilboes', 'rashly\\n', 'rashnesse', 'indiscretion', 'well\\nwhen', 'plots', 'paule', 'ends\\n', 'roughhew', 'certaine\\n', 'cabin\\n', 'seagowne', 'scarft', 'darke\\n', 'gropd', 'fingerd', 'packet', 'withdrew\\n', 'roome', 'bold\\n', 'feares', 'forgetting', 'manners', 'vnseale\\n', 'grand', 'knauery', 'exact', 'seuerall', 'sorts', 'englands', 'hoo', 'bugges', 'goblins', 'superuize', 'leasure', 'bated\\n', 'grinding', 'axe\\n', 'struck', 'ley\\n', 'proceed\\n', 'benetted', 'villaines\\n', 'deuisd', 'wrote', 'statists', 'basenesse', 'write', 'laboured', 'much\\n', 'learning', 'yeomans', 'seriuce', 'wrote\\n', 'earnest', 'coniuration', 'tributary\\nas', 'flou\\n', 'wheaten', 'garland', 'weare\\n', 'comma', 'tweene', 'amities\\n', 'assis', 'view', 'contents\\n', 'debatement', 'lesse\\n', 'bearers', 'shriuing', 'allowed\\n', 'seald\\n', 'ordinate\\n', 'signet', 'purse\\n', 'modell', 'folded', 'subscribd', 'gaut', 'impression', 'plact', 'safely\\n', 'changeling', 'sement\\n', 'impl\\n', 'debate\\n', 'insinuation', 'incensed', 'points\\n', 'opposites\\n', 'thinkst', 'kild', 'whord', 'popt', 'election', 'hopes\\n', 'angle', 'life\\nand', 'coozenage', 'perfect', 'consci\\nto', 'quit', 'euill\\n', 'e\\n', 'interims', 'lifes', 'portraiture', 'brauery', 'griefe', 'towring', 'osricke\\n', 'osr', 'lordship', 'back', 'thank', '\\nknow', 'fertile', 'b\\nbe', 'beasts', 'crib', '\\nmesse', 'chowgh', 'spacious', 'dirt\\n', 'maiesty\\n', 'diligence', 'bonet', 'hot\\n', 'northerly\\n', 'soultry', 'complexion\\n', 'exceedingly', '\\ni', 'laid', 'remember\\n', 'good\\nsir', 'excellence', 'weapon\\n', 'dagger\\n', 'weapons', 'wagd', 'six', 'barb\\nagainst', 'impond', 'sixe', '\\nrapiers', 'poniards', 'assignes', 'gi\\nhangers', 'carriages', 'a\\ndeare', 'fancy', 'responsiue', 'hilts', 'carriages\\n', 'hangers\\n', 'germaine', 'the\\nmatter', 'sides', 'i\\nit', 'hangers', 'swords', '\\nliberall', 'conceited', 'p\\n', 'exceed', 'hits\\nhe', 'com\\nimediate', 'tryall', 'vouchsa\\n', 'answere\\n', 'opposition', 'tryall\\n', 'hall', 'i\\nhis', 'wit\\nthe', 'foyles', 'a\\nking', 'win', '\\nnot', 'gaine', 'odd\\n', 'redeliuer', 'y\\n', 'lapwing', 'runs', 'shell', 'complie', 'dugge', 'hee\\nsuckt', 'same\\nthat', 'drossie', 'dotes', 'only', '\\nthe', 'kin\\nyesty', 'carries', 't\\nthe', 'winnowed', 'opinions', 'tryalls', 'bubbles', 'continuall', 'practice', 'wi\\noddes', 'wouldest', 'foolery', 'kind\\n', 'gaingiuing', 'trouble', 'dislike', 'whit', 'defie', 'augury', 'spe\\nprouidence', 'sparrow', 'n\\nto', '\\nbe', 'readinesse', 'le\\nenter', 'foyles\\n', 'gauntlets', 'flagons', 'wine', 'wrong\\n', 'pardont', 'punisht\\n', 'exception\\n', 'wrongd', 'denies', 'faction', 'wrongd\\n', 'enemy\\n', 'audience\\n', 'disclaiming', 'purposd', 'arrow', 'house\\n', 'hurt', 'satisfied', 'case', 'most\\n', 'aloofe', 'reconcilement\\n', 'elder', 'president', 'vngorgd', 'offerd', 'embrace', 'freely\\n', 'foile', 'ignor\\n', 'skill', 'darkest', 'mocke', 'cousen', 'wager\\n', 'oddes', 'weaker', 'side\\n', 'betterd', 'oddes\\n', 'heauy\\n', 'length\\n', 'osricke', 'stopes', 'hit\\n', 'exchange\\n', 'battlements', 'ordinance', 'cup', 'vnion', 'richer', 'successiue', 'denmarkes', 'worne\\n', 'cups\\n', 'trumpets', 'cannoneer', 'without\\n', 'cannons', 'iudges', 'hit', 'palpable', 'pearle', 'cup\\n', 'bout', 'confesse\\n', 'win\\n', 'scant', 'napkin', 'rub', 'browes\\n', 'carowses', 'poysond', 'thinket\\n', 'conscience\\n', 'third\\n', 'dally\\n', 'affeard', 'way\\n', 'scuffling', 'rapiers\\n', 'incensd\\n', 'bleed', 'woodcocke\\n', 'sprindge', 'treacherie\\n', 'sounds', 'bleede\\n', 'poysond\\n', 'villany', 'lockd\\n', 'treacherie', 'medicine', 'vnbated', 'envenomd', 'practise\\n', 'lye\\n', 'rise', 'hurts', 'treason\\n', 'hurt\\n', 'murdrous\\n', 'potion', 'dyes\\n', 'serud\\n', 'tempred', 'exchange', 'forgiuenesse', 'adiew\\n', 'chance\\n', 'sergeant', 'strickd', 'arrest', 'liust', 'causes', 'vnsatisfied\\n', 'antike', 'roman', 'liquor', 'thart', 'hauet\\n', 'wounded', 'name\\nthings', 'standing', 'vnknowne', 'behin\\n', 'absent', 'felicitie', 'harsh', 'paine\\n', 'storie\\n', 'afarre', 'shout', 'conquest', 'warlik\\n', 'orecrowes', 'dying', 'occurrents', 'solicited', 'cracke', 'prince\\n', 'flights', 'drumme', 'hither\\nenter', 'english', 'ambassador', 'attendants\\n', 'fortin', 'search\\n', 'quarry', 'hauocke', 'cell\\n', 'princes', 'shoote\\n', 'bloodily', 'amb', 'dismall\\n', 'affaires', 'late\\nthe', 'fulfilld\\n', 'abilitie', 'iumpe', 'bloodie', 'polake', 'warres', 'arriued', 'order', 'bodies\\n', 'placed', 'view\\n', 'vnknowing', 'carnall', 'bloudie', 'acts\\n', 'accidentall', 'casuall', 'slaughters\\n', 'deaths', 'vpshot', 'purposes', 'mistooke\\n', 'inuentors', 'noblest', 'kingdome\\n', 'claime', 'doth\\n', 'inuite', 'presently', 'performd\\n', 'whiles', 'mindes', 'lest', 'mischance\\n', 'errors', 'happen\\n', 'captaines\\n', 'likely', 'royally\\n', 'passage\\n', 'souldiours', 'warre\\n', 'lowdly', 'field', 'amis\\n', 'souldiers', 'shoote\\nexeunt', 'marching', 'peale', 'ord\\n', 'finis'])"
      ]
     },
     "execution_count": 179,
     "metadata": {},
     "output_type": "execute_result"
    }
   ],
   "source": [
    "a = counted_text.keys()\n",
    "a"
   ]
  },
  {
   "cell_type": "code",
   "execution_count": 185,
   "metadata": {},
   "outputs": [],
   "source": [
    "d = {\n",
    "       \"class\" : 8 ,\n",
    "       \"id\"  : 123,                # dictionary in form of \"key : value\" pair\n",
    "       \"name\"  : \"jagannath\" }"
   ]
  },
  {
   "cell_type": "code",
   "execution_count": null,
   "metadata": {},
   "outputs": [],
   "source": []
  },
  {
   "cell_type": "code",
   "execution_count": null,
   "metadata": {},
   "outputs": [],
   "source": []
  }
 ],
 "metadata": {
  "kernelspec": {
   "display_name": "Python 3",
   "language": "python",
   "name": "python3"
  },
  "language_info": {
   "codemirror_mode": {
    "name": "ipython",
    "version": 3
   },
   "file_extension": ".py",
   "mimetype": "text/x-python",
   "name": "python",
   "nbconvert_exporter": "python",
   "pygments_lexer": "ipython3",
   "version": "3.8.3"
  }
 },
 "nbformat": 4,
 "nbformat_minor": 4
}
